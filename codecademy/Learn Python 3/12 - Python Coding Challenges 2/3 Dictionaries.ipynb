{
 "cells": [
  {
   "cell_type": "code",
   "execution_count": null,
   "id": "7520e35a",
   "metadata": {},
   "outputs": [
    {
     "name": "stdout",
     "output_type": "stream",
     "text": [
      "10\n",
      "6\n"
     ]
    }
   ],
   "source": [
    "# 1. Sum Values\n",
    "\n",
    "def sum_values(dictionary):\n",
    "  sum = 0\n",
    "    # Iterate through the dictionary and add each value to sum\n",
    "    # \"dictionary[key]\"\" is the value for the key in the dictionary\n",
    "  for key in dictionary:\n",
    "    sum += dictionary[key]\n",
    "  return sum\n",
    "\n",
    "print(sum_values({\"milk\":5, \"eggs\":2, \"flour\": 3})) # should print 10\n",
    "print(sum_values({10:1, 100:2, 1000:3})) # should print 6"
   ]
  },
  {
   "cell_type": "code",
   "execution_count": 4,
   "id": "fddc6e19",
   "metadata": {},
   "outputs": [
    {
     "name": "stdout",
     "output_type": "stream",
     "text": [
      "2\n",
      "6\n"
     ]
    }
   ],
   "source": [
    "# 2. Even Keys\n",
    "\n",
    "def sum_even_keys(my_dictionary):\n",
    "    sum = 0\n",
    "    # Iterate through the dictionary and add each value to sum\n",
    "    # \"dictionary[key]\"\" is the value for the key in the dictionary\n",
    "    for key in my_dictionary:\n",
    "        # Check if the key is even\n",
    "        if key % 2 == 0:\n",
    "            # If it is even, add the value to sum\n",
    "            sum += my_dictionary[key]\n",
    "        # If it is not even, do nothing and continue to the next key\n",
    "        else:\n",
    "            continue\n",
    "    return sum\n",
    "\n",
    "print(sum_even_keys({1:5, 2:2, 3:3})) # should print 2\n",
    "print(sum_even_keys({10:1, 100:2, 1000:3})) # should print 6"
   ]
  },
  {
   "cell_type": "code",
   "execution_count": null,
   "id": "954bd78c",
   "metadata": {},
   "outputs": [
    {
     "name": "stdout",
     "output_type": "stream",
     "text": [
      "{1: 15, 2: 12, 3: 13}\n",
      "{10: 11, 100: 12, 1000: 13}\n"
     ]
    }
   ],
   "source": [
    "# 3. Add Ten\n",
    "def add_ten(my_dictionary):\n",
    "  # Iterate through the dictionary\n",
    "  for key in my_dictionary:\n",
    "    # Add 10 to the value for the key in the dictionary\n",
    "    my_dictionary[key] = my_dictionary[key] + 10\n",
    "  return my_dictionary\n",
    "\n",
    "print(add_ten({1:5, 2:2, 3:3})) # should print {1:15, 2:12, 3:13}\n",
    "print(add_ten({10:1, 100:2, 1000:3})) # should print {10:11, 100:12, 1000:13}"
   ]
  },
  {
   "cell_type": "code",
   "execution_count": 9,
   "id": "b133c538",
   "metadata": {},
   "outputs": [
    {
     "name": "stdout",
     "output_type": "stream",
     "text": [
      "[1, 4]\n",
      "['a']\n"
     ]
    }
   ],
   "source": [
    "# 4. Values That Are Keys\n",
    "\n",
    "def values_that_are_keys(my_dictionary):\n",
    "  # Set up an empty list to hold the values that are also keys\n",
    "  kv_list = []\n",
    "  # Iterate through the values in the dictionary\n",
    "  for value in my_dictionary.values():\n",
    "    # Check if the value is also a key in the dictionary\n",
    "    if value in my_dictionary:\n",
    "      # If it is, add it to the list  \n",
    "      kv_list.append(value)\n",
    "    # If it is not, do nothing and continue to the next value\n",
    "    else:\n",
    "      continue\n",
    "  return kv_list\n",
    "\n",
    "print(values_that_are_keys({1:100, 2:1, 3:4, 4:10})) # should print [1, 4]\n",
    "print(values_that_are_keys({\"a\":\"apple\", \"b\":\"a\", \"c\":100})) # should print [\"a\"]"
   ]
  },
  {
   "cell_type": "code",
   "execution_count": null,
   "id": "4f9cb131",
   "metadata": {},
   "outputs": [
    {
     "name": "stdout",
     "output_type": "stream",
     "text": [
      "1\n",
      "c\n"
     ]
    }
   ],
   "source": [
    "# 5. Largest Value\n",
    "\n",
    "def max_key(my_dictionary):\n",
    "  # Set up a variable as an exceedinly low value (i.e., float of negative infinity)\n",
    "  # As the program iterates through the dictionary, it will find a value greater than this\n",
    "  max_key = float(\"-inf\")\n",
    "  max_value = float(\"-inf\")\n",
    "  # Iterate through the dictionary using the items() method to get both keys and values\n",
    "  for key,value in my_dictionary.items():\n",
    "    # Check if the value is greater than the current max_value\n",
    "    if my_dictionary[key] > max_value:\n",
    "      # If it is, set max_value to the value and max_key to the key\n",
    "      max_key = key\n",
    "      max_value = value\n",
    "    else:\n",
    "      # If it is not, do nothing and continue to the next key-value pair\n",
    "      continue\n",
    "  return max_key\n",
    "\n",
    "print(max_key({1:100, 2:1, 3:4, 4:10})) # should print 1\n",
    "print(max_key({\"a\":100, \"b\":10, \"c\":1000})) # should print \"c\""
   ]
  }
 ],
 "metadata": {
  "kernelspec": {
   "display_name": "Python 3",
   "language": "python",
   "name": "python3"
  },
  "language_info": {
   "codemirror_mode": {
    "name": "ipython",
    "version": 3
   },
   "file_extension": ".py",
   "mimetype": "text/x-python",
   "name": "python",
   "nbconvert_exporter": "python",
   "pygments_lexer": "ipython3",
   "version": "3.11.2"
  }
 },
 "nbformat": 4,
 "nbformat_minor": 5
}
