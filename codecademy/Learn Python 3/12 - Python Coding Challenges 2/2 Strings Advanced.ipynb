{
 "cells": [
  {
   "cell_type": "code",
   "execution_count": null,
   "id": "00f51ab1",
   "metadata": {},
   "outputs": [],
   "source": [
    "# 1. Check Name\n",
    "\n",
    "def check_for_name(sentence, name):\n",
    "  sentence_list = sentence.lower().split(\" \")\n",
    "  if name.lower() in sentence_list:\n",
    "    return True\n",
    "  else:\n",
    "    return False\n",
    "\n",
    "print(check_for_name(\"My name is Jamie\", \"Jamie\")) # should print True\n",
    "print(check_for_name(\"My name is jamie\", \"Jamie\")) # should print True\n",
    "print(check_for_name(\"My name is Samantha\", \"Jamie\")) # should print False"
   ]
  },
  {
   "cell_type": "code",
   "execution_count": null,
   "id": "0d812d6f",
   "metadata": {},
   "outputs": [
    {
     "name": "stdout",
     "output_type": "stream",
     "text": [
      "Cdcdm\n",
      "Hlowrd\n",
      "\n"
     ]
    }
   ],
   "source": [
    "# 2. Every Other Letter\n",
    "\n",
    "def every_other_letter(word):\n",
    "  result = \"\"\n",
    "  for character in range(0,len(word), 2):\n",
    "    result += word[character]\n",
    "  return result\n",
    "\n",
    "print(every_other_letter(\"Codecademy\")) # should print Cdcdm\n",
    "print(every_other_letter(\"Hello world!\")) # should print Hlowrd\n",
    "print(every_other_letter(\"\")) # should print "
   ]
  },
  {
   "cell_type": "code",
   "execution_count": null,
   "id": "0f32df65",
   "metadata": {},
   "outputs": [
    {
     "name": "stdout",
     "output_type": "stream",
     "text": [
      "Codecademy\n",
      "ymedacedo\n",
      "Hello world!\n",
      "!dlrow olle\n",
      "\n",
      "\n"
     ]
    }
   ],
   "source": [
    "# 3. Reverse\n",
    "\n",
    "def reverse_string(word):\n",
    "    # print the word to be reversed\n",
    "    print(word)\n",
    "    # set the variable reversed_word to an empty string\n",
    "    reversed_word = \"\"\n",
    "    # iterate through the word backwards using a for loop\n",
    "    # range accepts three arguments: start, stop, and step\n",
    "        # start at the last character in the word (len(word) - 1)\n",
    "        # stop at the first character in the word (-1 to include the final character in the original word)\n",
    "        # step backwards through the word (-1)\n",
    "    for character in range(len(word) - 1, -, -1):\n",
    "        # add each character to the empty string reversed_word\n",
    "        reversed_word += word[character]\n",
    "    return reversed_word\n",
    "\n",
    "print(reverse_string(\"Codecademy\")) # should print ymedacedoC\n",
    "print(reverse_string(\"Hello world!\")) # should print !dlrow olleH\n",
    "print(reverse_string(\"\")) # should print"
   ]
  },
  {
   "cell_type": "code",
   "execution_count": 5,
   "id": "9ce8670d",
   "metadata": {},
   "outputs": [
    {
     "name": "stdout",
     "output_type": "stream",
     "text": [
      "Codecademy Learn\n",
      "Lodecademy Cearn\n",
      "Hello world!\n",
      "wello Horld!\n",
      "a b\n",
      "b a\n"
     ]
    }
   ],
   "source": [
    "# 4. Make Spoonerism\n",
    "\n",
    "def make_spoonerism(word1,word2):\n",
    "  print(word1, word2)\n",
    "  ms1 = word2[0] + word1[1:len(word1)]\n",
    "  ms2 = word1[0] + word2[1:len(word2)]\n",
    "  new_statement = f\"{ms1} {ms2}\"\n",
    "  return new_statement  \n",
    "\n",
    "print(make_spoonerism(\"Codecademy\", \"Learn\")) # should print Lodecademy Cearn\n",
    "print(make_spoonerism(\"Hello\", \"world!\")) # should print wello Horld!\n",
    "print(make_spoonerism(\"a\", \"b\")) # should print b a"
   ]
  },
  {
   "cell_type": "code",
   "execution_count": null,
   "id": "cf36d845",
   "metadata": {},
   "outputs": [],
   "source": [
    "# 5. Add Exclamation\n",
    "\n",
    "def add_exclamation(word):\n",
    "  # Check if the length of the word is greater than or equal to 20\n",
    "  if len(word) >= 20:\n",
    "    return word\n",
    "  # Check if the length of the word is less than 20\n",
    "  # If it is, add exclamation points to the end of the word until it reaches 20 characters\n",
    "  else:\n",
    "    while len(word) < 20:\n",
    "      word += \"!\"\n",
    "    return word\n",
    "\n",
    "\n",
    "print(add_exclamation(\"Codecademy\")) # should print Codecademy!!!!!!!!!!\n",
    "print(add_exclamation(\"Codecademy is the best place to learn\")) # should print Codecademy is the best place to learn"
   ]
  }
 ],
 "metadata": {
  "kernelspec": {
   "display_name": "Python 3",
   "language": "python",
   "name": "python3"
  },
  "language_info": {
   "codemirror_mode": {
    "name": "ipython",
    "version": 3
   },
   "file_extension": ".py",
   "mimetype": "text/x-python",
   "name": "python",
   "nbconvert_exporter": "python",
   "pygments_lexer": "ipython3",
   "version": "3.11.2"
  }
 },
 "nbformat": 4,
 "nbformat_minor": 5
}
