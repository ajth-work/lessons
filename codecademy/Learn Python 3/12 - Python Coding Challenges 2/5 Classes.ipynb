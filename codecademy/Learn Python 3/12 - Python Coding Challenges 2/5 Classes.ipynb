{
 "cells": [
  {
   "cell_type": "code",
   "execution_count": 7,
   "id": "4b5b0d7d",
   "metadata": {},
   "outputs": [
    {
     "name": "stdout",
     "output_type": "stream",
     "text": [
      "5\n",
      "90\n",
      "10\n"
     ]
    }
   ],
   "source": [
    "# 1. Setting Up Our Robot\n",
    "\n",
    "# Initialize class DriveBot with 0 values for motor_speed, sensor_range, and direction \n",
    "class DriveBot:\n",
    "  def __init__(self):\n",
    "    self.motor_speed = 0\n",
    "    self.sensor_range = 0\n",
    "    self.direction = 0\n",
    "\n",
    "# Create an instance of the DriveBot class\n",
    "robot_1 = DriveBot()\n",
    "\n",
    "# Update the robot's attributes\n",
    "robot_1.motor_speed = 5\n",
    "robot_1.direction = 90\n",
    "robot_1.sensor_range = 10\n",
    "\n",
    "# Print the robot's attributes to verify they are set correctly\n",
    "print(robot_1.motor_speed)\n",
    "print(robot_1.direction)\n",
    "print(robot_1.sensor_range)"
   ]
  },
  {
   "cell_type": "code",
   "execution_count": 8,
   "id": "0846e72b",
   "metadata": {},
   "outputs": [
    {
     "name": "stdout",
     "output_type": "stream",
     "text": [
      "10\n",
      "180\n",
      "20\n"
     ]
    }
   ],
   "source": [
    "# 2. Adding Robot Logic\n",
    "\n",
    "class DriveBot:\n",
    "    # Initializes the speed, direction, and sensor range\n",
    "    def __init__(self):\n",
    "        self.motor_speed = 0\n",
    "        self.direction = 0\n",
    "        self.sensor_range = 0\n",
    "    # Updates speed and direction\n",
    "    def control_bot(self, new_speed, new_direction):\n",
    "      self.motor_speed = new_speed\n",
    "      self.direction = new_direction\n",
    "    # Updates sensor range\n",
    "    def adjust_sensor(self, new_sensor_range):\n",
    "      self.sensor_range = new_sensor_range\n",
    "\n",
    "robot_1 = DriveBot()\n",
    "\n",
    "# Test method implementation\n",
    "robot_1.control_bot(10,180)\n",
    "robot_1.adjust_sensor(20)\n",
    "\n",
    "print(robot_1.motor_speed)\n",
    "print(robot_1.direction)\n",
    "print(robot_1.sensor_range)"
   ]
  },
  {
   "cell_type": "code",
   "execution_count": 9,
   "id": "f7dc0e07",
   "metadata": {},
   "outputs": [
    {
     "name": "stdout",
     "output_type": "stream",
     "text": [
      "35\n",
      "75\n",
      "25\n"
     ]
    }
   ],
   "source": [
    "# 3. Enhanced Constructor\n",
    "\n",
    "class DriveBot:\n",
    "    # Add motor_speed, direction, and sensor_range parameters with default values\n",
    "    def __init__(self, motor_speed = 0, direction = 180, sensor_range = 10):\n",
    "        self.motor_speed = motor_speed # Set the motor speed to the passed value from the constructor\n",
    "        self.direction = direction # Set the direction to the passed value from the constructor\n",
    "        self.sensor_range = sensor_range # Set the sensor range to the passed value from the constructor\n",
    "    \n",
    "    def control_bot(self, new_speed, new_direction):\n",
    "        self.motor_speed = new_speed\n",
    "        self.direction = new_direction\n",
    "\n",
    "    def adjust_sensor(self, new_sensor_range):\n",
    "        self.sensor_range = new_sensor_range\n",
    "\n",
    "robot_1 = DriveBot()\n",
    "robot_1.motor_speed = 5\n",
    "robot_1.direction = 90\n",
    "robot_1.sensor_range = 10\n",
    "\n",
    "# Create robot_2 here!\n",
    "robot_2 = DriveBot(motor_speed=35,direction=75,sensor_range=25)\n",
    "\n",
    "# Print the attributes of robot_2 to verify they are set correctly\n",
    "print(robot_2.motor_speed)\n",
    "print(robot_2.direction)\n",
    "print(robot_2.sensor_range)"
   ]
  },
  {
   "cell_type": "code",
   "execution_count": 10,
   "id": "f4f472a6",
   "metadata": {},
   "outputs": [
    {
     "name": "stdout",
     "output_type": "stream",
     "text": [
      "-50.0\n",
      "50.0\n",
      "True\n"
     ]
    }
   ],
   "source": [
    "# 4. Controlling Them All\n",
    "class DriveBot:\n",
    "  # Set class variables for all robots\n",
    "  all_disabled = False\n",
    "  latitude = -999999\n",
    "  longitude = -999999\n",
    "\n",
    "  def __init__(self, motor_speed = 0, direction = 180, sensor_range = 10):\n",
    "        self.motor_speed = motor_speed\n",
    "        self.direction = direction\n",
    "        self.sensor_range = sensor_range\n",
    "    \n",
    "  def control_bot(self, new_speed, new_direction):\n",
    "        self.motor_speed = new_speed\n",
    "        self.direction = new_direction\n",
    "\n",
    "  def adjust_sensor(self, new_sensor_range):\n",
    "        self.sensor_range = new_sensor_range\n",
    "\n",
    "robot_1 = DriveBot()\n",
    "robot_1.motor_speed = 5\n",
    "robot_1.direction = 90\n",
    "robot_1.sensor_range = 10\n",
    "\n",
    "robot_2 = DriveBot(35, 75, 25)\n",
    "robot_3 = DriveBot(20, 60, 10)\n",
    "\n",
    "# Adjust class variables by using \"DriveBot.variable_name = value\" format\n",
    "DriveBot.longitude = 50.0\n",
    "DriveBot.latitude = -50.0\n",
    "DriveBot.all_disabled = True\n",
    "\n",
    "# Print the class variables for the various robots to verify they are set correctly\n",
    "print(robot_1.latitude)\n",
    "print(robot_2.longitude)\n",
    "print(robot_3.all_disabled)\n"
   ]
  },
  {
   "cell_type": "code",
   "execution_count": 11,
   "id": "7347483a",
   "metadata": {},
   "outputs": [
    {
     "name": "stdout",
     "output_type": "stream",
     "text": [
      "1\n",
      "2\n",
      "3\n"
     ]
    }
   ],
   "source": [
    "# 5. Identifying Robots\n",
    "class DriveBot:\n",
    "    # Set class variables for all robots\n",
    "    robot_count = 0 # Initialize to zero, updated when a new robot is created\n",
    "    all_disabled = False\n",
    "    latitude = -999999\n",
    "    longitude = -999999\n",
    "\n",
    "    def __init__(self, motor_speed = 0, direction = 180, sensor_range = 10):\n",
    "        self.motor_speed = motor_speed\n",
    "        self.direction = direction\n",
    "        self.sensor_range = sensor_range\n",
    "        DriveBot.robot_count += 1 # Update the robot count each time a new robot is created\n",
    "        self.id = DriveBot.robot_count # Assign a unique ID to each robot based on the global robot count\n",
    "    \n",
    "    def control_bot(self, new_speed, new_direction):\n",
    "        self.motor_speed = new_speed\n",
    "        self.direction = new_direction\n",
    "\n",
    "    def adjust_sensor(self, new_sensor_range):\n",
    "        self.sensor_range = new_sensor_range\n",
    "\n",
    "robot_1 = DriveBot()\n",
    "robot_1.motor_speed = 5\n",
    "robot_1.direction = 90\n",
    "robot_1.sensor_range = 10\n",
    "\n",
    "robot_2 = DriveBot(35, 75, 25)\n",
    "robot_3 = DriveBot(20, 60, 10)\n",
    "\n",
    "# Print the unique IDs for each robot to verify they are set correctly\n",
    "print(robot_1.id)\n",
    "print(robot_2.id)\n",
    "print(robot_3.id)\n",
    "\n"
   ]
  }
 ],
 "metadata": {
  "kernelspec": {
   "display_name": "Python 3",
   "language": "python",
   "name": "python3"
  },
  "language_info": {
   "codemirror_mode": {
    "name": "ipython",
    "version": 3
   },
   "file_extension": ".py",
   "mimetype": "text/x-python",
   "name": "python",
   "nbconvert_exporter": "python",
   "pygments_lexer": "ipython3",
   "version": "3.11.2"
  }
 },
 "nbformat": 4,
 "nbformat_minor": 5
}
