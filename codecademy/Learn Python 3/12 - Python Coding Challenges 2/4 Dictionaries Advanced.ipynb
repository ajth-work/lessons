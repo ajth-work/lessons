{
 "cells": [
  {
   "cell_type": "code",
   "execution_count": 1,
   "id": "f8d3aef7",
   "metadata": {},
   "outputs": [
    {
     "name": "stdout",
     "output_type": "stream",
     "text": [
      "{'apple': 5, 'dog': 3, 'cat': 3}\n",
      "{'a': 1, '': 0}\n"
     ]
    }
   ],
   "source": [
    "# 1. Word Length Dict\n",
    "\n",
    "def word_length_dictionary(str_list):\n",
    "  # Set up an empty dictionary to hold the results\n",
    "  new_dict = {}\n",
    "  # Iterate through the list of strings and add each string and its length to the dictionary\n",
    "  for string in str_list:\n",
    "    # Add the string as a key and its length as the value\n",
    "    new_dict[string] = len(string)\n",
    "  return new_dict\n",
    "\n",
    "print(word_length_dictionary([\"apple\", \"dog\", \"cat\"])) # should print {\"apple\":5, \"dog\": 3, \"cat\":3}\n",
    "print(word_length_dictionary([\"a\", \"\"])) # should print {\"a\": 1, \"\": 0}"
   ]
  },
  {
   "cell_type": "code",
   "execution_count": 4,
   "id": "b995e639",
   "metadata": {},
   "outputs": [
    {
     "name": "stdout",
     "output_type": "stream",
     "text": [
      "{'apple': 2, 'cat': 1, 1: 1}\n",
      "{0: 5}\n"
     ]
    }
   ],
   "source": [
    "# 2. Frequency Count\n",
    "\n",
    "def frequency_dictionary(str_list):\n",
    "  # Set up an empty dictionary to hold the results\n",
    "  new_dict = {}\n",
    "  # Iterate through str_list\n",
    "  for string in str_list:\n",
    "    # If the string is not found in str_list, start a counter for that string at 0\n",
    "    if string not in new_dict:\n",
    "      new_dict[string] = 0\n",
    "    # If the string is found in str_list, increment the counter for that string by 1\n",
    "    if string in new_dict:\n",
    "      new_dict[string] += 1\n",
    "  return new_dict\n",
    "\n",
    "print(frequency_dictionary([\"apple\", \"apple\", \"cat\", 1])) # should print {\"apple\":2, \"cat\":1, 1:1}\n",
    "print(frequency_dictionary([0,0,0,0,0])) # should print {0:5}\n"
   ]
  },
  {
   "cell_type": "code",
   "execution_count": null,
   "id": "88dd0caf",
   "metadata": {},
   "outputs": [
    {
     "name": "stdout",
     "output_type": "stream",
     "text": [
      "2\n",
      "1\n"
     ]
    }
   ],
   "source": [
    "# 3. Unique Values\n",
    "\n",
    "def unique_values(my_dictionary):\n",
    "  # Set up an empty list to hold the unique values\n",
    "  unique_list = []\n",
    "  # Iterate through the values in the dictionary using the values() method\n",
    "  for value in my_dictionary.values():\n",
    "    # If the value is not already in the unique_list, add it to the list\n",
    "    if value not in unique_list:\n",
    "      # If the value is not in the list, append it to the list\n",
    "      unique_list.append(value)\n",
    "    else:\n",
    "      # If the value is already in the list, continue to the next iteration\n",
    "      continue\n",
    "  return len(unique_list)\n",
    "\n",
    "\n",
    "print(unique_values({0:3, 1:1, 4:1, 5:3})) # should print 2\n",
    "print(unique_values({0:3, 1:3, 4:3, 5:3})) # should print 1"
   ]
  },
  {
   "cell_type": "code",
   "execution_count": null,
   "id": "10ee3d59",
   "metadata": {},
   "outputs": [
    {
     "name": "stdout",
     "output_type": "stream",
     "text": [
      "{'S': 4, 'L': 3}\n",
      "{'S': 7}\n"
     ]
    }
   ],
   "source": [
    "# 4. Count First Letter\n",
    "\n",
    "def count_first_letter(names):\n",
    "  # Set up an empty dictionary to hold the results\n",
    "  letters = {}\n",
    "  # Iterate through the keys in the dictionary\n",
    "  for key in names:\n",
    "    # If the first letter of the key is not already in the letters dictionary\n",
    "    if key[0] not in letters:\n",
    "      # Add it as key value using the length of the names value list as the value\n",
    "      letters[key[0]] = len(names[key])\n",
    "    # If the first letter of the key is already in the letters dictionary\n",
    "    elif key[0] in letters:\n",
    "      # Increment the value by the length of the names value list\n",
    "      letters[key[0]] += len(names[key])\n",
    "  return letters\n",
    "\n",
    "print(count_first_letter({\"Stark\": [\"Ned\", \"Robb\", \"Sansa\"], \"Snow\" : [\"Jon\"], \"Lannister\": [\"Jaime\", \"Cersei\", \"Tywin\"]}))\n",
    "# should print {\"S\": 4, \"L\": 3}\n",
    "print(count_first_letter({\"Stark\": [\"Ned\", \"Robb\", \"Sansa\"], \"Snow\" : [\"Jon\"], \"Sannister\": [\"Jaime\", \"Cersei\", \"Tywin\"]}))\n",
    "# should print {\"S\": 7}"
   ]
  }
 ],
 "metadata": {
  "kernelspec": {
   "display_name": "Python 3",
   "language": "python",
   "name": "python3"
  },
  "language_info": {
   "codemirror_mode": {
    "name": "ipython",
    "version": 3
   },
   "file_extension": ".py",
   "mimetype": "text/x-python",
   "name": "python",
   "nbconvert_exporter": "python",
   "pygments_lexer": "ipython3",
   "version": "3.11.2"
  }
 },
 "nbformat": 4,
 "nbformat_minor": 5
}
