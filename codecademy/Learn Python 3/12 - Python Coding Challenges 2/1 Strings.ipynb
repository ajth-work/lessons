{
 "cells": [
  {
   "cell_type": "code",
   "execution_count": 2,
   "id": "e8c7163e",
   "metadata": {},
   "outputs": [
    {
     "name": "stdout",
     "output_type": "stream",
     "text": [
      "['m', 'i', 's', 'p']\n",
      "4\n",
      "['A', 'p', 'l', 'e']\n",
      "4\n",
      "['E', 'a', 's', 'e', 'l']\n",
      "5\n"
     ]
    }
   ],
   "source": [
    "# 1. Count Letters\n",
    "\n",
    "letters = \"ABCDEFGHIJKLMNOPQRSTUVWXYZabcdefghijklmnopqrstuvwxyz\"\n",
    "\n",
    "def unique_english_letters(letters):\n",
    "  unique_list = []\n",
    "  for letter in letters:\n",
    "    if letter not in unique_list:\n",
    "      unique_list.append(letter)\n",
    "  print(unique_list)\n",
    "  return len(unique_list)\n",
    "\n",
    "print(unique_english_letters(\"mississippi\")) # should print 4\n",
    "print(unique_english_letters(\"Apple\")) # should print 4\n",
    "print(unique_english_letters(\"Easel\")) # should print 5"
   ]
  },
  {
   "cell_type": "code",
   "execution_count": 3,
   "id": "6263271e",
   "metadata": {},
   "outputs": [
    {
     "name": "stdout",
     "output_type": "stream",
     "text": [
      "4\n",
      "1\n"
     ]
    }
   ],
   "source": [
    "# 2. Count X\n",
    "\n",
    "def count_char_x(word, x):\n",
    "  count_x = 0\n",
    "  for character in word:\n",
    "    if character == x:\n",
    "      count_x += 1\n",
    "  return count_x\n",
    "\n",
    "print(count_char_x(\"mississippi\", \"s\")) # should print 4\n",
    "print(count_char_x(\"mississippi\", \"m\")) # should print 1"
   ]
  },
  {
   "cell_type": "code",
   "execution_count": 7,
   "id": "0548e260",
   "metadata": {},
   "outputs": [
    {
     "name": "stdout",
     "output_type": "stream",
     "text": [
      "The grouping of letters 'iss' appears 2 times in mississippi\n",
      "2\n",
      "The grouping of letters 'pp' appears 1 times in apple\n",
      "1\n"
     ]
    }
   ],
   "source": [
    "# 3. Count Multi X\n",
    "\n",
    "def count_multi_char_x(word, x):\n",
    "  count_x = len(word.split(x)) - 1\n",
    "  print(f\"The grouping of letters '{x}' appears {count_x} times in {word}\")\n",
    "  return count_x\n",
    "\n",
    "\n",
    "\n",
    "print(count_multi_char_x(\"mississippi\", \"iss\")) # should print 2\n",
    "print(count_multi_char_x(\"apple\", \"pp\")) # should print 1\n"
   ]
  },
  {
   "cell_type": "code",
   "execution_count": null,
   "id": "6f0a3b4f",
   "metadata": {},
   "outputs": [],
   "source": [
    "# 4. Substring Between\n"
   ]
  },
  {
   "cell_type": "code",
   "execution_count": null,
   "id": "5584ae2f",
   "metadata": {},
   "outputs": [],
   "source": [
    "# 5. X Length\n"
   ]
  }
 ],
 "metadata": {
  "kernelspec": {
   "display_name": "Python 3",
   "language": "python",
   "name": "python3"
  },
  "language_info": {
   "codemirror_mode": {
    "name": "ipython",
    "version": 3
   },
   "file_extension": ".py",
   "mimetype": "text/x-python",
   "name": "python",
   "nbconvert_exporter": "python",
   "pygments_lexer": "ipython3",
   "version": "3.11.9"
  }
 },
 "nbformat": 4,
 "nbformat_minor": 5
}
