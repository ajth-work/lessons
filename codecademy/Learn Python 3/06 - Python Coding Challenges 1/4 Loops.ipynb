{
 "cells": [
  {
   "cell_type": "code",
   "execution_count": null,
   "id": "74c6ecf9",
   "metadata": {},
   "outputs": [
    {
     "name": "stdout",
     "output_type": "stream",
     "text": [
      "3\n"
     ]
    }
   ],
   "source": [
    "#Write your function here\n",
    "def divisible_by_ten(nums):\n",
    "  count = 0\n",
    "  for num in nums:\n",
    "    if num % 10 == 0:\n",
    "      count += 1\n",
    "    else:\n",
    "      continue\n",
    "  return count\n",
    "\n",
    "#Uncomment the line below when your function is done\n",
    "print(divisible_by_ten([20, 25, 30, 35, 40]))"
   ]
  },
  {
   "cell_type": "code",
   "execution_count": 2,
   "id": "5dc052d8",
   "metadata": {},
   "outputs": [
    {
     "name": "stdout",
     "output_type": "stream",
     "text": [
      "['Hello, Owen', 'Hello, Max', 'Hello, Sophie']\n"
     ]
    }
   ],
   "source": [
    "#Write your function here\n",
    "def add_greetings(names):\n",
    "  greetings = []\n",
    "  for name in names:\n",
    "    greetings.append(\"Hello, \" + name)\n",
    "  return greetings\n",
    "\n",
    "#Uncomment the line below when your function is done\n",
    "print(add_greetings([\"Owen\", \"Max\", \"Sophie\"]))"
   ]
  },
  {
   "cell_type": "code",
   "execution_count": null,
   "id": "083ff490",
   "metadata": {},
   "outputs": [
    {
     "name": "stdout",
     "output_type": "stream",
     "text": [
      "[11, 12, 15]\n",
      "[]\n"
     ]
    }
   ],
   "source": [
    "#Write your function here\n",
    "def delete_starting_evens(my_list):\n",
    "  while (len(my_list) > 0) and (my_list[0] % 2 == 0):\n",
    "    my_list = my_list[1:]\n",
    "  return my_list\n",
    "  \n",
    "#Uncomment the lines below when your function is done\n",
    "print(delete_starting_evens([4, 8, 10, 11, 12, 15]))\n",
    "print(delete_starting_evens([4, 8, 10]))"
   ]
  },
  {
   "cell_type": "code",
   "execution_count": 4,
   "id": "41f9d790",
   "metadata": {},
   "outputs": [
    {
     "name": "stdout",
     "output_type": "stream",
     "text": [
      "[3, 10, -2]\n"
     ]
    }
   ],
   "source": [
    "#Write your function here\n",
    "def odd_indices(my_list):\n",
    "  new_list = []\n",
    "  for item in range(1,len(my_list), 2):\n",
    "    new_list.append(my_list[item])\n",
    "  return new_list\n",
    "\n",
    "#Uncomment the line below when your function is done\n",
    "print(odd_indices([4, 3, 7, 10, 11, -2]))"
   ]
  },
  {
   "cell_type": "code",
   "execution_count": null,
   "id": "1621d7e3",
   "metadata": {},
   "outputs": [],
   "source": [
    "#Write your function here\n",
    "def exponents(bases, powers):\n",
    "  new_list = []\n",
    "  for base in bases:\n",
    "    for power in powers:\n",
    "      new_list.append(base ** power)\n",
    "  return new_list\n",
    "\n",
    "#Uncomment the line below when your function is done\n",
    "print(exponents([2, 3, 4], [1, 2, 3]))"
   ]
  }
 ],
 "metadata": {
  "kernelspec": {
   "display_name": "Python 3",
   "language": "python",
   "name": "python3"
  },
  "language_info": {
   "codemirror_mode": {
    "name": "ipython",
    "version": 3
   },
   "file_extension": ".py",
   "mimetype": "text/x-python",
   "name": "python",
   "nbconvert_exporter": "python",
   "pygments_lexer": "ipython3",
   "version": "3.11.9"
  }
 },
 "nbformat": 4,
 "nbformat_minor": 5
}
