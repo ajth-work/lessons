{
 "cells": [
  {
   "cell_type": "code",
   "execution_count": 3,
   "id": "98d3a77d",
   "metadata": {},
   "outputs": [
    {
     "name": "stdout",
     "output_type": "stream",
     "text": [
      "10\n",
      "20\n",
      "30\n",
      "0\n",
      "0\n",
      "0\n"
     ]
    },
    {
     "data": {
      "text/plain": [
       "0"
      ]
     },
     "execution_count": 3,
     "metadata": {},
     "output_type": "execute_result"
    }
   ],
   "source": [
    "# 1. First Three Multiples\n",
    "\n",
    "def first_three_multiples(num):\n",
    "  print(1 * num)\n",
    "  print(2 * num)\n",
    "  print(3 * num)\n",
    "  return 3 * num\n",
    "\n",
    "first_three_multiples(10) # should print 10, 20, 30, and return 30\n",
    "first_three_multiples(0) # should print 0, 0, 0, and return 0"
   ]
  },
  {
   "cell_type": "code",
   "execution_count": 4,
   "id": "d5715286",
   "metadata": {},
   "outputs": [
    {
     "name": "stdout",
     "output_type": "stream",
     "text": [
      "2.5\n",
      "0.0\n"
     ]
    }
   ],
   "source": [
    "# 2. Tip\n",
    "\n",
    "def tip(total, percentage):\n",
    "  return total * (percentage / 100)\n",
    "\n",
    "print(tip(10, 25)) # should print 2.5\n",
    "print(tip(0, 100)) # should print 0.0"
   ]
  },
  {
   "cell_type": "code",
   "execution_count": 8,
   "id": "93b81917",
   "metadata": {},
   "outputs": [
    {
     "name": "stdout",
     "output_type": "stream",
     "text": [
      "Bond, James Bond\n",
      "Angelou, Maya Angelou\n"
     ]
    }
   ],
   "source": [
    "# 3. Bond, James Bond\n",
    "\n",
    "def introduction(first_name, last_name):\n",
    "  return f\"{last_name}, {first_name} {last_name}\"\n",
    "\n",
    "print(introduction(\"James\", \"Bond\")) # should print Bond, James Bond\n",
    "print(introduction(\"Maya\", \"Angelou\")) # should print Angelou, Maya Angelou\n"
   ]
  },
  {
   "cell_type": "code",
   "execution_count": 9,
   "id": "f8fe7750",
   "metadata": {},
   "outputs": [
    {
     "name": "stdout",
     "output_type": "stream",
     "text": [
      "Lola, you are 112 years old in dog years\n",
      "Baby, you are 0 years old in dog years\n"
     ]
    }
   ],
   "source": [
    "# 4. Dog Years\n",
    "\n",
    "def dog_years(name, age):\n",
    "  dog_age = age * 7\n",
    "  return f\"{name}, you are {dog_age} years old in dog years\"\n",
    "\n",
    "print(dog_years(\"Lola\", 16)) # should print \"Lola, you are 112 years old in dog years\"\n",
    "print(dog_years(\"Baby\", 0)) # should print \"Baby, you are 0 years old in dog years\"\n"
   ]
  },
  {
   "cell_type": "code",
   "execution_count": 10,
   "id": "6d20b37c",
   "metadata": {},
   "outputs": [
    {
     "name": "stdout",
     "output_type": "stream",
     "text": [
      "3\n",
      "-1\n",
      "-3\n",
      "0\n",
      "2\n",
      "0\n",
      "0\n",
      "0\n"
     ]
    }
   ],
   "source": [
    "# 5. All Operations\n",
    "\n",
    "def lots_of_math(a,b,c,d):\n",
    "  first = a + b\n",
    "  print(first)\n",
    "  second = c - d\n",
    "  print(second)\n",
    "  third = first * second\n",
    "  print(third)\n",
    "  return third % a\n",
    "\n",
    "print(lots_of_math(1, 2, 3, 4)) # should print 3, -1, -3, 0\n",
    "print(lots_of_math(1, 1, 1, 1)) # should print 2, 0, 0, 0"
   ]
  }
 ],
 "metadata": {
  "kernelspec": {
   "display_name": "Python 3",
   "language": "python",
   "name": "python3"
  },
  "language_info": {
   "codemirror_mode": {
    "name": "ipython",
    "version": 3
   },
   "file_extension": ".py",
   "mimetype": "text/x-python",
   "name": "python",
   "nbconvert_exporter": "python",
   "pygments_lexer": "ipython3",
   "version": "3.11.9"
  }
 },
 "nbformat": 4,
 "nbformat_minor": 5
}
