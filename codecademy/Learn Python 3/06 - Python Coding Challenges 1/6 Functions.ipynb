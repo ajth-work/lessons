{
 "cells": [
  {
   "cell_type": "code",
   "execution_count": 13,
   "id": "789859bc",
   "metadata": {},
   "outputs": [
    {
     "name": "stdout",
     "output_type": "stream",
     "text": [
      "1\n",
      "0\n",
      "1024\n"
     ]
    }
   ],
   "source": [
    "# 1. Tenth Power\n",
    "\n",
    "def tenth_power(num):\n",
    "  return num ** 10\n",
    "\n",
    "print(tenth_power(1)) # 1 to the 10th power is 1\n",
    "print(tenth_power(0)) # 0 to the 10th power is 0\n",
    "print(tenth_power(2)) # 2 to the 10th power is 1024\n"
   ]
  },
  {
   "cell_type": "code",
   "execution_count": 14,
   "id": "33e6f77a",
   "metadata": {},
   "outputs": [
    {
     "name": "stdout",
     "output_type": "stream",
     "text": [
      "4.0\n",
      "10.0\n"
     ]
    }
   ],
   "source": [
    "# 2. Square Root\n",
    "\n",
    "def square_root(num):\n",
    "  return num ** 0.5 \n",
    "  # Why is 0.5 the square root? The power of 1/2, which is 0.5, is equivalent to the square root of a number\n",
    "  # What about the cube root? The power of 1/3, which is 0.3333, is equivalent to the cube root of a number\n",
    "  # What about the fourth root? The power of 1/4, which is 0.25, is equivalent to the fourth root of a number\n",
    "  # What about the nth root? The power of 1/n is equivalent to the nth root of a number\n",
    "\n",
    "print(square_root(16)) # should print 4\n",
    "print(square_root(100)) # should print 10"
   ]
  },
  {
   "cell_type": "code",
   "execution_count": 15,
   "id": "e273959c",
   "metadata": {},
   "outputs": [
    {
     "name": "stdout",
     "output_type": "stream",
     "text": [
      "50.0\n",
      "100.0\n"
     ]
    }
   ],
   "source": [
    "# 3. Win Percentage\n",
    "\n",
    "def win_percentage(wins, losses):\n",
    "  return 100 * (wins / (wins + losses))\n",
    "\n",
    "print(win_percentage(5, 5)) # should print 50\n",
    "print(win_percentage(10, 0)) # should print 100"
   ]
  },
  {
   "cell_type": "code",
   "execution_count": 16,
   "id": "38666562",
   "metadata": {},
   "outputs": [
    {
     "name": "stdout",
     "output_type": "stream",
     "text": [
      "50.5\n",
      "0.0\n"
     ]
    }
   ],
   "source": [
    "# 4. Average\n",
    "\n",
    "def average(num1, num2):\n",
    "  return (num1 + num2) / 2\n",
    "\n",
    "print(average(1, 100)) # The average of 1 and 100 is 50.5\n",
    "print(average(1, -1)) # The average of 1 and -1 is 0"
   ]
  },
  {
   "cell_type": "code",
   "execution_count": 17,
   "id": "a7f8bbf0",
   "metadata": {},
   "outputs": [
    {
     "name": "stdout",
     "output_type": "stream",
     "text": [
      "2.0\n",
      "0.0\n"
     ]
    }
   ],
   "source": [
    "# 5. Remainder\n",
    "\n",
    "def remainder(num1, num2):\n",
    "  return ((num1 * 2) % (num2 / 2)) \n",
    "\n",
    "print(remainder(15, 14)) # should print 2\n",
    "print(remainder(9, 6)) # should print 0\n"
   ]
  }
 ],
 "metadata": {
  "kernelspec": {
   "display_name": "Python 3",
   "language": "python",
   "name": "python3"
  },
  "language_info": {
   "codemirror_mode": {
    "name": "ipython",
    "version": 3
   },
   "file_extension": ".py",
   "mimetype": "text/x-python",
   "name": "python",
   "nbconvert_exporter": "python",
   "pygments_lexer": "ipython3",
   "version": "3.11.9"
  }
 },
 "nbformat": 4,
 "nbformat_minor": 5
}
