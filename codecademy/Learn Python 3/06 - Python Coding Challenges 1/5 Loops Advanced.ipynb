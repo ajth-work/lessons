{
 "cells": [
  {
   "cell_type": "code",
   "execution_count": null,
   "id": "c87f450a",
   "metadata": {},
   "outputs": [
    {
     "name": "stdout",
     "output_type": "stream",
     "text": [
      "lst1_sum = 15\n",
      "lst2_sum = 12\n",
      "[1, 9, 5]\n"
     ]
    }
   ],
   "source": [
    "# 1. Larger Sum\n",
    "\n",
    "def larger_sum(lst1, lst2):\n",
    "  lst1_sum = 0\n",
    "  for item in lst1:\n",
    "    lst1_sum += item\n",
    "  print(f\"lst1_sum = {lst1_sum}\")\n",
    "  lst2_sum = 0\n",
    "  for item in lst2:\n",
    "    lst2_sum += item\n",
    "  print(f\"lst2_sum = {lst2_sum}\")\n",
    "  if lst1_sum >= lst2_sum:\n",
    "    return lst1\n",
    "  else:\n",
    "    return lst2\n",
    "\n",
    "print(larger_sum([1, 9, 5], [2, 3, 7])) # Expected: [1, 9, 5]"
   ]
  },
  {
   "cell_type": "code",
   "execution_count": null,
   "id": "ef500f68",
   "metadata": {},
   "outputs": [
    {
     "name": "stdout",
     "output_type": "stream",
     "text": [
      "9020\n"
     ]
    }
   ],
   "source": [
    "# 2. Over 9000\n",
    "\n",
    "def over_nine_thousand(lst):\n",
    "  lst_sum = 0\n",
    "  for item in lst:\n",
    "    if lst_sum < 9000:\n",
    "      lst_sum += item\n",
    "  return lst_sum\n",
    "\n",
    "print(over_nine_thousand([8000, 900, 120, 5000])) # Expected: 9020"
   ]
  },
  {
   "cell_type": "code",
   "execution_count": null,
   "id": "dbe37bb7",
   "metadata": {},
   "outputs": [
    {
     "name": "stdout",
     "output_type": "stream",
     "text": [
      "75\n"
     ]
    }
   ],
   "source": [
    "# 3. Max Num\n",
    "\n",
    "def max_num(nums):\n",
    "  max_result = nums[0]\n",
    "  for num in nums:\n",
    "    if num > max_result:\n",
    "      max_result = num\n",
    "    else:\n",
    "      pass\n",
    "  return max_result\n",
    "\n",
    "print(max_num([50, -10, 0, 75, 20])) # Expected: 75"
   ]
  },
  {
   "cell_type": "code",
   "execution_count": null,
   "id": "61a2b6b6",
   "metadata": {},
   "outputs": [
    {
     "name": "stdout",
     "output_type": "stream",
     "text": [
      "[0, 2, 3]\n",
      "Lists of different lengths...\n"
     ]
    }
   ],
   "source": [
    "# 4. Same Values\n",
    "\n",
    "def same_values(lst1, lst2):\n",
    "  if len(lst1) == len(lst2):\n",
    "    new_list = []\n",
    "    for item in range(0, len(lst1)):\n",
    "        if lst1[item] == lst2[item]:\n",
    "          new_list.append(item)\n",
    "    return new_list\n",
    "  else:\n",
    "    return \"Lists of different lengths...\"\n",
    "\n",
    "print(same_values([5, 1, -10, 3, 3], [5, 10, -10, 3, 5])) # Test with same length\n",
    "print(same_values([5, 1, -10, 3, 3], [5, 10, -10, 3])) # Test with different length"
   ]
  },
  {
   "cell_type": "code",
   "execution_count": 5,
   "metadata": {},
   "outputs": [
    {
     "name": "stdout",
     "output_type": "stream",
     "text": [
      "True\n",
      "False\n"
     ]
    }
   ],
   "source": [
    "# 5. Reversed List\n",
    "\n",
    "def reversed_list(lst1, lst2):\n",
    "  index = 0\n",
    "  for item in range(0,len(lst1)):\n",
    "    if lst1[index] == lst2[len(lst2)-1-index]:\n",
    "      index += 1\n",
    "      continue\n",
    "    else:\n",
    "      return False\n",
    "  return True\n",
    "\n",
    "print(reversed_list([1, 2, 3], [3, 2, 1]))\n",
    "print(reversed_list([1, 5, 3], [3, 2, 1]))"
   ]
  }
 ],
 "metadata": {
  "kernelspec": {
   "display_name": "Python 3",
   "language": "python",
   "name": "python3"
  },
  "language_info": {
   "codemirror_mode": {
    "name": "ipython",
    "version": 3
   },
   "file_extension": ".py",
   "mimetype": "text/x-python",
   "name": "python",
   "nbconvert_exporter": "python",
   "pygments_lexer": "ipython3",
   "version": "3.11.2"
  }
 },
 "nbformat": 4,
 "nbformat_minor": 5
}
