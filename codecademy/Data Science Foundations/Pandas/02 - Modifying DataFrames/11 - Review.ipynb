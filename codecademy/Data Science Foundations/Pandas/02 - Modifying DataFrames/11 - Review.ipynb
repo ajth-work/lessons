{
 "cells": [
  {
   "cell_type": "code",
   "execution_count": 4,
   "id": "9aad0b66",
   "metadata": {},
   "outputs": [
    {
     "name": "stdout",
     "output_type": "stream",
     "text": [
      "      id first_name last_name                         email     shoe_type  \\\n",
      "0  54791    Rebecca   Lindsay  RebeccaLindsay57@hotmail.com         clogs   \n",
      "1  53450      Emily     Joyce        EmilyJoyce25@gmail.com  ballet flats   \n",
      "2  91987      Joyce    Waller        Joyce.Waller@gmail.com       sandals   \n",
      "3  14437     Justin  Erickson   Justin.Erickson@outlook.com         clogs   \n",
      "4  79357     Andrew     Banks              AB4318@gmail.com         boots   \n",
      "\n",
      "  shoe_material shoe_color  \n",
      "0  faux-leather      black  \n",
      "1  faux-leather       navy  \n",
      "2        fabric      black  \n",
      "3  faux-leather        red  \n",
      "4       leather      brown  \n"
     ]
    },
    {
     "ename": "AttributeError",
     "evalue": "'Series' object has no attribute 'gender'",
     "output_type": "error",
     "traceback": [
      "\u001b[31m---------------------------------------------------------------------------\u001b[39m",
      "\u001b[31mAttributeError\u001b[39m                            Traceback (most recent call last)",
      "\u001b[32m~\\AppData\\Local\\Temp\\ipykernel_32340\\2230238992.py\u001b[39m in \u001b[36m?\u001b[39m\u001b[34m()\u001b[39m\n\u001b[32m     15\u001b[39m   \u001b[33mf\"Dear Mr. {row.last_name}\"\u001b[39m \\\n\u001b[32m     16\u001b[39m   \u001b[38;5;28;01mif\u001b[39;00m row.gender == \u001b[33m\"male\"\u001b[39m \\\n\u001b[32m     17\u001b[39m   \u001b[38;5;28;01melse\u001b[39;00m \u001b[33mf\"Dear Ms. {row.last_name}\"\u001b[39m\n\u001b[32m     18\u001b[39m \n\u001b[32m---> \u001b[39m\u001b[32m19\u001b[39m orders[\u001b[33m'salutation'\u001b[39m] = orders.apply(salutation, axis=\u001b[32m1\u001b[39m)\n\u001b[32m     20\u001b[39m print(orders)\n",
      "\u001b[32m~\\AppData\\Local\\Packages\\PythonSoftwareFoundation.Python.3.11_qbz5n2kfra8p0\\LocalCache\\local-packages\\Python311\\site-packages\\pandas\\core\\frame.py\u001b[39m in \u001b[36m?\u001b[39m\u001b[34m(self, func, axis, raw, result_type, args, by_row, engine, engine_kwargs, **kwargs)\u001b[39m\n\u001b[32m  10370\u001b[39m             engine_kwargs=engine_kwargs,\n\u001b[32m  10371\u001b[39m             args=args,\n\u001b[32m  10372\u001b[39m             kwargs=kwargs,\n\u001b[32m  10373\u001b[39m         )\n\u001b[32m> \u001b[39m\u001b[32m10374\u001b[39m         \u001b[38;5;28;01mreturn\u001b[39;00m op.apply().__finalize__(self, method=\u001b[33m\"apply\"\u001b[39m)\n",
      "\u001b[32m~\\AppData\\Local\\Packages\\PythonSoftwareFoundation.Python.3.11_qbz5n2kfra8p0\\LocalCache\\local-packages\\Python311\\site-packages\\pandas\\core\\apply.py\u001b[39m in \u001b[36m?\u001b[39m\u001b[34m(self)\u001b[39m\n\u001b[32m    912\u001b[39m         \u001b[38;5;66;03m# raw\u001b[39;00m\n\u001b[32m    913\u001b[39m         \u001b[38;5;28;01melif\u001b[39;00m self.raw:\n\u001b[32m    914\u001b[39m             \u001b[38;5;28;01mreturn\u001b[39;00m self.apply_raw(engine=self.engine, engine_kwargs=self.engine_kwargs)\n\u001b[32m    915\u001b[39m \n\u001b[32m--> \u001b[39m\u001b[32m916\u001b[39m         \u001b[38;5;28;01mreturn\u001b[39;00m self.apply_standard()\n",
      "\u001b[32m~\\AppData\\Local\\Packages\\PythonSoftwareFoundation.Python.3.11_qbz5n2kfra8p0\\LocalCache\\local-packages\\Python311\\site-packages\\pandas\\core\\apply.py\u001b[39m in \u001b[36m?\u001b[39m\u001b[34m(self)\u001b[39m\n\u001b[32m   1061\u001b[39m     \u001b[38;5;28;01mdef\u001b[39;00m apply_standard(self):\n\u001b[32m   1062\u001b[39m         \u001b[38;5;28;01mif\u001b[39;00m self.engine == \u001b[33m\"python\"\u001b[39m:\n\u001b[32m-> \u001b[39m\u001b[32m1063\u001b[39m             results, res_index = self.apply_series_generator()\n\u001b[32m   1064\u001b[39m         \u001b[38;5;28;01melse\u001b[39;00m:\n\u001b[32m   1065\u001b[39m             results, res_index = self.apply_series_numba()\n\u001b[32m   1066\u001b[39m \n",
      "\u001b[32m~\\AppData\\Local\\Packages\\PythonSoftwareFoundation.Python.3.11_qbz5n2kfra8p0\\LocalCache\\local-packages\\Python311\\site-packages\\pandas\\core\\apply.py\u001b[39m in \u001b[36m?\u001b[39m\u001b[34m(self)\u001b[39m\n\u001b[32m   1077\u001b[39m \n\u001b[32m   1078\u001b[39m         \u001b[38;5;28;01mwith\u001b[39;00m option_context(\u001b[33m\"mode.chained_assignment\"\u001b[39m, \u001b[38;5;28;01mNone\u001b[39;00m):\n\u001b[32m   1079\u001b[39m             \u001b[38;5;28;01mfor\u001b[39;00m i, v \u001b[38;5;28;01min\u001b[39;00m enumerate(series_gen):\n\u001b[32m   1080\u001b[39m                 \u001b[38;5;66;03m# ignore SettingWithCopy here in case the user mutates\u001b[39;00m\n\u001b[32m-> \u001b[39m\u001b[32m1081\u001b[39m                 results[i] = self.func(v, *self.args, **self.kwargs)\n\u001b[32m   1082\u001b[39m                 \u001b[38;5;28;01mif\u001b[39;00m isinstance(results[i], ABCSeries):\n\u001b[32m   1083\u001b[39m                     \u001b[38;5;66;03m# If we have a view on v, we need to make a copy because\u001b[39;00m\n\u001b[32m   1084\u001b[39m                     \u001b[38;5;66;03m#  series_generator will swap out the underlying data\u001b[39;00m\n",
      "\u001b[32m~\\AppData\\Local\\Temp\\ipykernel_32340\\2230238992.py\u001b[39m in \u001b[36m?\u001b[39m\u001b[34m(row)\u001b[39m\n\u001b[32m     14\u001b[39m salutation = \u001b[38;5;28;01mlambda\u001b[39;00m row: \\\n\u001b[32m     15\u001b[39m   \u001b[33mf\"Dear Mr. {row.last_name}\"\u001b[39m \\\n\u001b[32m---> \u001b[39m\u001b[32m16\u001b[39m   \u001b[38;5;28;01mif\u001b[39;00m row.gender == \u001b[33m\"male\"\u001b[39m \\\n\u001b[32m     17\u001b[39m   \u001b[38;5;28;01melse\u001b[39;00m \u001b[33mf\"Dear Ms. {row.last_name}\"\u001b[39m\n",
      "\u001b[32m~\\AppData\\Local\\Packages\\PythonSoftwareFoundation.Python.3.11_qbz5n2kfra8p0\\LocalCache\\local-packages\\Python311\\site-packages\\pandas\\core\\generic.py\u001b[39m in \u001b[36m?\u001b[39m\u001b[34m(self, name)\u001b[39m\n\u001b[32m   6295\u001b[39m             \u001b[38;5;28;01mand\u001b[39;00m name \u001b[38;5;28;01mnot\u001b[39;00m \u001b[38;5;28;01min\u001b[39;00m self._accessors\n\u001b[32m   6296\u001b[39m             \u001b[38;5;28;01mand\u001b[39;00m self._info_axis._can_hold_identifiers_and_holds_name(name)\n\u001b[32m   6297\u001b[39m         ):\n\u001b[32m   6298\u001b[39m             \u001b[38;5;28;01mreturn\u001b[39;00m self[name]\n\u001b[32m-> \u001b[39m\u001b[32m6299\u001b[39m         \u001b[38;5;28;01mreturn\u001b[39;00m object.__getattribute__(self, name)\n",
      "\u001b[31mAttributeError\u001b[39m: 'Series' object has no attribute 'gender'"
     ]
    }
   ],
   "source": [
    "import pandas as pd\n",
    "\n",
    "orders = pd.read_csv('..\\_resources\\Pandas - Shoefly.csv')\n",
    "\n",
    "\n",
    "# Task 1\n",
    "print(orders.head())\n",
    "\n",
    "# Task 2\n",
    "shoe_source = lambda x: \"vegan\" if x != \"leather\" else \"animal\"\n",
    "orders['shoe_source'] = orders.shoe_material.apply(shoe_source)\n",
    "\n",
    "# Task 3\n",
    "salutation = lambda row: \\\n",
    "  f\"Dear Mr. {row.last_name}\" \\\n",
    "  if row.gender == \"male\" \\\n",
    "  else f\"Dear Ms. {row.last_name}\"\n",
    "\n",
    "orders['salutation'] = orders.apply(salutation, axis=1)\n",
    "print(orders)"
   ]
  }
 ],
 "metadata": {
  "kernelspec": {
   "display_name": "Python 3",
   "language": "python",
   "name": "python3"
  },
  "language_info": {
   "codemirror_mode": {
    "name": "ipython",
    "version": 3
   },
   "file_extension": ".py",
   "mimetype": "text/x-python",
   "name": "python",
   "nbconvert_exporter": "python",
   "pygments_lexer": "ipython3",
   "version": "3.11.9"
  }
 },
 "nbformat": 4,
 "nbformat_minor": 5
}
