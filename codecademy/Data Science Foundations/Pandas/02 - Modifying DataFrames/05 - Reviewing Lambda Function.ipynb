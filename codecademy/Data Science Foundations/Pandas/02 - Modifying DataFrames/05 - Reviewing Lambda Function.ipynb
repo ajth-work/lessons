{
 "cells": [
  {
   "cell_type": "code",
   "execution_count": 5,
   "id": "e9eb63a3",
   "metadata": {},
   "outputs": [
    {
     "data": {
      "text/plain": [
       "'Tg'"
      ]
     },
     "execution_count": 5,
     "metadata": {},
     "output_type": "execute_result"
    }
   ],
   "source": [
    "mylambda = lambda x: x[0] + x[-1]\n",
    "mylambda(\"This is a string\")"
   ]
  }
 ],
 "metadata": {
  "kernelspec": {
   "display_name": "Python 3",
   "language": "python",
   "name": "python3"
  },
  "language_info": {
   "name": "python",
   "version": "3.11.9"
  }
 },
 "nbformat": 4,
 "nbformat_minor": 5
}
