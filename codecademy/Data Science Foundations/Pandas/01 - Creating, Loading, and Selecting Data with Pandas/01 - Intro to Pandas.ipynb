{
 "cells": [
  {
   "cell_type": "code",
   "execution_count": null,
   "id": "d4b0c598",
   "metadata": {},
   "outputs": [
    {
     "data": {
      "text/plain": [
       "module"
      ]
     },
     "execution_count": 2,
     "metadata": {},
     "output_type": "execute_result"
    }
   ],
   "source": [
    "import numpy as np\n",
    "import pandas as pd"
   ]
  },
  {
   "cell_type": "code",
   "execution_count": 3,
   "id": "dd8aa433",
   "metadata": {},
   "outputs": [
    {
     "name": "stdout",
     "output_type": "stream",
     "text": [
      "list1: [1, 2, 3, 4, 5]\n"
     ]
    }
   ],
   "source": [
    "list1 = [1, 2, 3, 4, 5]\n",
    "\n",
    "print(\"list1:\", list1)"
   ]
  },
  {
   "cell_type": "code",
   "execution_count": 4,
   "id": "58c8e99f",
   "metadata": {},
   "outputs": [
    {
     "name": "stdout",
     "output_type": "stream",
     "text": [
      "array1: [1 2 3 4 5]\n"
     ]
    }
   ],
   "source": [
    "array1 = np.array(list1)\n",
    "print(\"array1:\", array1)"
   ]
  },
  {
   "cell_type": "code",
   "execution_count": 6,
   "id": "53561ad2",
   "metadata": {},
   "outputs": [
    {
     "name": "stdout",
     "output_type": "stream",
     "text": [
      "[[1 2 3]\n",
      " [4 5 6]]\n"
     ]
    }
   ],
   "source": [
    "list2 = [[1,2,3],[4,5,6]]\n",
    "array2 = np.array(list2)\n",
    "print(array2)"
   ]
  },
  {
   "cell_type": "code",
   "execution_count": 7,
   "id": "ae2a871f",
   "metadata": {},
   "outputs": [
    {
     "name": "stdout",
     "output_type": "stream",
     "text": [
      "[3 6 1 4]\n"
     ]
    }
   ],
   "source": [
    "toyPrices = np.array([5,8,3,6])\n",
    "print(toyPrices - 2)"
   ]
  },
  {
   "cell_type": "code",
   "execution_count": 10,
   "id": "60534864",
   "metadata": {},
   "outputs": [
    {
     "name": "stdout",
     "output_type": "stream",
     "text": [
      "[3, 6, 1, 4]\n"
     ]
    }
   ],
   "source": [
    "toyPrices = [5,8,3,6]\n",
    "\n",
    "# print(toyPrices - 2) # Not possible with python lists\n",
    "for i in range(len(toyPrices)):\n",
    "    toyPrices[i] -= 2\n",
    "print(toyPrices)"
   ]
  },
  {
   "cell_type": "code",
   "execution_count": null,
   "id": "0ee9e27e",
   "metadata": {},
   "outputs": [
    {
     "name": "stdout",
     "output_type": "stream",
     "text": [
      "0    13\n",
      "1    25\n",
      "2    19\n",
      "dtype: int32\n"
     ]
    }
   ],
   "source": [
    "# Create a Series using a NumPy array of ages with the default numerical indices\n",
    "ages = np.array([13, 25, 19])\n",
    "series1 = pd.Series(ages)\n",
    "print(series1)"
   ]
  },
  {
   "cell_type": "code",
   "execution_count": 13,
   "id": "2615a2df",
   "metadata": {},
   "outputs": [
    {
     "name": "stdout",
     "output_type": "stream",
     "text": [
      "Emma      13\n",
      "Swetha    25\n",
      "Serajh    19\n",
      "dtype: int32\n"
     ]
    }
   ],
   "source": [
    "# Create a Series using a NumPy array of ages but customize the indices to be the names that correspond to each age\n",
    "ages = np.array([13, 25, 19])\n",
    "series1 = pd.Series(ages, index=[\"Emma\", \"Swetha\", \"Serajh\"])\n",
    "print(series1)"
   ]
  },
  {
   "cell_type": "code",
   "execution_count": 15,
   "id": "fb44d1c9",
   "metadata": {},
   "outputs": [
    {
     "name": "stdout",
     "output_type": "stream",
     "text": [
      "[13 25 19]\n"
     ]
    }
   ],
   "source": [
    "ages = np.array([13, 25, 19])\n",
    "print(ages)"
   ]
  },
  {
   "cell_type": "code",
   "execution_count": null,
   "id": "62ede9b4",
   "metadata": {},
   "outputs": [
    {
     "name": "stdout",
     "output_type": "stream",
     "text": [
      "         name        address  age\n",
      "0  John Smith    123 Main St   34\n",
      "1    Jane Doe  456 Maple Ave   28\n",
      "2   Joe Schmo   789 Broadway   51\n"
     ]
    },
    {
     "data": {
      "text/html": [
       "<div>\n",
       "<style scoped>\n",
       "    .dataframe tbody tr th:only-of-type {\n",
       "        vertical-align: middle;\n",
       "    }\n",
       "\n",
       "    .dataframe tbody tr th {\n",
       "        vertical-align: top;\n",
       "    }\n",
       "\n",
       "    .dataframe thead th {\n",
       "        text-align: right;\n",
       "    }\n",
       "</style>\n",
       "<table border=\"1\" class=\"dataframe\">\n",
       "  <thead>\n",
       "    <tr style=\"text-align: right;\">\n",
       "      <th></th>\n",
       "      <th>address</th>\n",
       "      <th>age</th>\n",
       "    </tr>\n",
       "    <tr>\n",
       "      <th>name</th>\n",
       "      <th></th>\n",
       "      <th></th>\n",
       "    </tr>\n",
       "  </thead>\n",
       "  <tbody>\n",
       "    <tr>\n",
       "      <th>John Smith</th>\n",
       "      <td>123 Main St</td>\n",
       "      <td>34</td>\n",
       "    </tr>\n",
       "    <tr>\n",
       "      <th>Jane Doe</th>\n",
       "      <td>456 Maple Ave</td>\n",
       "      <td>28</td>\n",
       "    </tr>\n",
       "    <tr>\n",
       "      <th>Joe Schmo</th>\n",
       "      <td>789 Broadway</td>\n",
       "      <td>51</td>\n",
       "    </tr>\n",
       "  </tbody>\n",
       "</table>\n",
       "</div>"
      ],
      "text/plain": [
       "                  address  age\n",
       "name                          \n",
       "John Smith    123 Main St   34\n",
       "Jane Doe    456 Maple Ave   28\n",
       "Joe Schmo    789 Broadway   51"
      ]
     },
     "execution_count": 23,
     "metadata": {},
     "output_type": "execute_result"
    }
   ],
   "source": [
    "dataf = pd.DataFrame([\n",
    "    ['John Smith', '123 Main St', 34],\n",
    "    ['Jane Doe', '456 Maple Ave', 28],\n",
    "    ['Joe Schmo', '789 Broadway', 51],\n",
    "    ],\n",
    "    columns=['name', 'address', 'age'])\n",
    "# Print the DataFrame with default numerical indices\n",
    "print(dataf)\n",
    "\n",
    "# Print the DataFrame with a custom index\n",
    "dataf.set_index('name')\n"
   ]
  }
 ],
 "metadata": {
  "kernelspec": {
   "display_name": "Python 3",
   "language": "python",
   "name": "python3"
  },
  "language_info": {
   "codemirror_mode": {
    "name": "ipython",
    "version": 3
   },
   "file_extension": ".py",
   "mimetype": "text/x-python",
   "name": "python",
   "nbconvert_exporter": "python",
   "pygments_lexer": "ipython3",
   "version": "3.11.2"
  }
 },
 "nbformat": 4,
 "nbformat_minor": 5
}
