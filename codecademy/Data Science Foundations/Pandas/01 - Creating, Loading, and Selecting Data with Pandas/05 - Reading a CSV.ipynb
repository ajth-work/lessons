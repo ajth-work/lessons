{
 "cells": [
  {
   "cell_type": "code",
   "execution_count": 1,
   "id": "9f0b86c8",
   "metadata": {},
   "outputs": [
    {
     "name": "stdout",
     "output_type": "stream",
     "text": [
      "             name cake_flavor frosting_flavor             topping\n",
      "0  Chocolate Cake   chocolate       chocolate  chocolate shavings\n",
      "1   Birthday Cake     vanilla         vanilla   rainbow sprinkles\n",
      "2     Carrot Cake      carrot    cream cheese             almonds\n"
     ]
    }
   ],
   "source": [
    "# Import necessary libraries\n",
    "import pandas as pd\n",
    "\n",
    "# Read the CSV file\n",
    "df = pd.read_csv('.\\_resources\\Pandas - Cupcakes.csv')\n",
    "\n",
    "# Display the DataFrame\n",
    "print(df)"
   ]
  }
 ],
 "metadata": {
  "kernelspec": {
   "display_name": "Python 3",
   "language": "python",
   "name": "python3"
  },
  "language_info": {
   "codemirror_mode": {
    "name": "ipython",
    "version": 3
   },
   "file_extension": ".py",
   "mimetype": "text/x-python",
   "name": "python",
   "nbconvert_exporter": "python",
   "pygments_lexer": "ipython3",
   "version": "3.11.2"
  }
 },
 "nbformat": 4,
 "nbformat_minor": 5
}
