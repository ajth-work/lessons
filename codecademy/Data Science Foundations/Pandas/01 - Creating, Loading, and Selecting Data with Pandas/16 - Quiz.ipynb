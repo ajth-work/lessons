{
 "cells": [
  {
   "cell_type": "code",
   "execution_count": null,
   "id": "76b5aae2",
   "metadata": {},
   "outputs": [
    {
     "name": "stdout",
     "output_type": "stream",
     "text": [
      "     name  unit_1_grade  unit_2_grade  Grade for the Year\n",
      "0   Chloe            95            91                  93\n",
      "1   Grace            82            74                  78\n",
      "2  Jeremy            83            89                  86\n",
      "3    Isla            75            84                  81\n"
     ]
    }
   ],
   "source": [
    "import pandas as pd\n",
    "\n",
    "grades = pd.DataFrame({    \n",
    "  'name': ['Chloe', 'Grace', 'Jeremy', 'Isla'],    \n",
    "  'unit_1_grade': [95, 82, 83, 75],\n",
    "  'unit_2_grade': [91, 74, 89, 84],    \n",
    "  # This was added to the DataFrame after it was created to fix the error\n",
    "  'Grade for the Year': [93, 78, 86, 81] })\n",
    "\n",
    "# An error was caused by the missing 4th item in 'Grade for the Year' in the DataFrame\n",
    "print(grades)"
   ]
  },
  {
   "cell_type": "code",
   "execution_count": 13,
   "id": "9f1ec07c",
   "metadata": {},
   "outputs": [
    {
     "name": "stdout",
     "output_type": "stream",
     "text": [
      "              name                  address  age\n",
      "0  Jesse Sternberg           193 6th Avenue   31\n",
      "1       Amy Lauder       546 Marblehead Way   43\n",
      "2  Gerri Sanderson       65 New York Street   35\n",
      "3    Austin Barnes  2888 North Ogden Avenue   28\n",
      "0    31\n",
      "1    43\n",
      "2    35\n",
      "3    28\n",
      "Name: age, dtype: int64\n",
      "0    31\n",
      "1    43\n",
      "2    35\n",
      "3    28\n",
      "Name: age, dtype: int64\n",
      "name          Gerri Sanderson\n",
      "address    65 New York Street\n",
      "age                        35\n",
      "Name: 2, dtype: object\n"
     ]
    }
   ],
   "source": [
    "customers = pd.DataFrame([\n",
    "  ['Jesse Sternberg', '193 6th Avenue', 31],\n",
    "  ['Amy Lauder', '546 Marblehead Way', 43],\n",
    "  ['Gerri Sanderson', '65 New York Street', 35],\n",
    "  ['Austin Barnes', '2888 North Ogden Avenue', 28]],\n",
    "  columns = ['name', 'address', 'age'])\n",
    "\n",
    "# Printing the entire DataFrame\n",
    "print(customers)\n",
    "\n",
    "# Print the column 'age' using the column name\n",
    "print(customers['age'])\n",
    "\n",
    "# Print the column 'age' using the dot notation\n",
    "print(customers.age)\n",
    "\n",
    "# Print third row of the DataFrame using the index and iloc\n",
    "print(customers.iloc[2])\n",
    "\n",
    "# This will cause an error because the column method is not a valid attribute of dataframes\n",
    "# print(customers.column['age'])\n",
    "\n",
    "# This will also cause an error because the column method is not a valid attribute of dataframes\n",
    "# print(customers[customers.column == 'age'])"
   ]
  }
 ],
 "metadata": {
  "kernelspec": {
   "display_name": "Python 3",
   "language": "python",
   "name": "python3"
  },
  "language_info": {
   "codemirror_mode": {
    "name": "ipython",
    "version": 3
   },
   "file_extension": ".py",
   "mimetype": "text/x-python",
   "name": "python",
   "nbconvert_exporter": "python",
   "pygments_lexer": "ipython3",
   "version": "3.11.2"
  }
 },
 "nbformat": 4,
 "nbformat_minor": 5
}
