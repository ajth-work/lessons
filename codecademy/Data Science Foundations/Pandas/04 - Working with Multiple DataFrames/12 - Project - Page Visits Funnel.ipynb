{
 "cells": [
  {
   "cell_type": "code",
   "execution_count": 6,
   "id": "1844da95",
   "metadata": {},
   "outputs": [],
   "source": [
    "import pandas as pd"
   ]
  },
  {
   "cell_type": "code",
   "execution_count": 7,
   "id": "1bf7e666",
   "metadata": {},
   "outputs": [],
   "source": [
    "visits = pd.read_csv('../_resources/Multiple DataFrames/_project/visits.csv',\n",
    "                     parse_dates=[1])\n",
    "cart = pd.read_csv('../_resources/Multiple DataFrames/_project/cart.csv',\n",
    "                   parse_dates=[1])\n",
    "checkout = pd.read_csv('../_resources/Multiple DataFrames/_project/checkout.csv',\n",
    "                       parse_dates=[1])\n",
    "purchase = pd.read_csv('../_resources/Multiple DataFrames/_project/purchase.csv',\n",
    "                       parse_dates=[1])"
   ]
  },
  {
   "cell_type": "code",
   "execution_count": null,
   "id": "04a8b897",
   "metadata": {},
   "outputs": [
    {
     "name": "stdout",
     "output_type": "stream",
     "text": [
      "                                user_id          visit_time\n",
      "0  943647ef-3682-4750-a2e1-918ba6f16188 2017-04-07 15:14:00\n",
      "1  0c3a3dd0-fb64-4eac-bf84-ba069ce409f2 2017-01-26 14:24:00\n",
      "2  6e0b2d60-4027-4d9a-babd-0e7d40859fb1 2017-08-20 08:23:00\n",
      "3  6879527e-c5a6-4d14-b2da-50b85212b0ab 2017-11-04 18:15:00\n",
      "4  a84327ff-5daa-4ba1-b789-d5b4caf81e96 2017-02-27 11:25:00\n",
      "                                user_id           cart_time\n",
      "0  2be90e7c-9cca-44e0-bcc5-124b945ff168 2017-11-07 20:45:00\n",
      "1  4397f73f-1da3-4ab3-91af-762792e25973 2017-05-27 01:35:00\n",
      "2  a9db3d4b-0a0a-4398-a55a-ebb2c7adf663 2017-03-04 10:38:00\n",
      "3  b594862a-36c5-47d5-b818-6e9512b939b3 2017-09-27 08:22:00\n",
      "4  a68a16e2-94f0-4ce8-8ce3-784af0bbb974 2017-07-26 15:48:00\n",
      "                                user_id       checkout_time\n",
      "0  d33bdc47-4afa-45bc-b4e4-dbe948e34c0d 2017-06-25 09:29:00\n",
      "1  4ac186f0-9954-4fea-8a27-c081e428e34e 2017-04-07 20:11:00\n",
      "2  3c9c78a7-124a-4b77-8d2e-e1926e011e7d 2017-07-13 11:38:00\n",
      "3  89fe330a-8966-4756-8f7c-3bdbcd47279a 2017-04-20 16:15:00\n",
      "4  3ccdaf69-2d30-40de-b083-51372881aedd 2017-01-08 20:52:00\n",
      "                                user_id       purchase_time\n",
      "0  4b44ace4-2721-47a0-b24b-15fbfa2abf85 2017-05-11 04:25:00\n",
      "1  02e684ae-a448-408f-a9ff-dcb4a5c99aac 2017-09-05 08:45:00\n",
      "2  4b4bc391-749e-4b90-ab8f-4f6e3c84d6dc 2017-11-20 20:49:00\n",
      "3  a5dbb25f-3c36-4103-9030-9f7c6241cd8d 2017-01-22 15:18:00\n",
      "4  46a3186d-7f5a-4ab9-87af-84d05bfd4867 2017-06-11 11:32:00\n"
     ]
    }
   ],
   "source": [
    "# Task 1 - Print the heads of each dataframe\n",
    "print(visits.head())\n",
    "print(cart.head())\n",
    "print(checkout.head())\n",
    "print(purchase.head())"
   ]
  },
  {
   "cell_type": "code",
   "execution_count": 9,
   "id": "e42358ea",
   "metadata": {},
   "outputs": [],
   "source": [
    "# Task 2 - Evaluating Visit Step\n",
    "v_to_c = pd.merge(visits, cart, how='left')"
   ]
  },
  {
   "cell_type": "code",
   "execution_count": 10,
   "id": "f5be2122",
   "metadata": {},
   "outputs": [
    {
     "name": "stdout",
     "output_type": "stream",
     "text": [
      "2000\n"
     ]
    }
   ],
   "source": [
    "# Task 3\n",
    "print(len(v_to_c))"
   ]
  },
  {
   "cell_type": "code",
   "execution_count": 11,
   "id": "a5e3fdec",
   "metadata": {},
   "outputs": [
    {
     "name": "stdout",
     "output_type": "stream",
     "text": [
      "                                   user_id          visit_time cart_time\n",
      "0     943647ef-3682-4750-a2e1-918ba6f16188 2017-04-07 15:14:00       NaT\n",
      "3     6879527e-c5a6-4d14-b2da-50b85212b0ab 2017-11-04 18:15:00       NaT\n",
      "4     a84327ff-5daa-4ba1-b789-d5b4caf81e96 2017-02-27 11:25:00       NaT\n",
      "5     7bc62113-d51d-4e6b-85e0-1cf29e3de74a 2017-06-03 20:05:00       NaT\n",
      "6     6f22cd44-bc63-4449-a9af-2651859da2f9 2017-03-18 23:09:00       NaT\n",
      "...                                    ...                 ...       ...\n",
      "1995  33913ac2-03da-45ae-8fc3-fea39df827c6 2017-03-25 03:29:00       NaT\n",
      "1996  4f850132-b99d-4623-80e6-6e61d003577e 2017-01-08 09:57:00       NaT\n",
      "1997  f0830b9b-1f5c-4e74-b63d-3f847cc6ce70 2017-09-07 12:56:00       NaT\n",
      "1998  b01bffa7-63ba-4cd3-9d93-eb1477c23831 2017-07-20 04:37:00       NaT\n",
      "1999  0336ca81-8d68-443f-9248-ac0b8ad147d5 2017-11-15 10:11:00       NaT\n",
      "\n",
      "[1652 rows x 3 columns]\n"
     ]
    }
   ],
   "source": [
    "# Task 4\n",
    "countnull = v_to_c[v_to_c.cart_time.isnull()]\n",
    "print(countnull)"
   ]
  },
  {
   "cell_type": "code",
   "execution_count": 12,
   "id": "7acda2d9",
   "metadata": {},
   "outputs": [
    {
     "name": "stdout",
     "output_type": "stream",
     "text": [
      "Cart Drop Off 0.826\n"
     ]
    }
   ],
   "source": [
    "# Task 5 - Evaluating Cart Step\n",
    "percentnull = float(v_to_c.cart_time.isnull().sum()) / float(v_to_c.cart_time.count() + v_to_c.cart_time.isnull().sum())\n",
    "print(\"Cart Drop Off\",percentnull)"
   ]
  },
  {
   "cell_type": "code",
   "execution_count": 13,
   "id": "9a1e694b",
   "metadata": {},
   "outputs": [
    {
     "name": "stdout",
     "output_type": "stream",
     "text": [
      "                                  user_id           cart_time  \\\n",
      "0    2be90e7c-9cca-44e0-bcc5-124b945ff168 2017-11-07 20:45:00   \n",
      "1    2be90e7c-9cca-44e0-bcc5-124b945ff168 2017-11-07 20:45:00   \n",
      "2    2be90e7c-9cca-44e0-bcc5-124b945ff168 2017-11-07 20:45:00   \n",
      "3    4397f73f-1da3-4ab3-91af-762792e25973 2017-05-27 01:35:00   \n",
      "4    a9db3d4b-0a0a-4398-a55a-ebb2c7adf663 2017-03-04 10:38:00   \n",
      "..                                    ...                 ...   \n",
      "477  59d2b685-383a-4fce-a325-35d985713a8b 2017-01-20 03:58:00   \n",
      "478  a1203970-92ae-4fc7-843e-e1740c1be9d5 2017-11-12 23:07:00   \n",
      "479  55de53ae-89f6-43ff-a26d-df284678aca1 2017-03-17 19:56:00   \n",
      "480  0ea4cc68-dae4-4e35-b3e0-f0889932e1b5 2017-05-12 08:53:00   \n",
      "481  0ea4cc68-dae4-4e35-b3e0-f0889932e1b5 2017-05-12 08:53:00   \n",
      "\n",
      "          checkout_time  \n",
      "0   2017-11-07 21:14:00  \n",
      "1   2017-11-07 20:50:00  \n",
      "2   2017-11-07 21:11:00  \n",
      "3                   NaT  \n",
      "4   2017-03-04 11:04:00  \n",
      "..                  ...  \n",
      "477                 NaT  \n",
      "478                 NaT  \n",
      "479 2017-03-17 20:04:00  \n",
      "480 2017-05-12 08:57:00  \n",
      "481 2017-05-12 09:20:00  \n",
      "\n",
      "[482 rows x 3 columns]\n",
      "                                  user_id           cart_time checkout_time\n",
      "3    4397f73f-1da3-4ab3-91af-762792e25973 2017-05-27 01:35:00           NaT\n",
      "6    a68a16e2-94f0-4ce8-8ce3-784af0bbb974 2017-07-26 15:48:00           NaT\n",
      "14   fd80ce93-ae6e-4c0b-9ea4-561f84152026 2017-06-07 01:18:00           NaT\n",
      "26   48a23075-694b-417d-8449-9df921ad95aa 2017-07-09 15:28:00           NaT\n",
      "29   5d7d121a-817c-4b84-b4d6-5388092b9aec 2017-06-10 14:54:00           NaT\n",
      "..                                    ...                 ...           ...\n",
      "469  e1a8574d-1975-4c6a-8020-b3469e4995a5 2017-10-01 20:43:00           NaT\n",
      "471  49d04162-a920-4823-a1f0-9764768c19d1 2017-10-10 10:55:00           NaT\n",
      "472  bf63c84b-53b7-45f6-9dc5-723087c31c1a 2017-04-12 01:34:00           NaT\n",
      "477  59d2b685-383a-4fce-a325-35d985713a8b 2017-01-20 03:58:00           NaT\n",
      "478  a1203970-92ae-4fc7-843e-e1740c1be9d5 2017-11-12 23:07:00           NaT\n",
      "\n",
      "[122 rows x 3 columns]\n",
      "Checkout Drop Off 0.25311203319502074\n"
     ]
    }
   ],
   "source": [
    "# Task 6 - Evaluating Checkout Step\n",
    "ca_to_ch = pd.merge(cart , checkout , how='left')\n",
    "print(ca_to_ch)\n",
    "countnull = ca_to_ch[ca_to_ch.checkout_time.isnull()]\n",
    "print(countnull)\n",
    "percentnull = float(ca_to_ch.checkout_time.isnull().sum()) / float(ca_to_ch.checkout_time.count() + ca_to_ch.checkout_time.isnull().sum())\n",
    "print(\"Checkout Drop Off\",percentnull)"
   ]
  },
  {
   "cell_type": "code",
   "execution_count": 14,
   "id": "13856608",
   "metadata": {},
   "outputs": [
    {
     "name": "stdout",
     "output_type": "stream",
     "text": [
      "                                user_id          visit_time  \\\n",
      "0  943647ef-3682-4750-a2e1-918ba6f16188 2017-04-07 15:14:00   \n",
      "1  0c3a3dd0-fb64-4eac-bf84-ba069ce409f2 2017-01-26 14:24:00   \n",
      "2  6e0b2d60-4027-4d9a-babd-0e7d40859fb1 2017-08-20 08:23:00   \n",
      "3  6879527e-c5a6-4d14-b2da-50b85212b0ab 2017-11-04 18:15:00   \n",
      "4  a84327ff-5daa-4ba1-b789-d5b4caf81e96 2017-02-27 11:25:00   \n",
      "\n",
      "            cart_time       checkout_time       purchase_time  \n",
      "0                 NaT                 NaT                 NaT  \n",
      "1 2017-01-26 14:44:00 2017-01-26 14:54:00 2017-01-26 15:08:00  \n",
      "2 2017-08-20 08:31:00                 NaT                 NaT  \n",
      "3                 NaT                 NaT                 NaT  \n",
      "4                 NaT                 NaT                 NaT  \n"
     ]
    }
   ],
   "source": [
    "# Task 7 - Left Merge all the csv files in order from the funnel design\n",
    "all_data = visits.merge(cart, how='left').merge(checkout, how='left').merge(purchase, how='left')\n",
    "print(all_data.head())"
   ]
  },
  {
   "cell_type": "code",
   "execution_count": 15,
   "id": "2e59882d",
   "metadata": {},
   "outputs": [
    {
     "name": "stdout",
     "output_type": "stream",
     "text": [
      "                                   user_id          visit_time  \\\n",
      "0     943647ef-3682-4750-a2e1-918ba6f16188 2017-04-07 15:14:00   \n",
      "2     6e0b2d60-4027-4d9a-babd-0e7d40859fb1 2017-08-20 08:23:00   \n",
      "3     6879527e-c5a6-4d14-b2da-50b85212b0ab 2017-11-04 18:15:00   \n",
      "4     a84327ff-5daa-4ba1-b789-d5b4caf81e96 2017-02-27 11:25:00   \n",
      "5     7bc62113-d51d-4e6b-85e0-1cf29e3de74a 2017-06-03 20:05:00   \n",
      "...                                    ...                 ...   \n",
      "2367  33913ac2-03da-45ae-8fc3-fea39df827c6 2017-03-25 03:29:00   \n",
      "2368  4f850132-b99d-4623-80e6-6e61d003577e 2017-01-08 09:57:00   \n",
      "2369  f0830b9b-1f5c-4e74-b63d-3f847cc6ce70 2017-09-07 12:56:00   \n",
      "2370  b01bffa7-63ba-4cd3-9d93-eb1477c23831 2017-07-20 04:37:00   \n",
      "2371  0336ca81-8d68-443f-9248-ac0b8ad147d5 2017-11-15 10:11:00   \n",
      "\n",
      "               cart_time checkout_time purchase_time  \n",
      "0                    NaT           NaT           NaT  \n",
      "2    2017-08-20 08:31:00           NaT           NaT  \n",
      "3                    NaT           NaT           NaT  \n",
      "4                    NaT           NaT           NaT  \n",
      "5                    NaT           NaT           NaT  \n",
      "...                  ...           ...           ...  \n",
      "2367                 NaT           NaT           NaT  \n",
      "2368                 NaT           NaT           NaT  \n",
      "2369                 NaT           NaT           NaT  \n",
      "2370                 NaT           NaT           NaT  \n",
      "2371                 NaT           NaT           NaT  \n",
      "\n",
      "[1875 rows x 5 columns]\n",
      "Purchase Drop Off 0.7904721753794266\n"
     ]
    }
   ],
   "source": [
    "# Task 8 - Evaluating Purchase Step\n",
    "countnull = all_data[all_data.purchase_time.isnull()]\n",
    "print(countnull)\n",
    "\n",
    "percentnull = float(all_data.purchase_time.isnull().sum()) / float(all_data.purchase_time.count() + all_data.purchase_time.isnull().sum())\n",
    "print(\"Purchase Drop Off\",percentnull)"
   ]
  },
  {
   "cell_type": "code",
   "execution_count": 16,
   "id": "a378383f",
   "metadata": {},
   "outputs": [],
   "source": [
    "# Task 9\n",
    "# I observe the Visit to Cart step as the weakest part of the funnel with a drop off of 82.6%\n",
    "# I would recommend A/B testing on which items or tactics might trigger the least drop off and keep that item/tactic and consider removing the lesser peforming tactic of the two  "
   ]
  },
  {
   "cell_type": "code",
   "execution_count": 17,
   "id": "71ec2e9f",
   "metadata": {},
   "outputs": [],
   "source": [
    "# Task 10\n",
    "all_data['total_time'] = all_data.purchase_time - all_data.visit_time"
   ]
  },
  {
   "cell_type": "code",
   "execution_count": 18,
   "id": "276e9b8b",
   "metadata": {},
   "outputs": [
    {
     "name": "stdout",
     "output_type": "stream",
     "text": [
      "                                   user_id          visit_time  \\\n",
      "0     943647ef-3682-4750-a2e1-918ba6f16188 2017-04-07 15:14:00   \n",
      "1     0c3a3dd0-fb64-4eac-bf84-ba069ce409f2 2017-01-26 14:24:00   \n",
      "2     6e0b2d60-4027-4d9a-babd-0e7d40859fb1 2017-08-20 08:23:00   \n",
      "3     6879527e-c5a6-4d14-b2da-50b85212b0ab 2017-11-04 18:15:00   \n",
      "4     a84327ff-5daa-4ba1-b789-d5b4caf81e96 2017-02-27 11:25:00   \n",
      "...                                    ...                 ...   \n",
      "2367  33913ac2-03da-45ae-8fc3-fea39df827c6 2017-03-25 03:29:00   \n",
      "2368  4f850132-b99d-4623-80e6-6e61d003577e 2017-01-08 09:57:00   \n",
      "2369  f0830b9b-1f5c-4e74-b63d-3f847cc6ce70 2017-09-07 12:56:00   \n",
      "2370  b01bffa7-63ba-4cd3-9d93-eb1477c23831 2017-07-20 04:37:00   \n",
      "2371  0336ca81-8d68-443f-9248-ac0b8ad147d5 2017-11-15 10:11:00   \n",
      "\n",
      "               cart_time       checkout_time       purchase_time  \\\n",
      "0                    NaT                 NaT                 NaT   \n",
      "1    2017-01-26 14:44:00 2017-01-26 14:54:00 2017-01-26 15:08:00   \n",
      "2    2017-08-20 08:31:00                 NaT                 NaT   \n",
      "3                    NaT                 NaT                 NaT   \n",
      "4                    NaT                 NaT                 NaT   \n",
      "...                  ...                 ...                 ...   \n",
      "2367                 NaT                 NaT                 NaT   \n",
      "2368                 NaT                 NaT                 NaT   \n",
      "2369                 NaT                 NaT                 NaT   \n",
      "2370                 NaT                 NaT                 NaT   \n",
      "2371                 NaT                 NaT                 NaT   \n",
      "\n",
      "          total_time  \n",
      "0                NaT  \n",
      "1    0 days 00:44:00  \n",
      "2                NaT  \n",
      "3                NaT  \n",
      "4                NaT  \n",
      "...              ...  \n",
      "2367             NaT  \n",
      "2368             NaT  \n",
      "2369             NaT  \n",
      "2370             NaT  \n",
      "2371             NaT  \n",
      "\n",
      "[2372 rows x 6 columns]\n"
     ]
    }
   ],
   "source": [
    "# Task 11\n",
    "print(all_data)"
   ]
  },
  {
   "cell_type": "code",
   "execution_count": 19,
   "id": "4009082c",
   "metadata": {},
   "outputs": [
    {
     "name": "stdout",
     "output_type": "stream",
     "text": [
      "0 days 00:43:53.360160965\n"
     ]
    }
   ],
   "source": [
    "# Task 12\n",
    "print(all_data.total_time.mean())"
   ]
  }
 ],
 "metadata": {
  "kernelspec": {
   "display_name": "Python 3",
   "language": "python",
   "name": "python3"
  },
  "language_info": {
   "codemirror_mode": {
    "name": "ipython",
    "version": 3
   },
   "file_extension": ".py",
   "mimetype": "text/x-python",
   "name": "python",
   "nbconvert_exporter": "python",
   "pygments_lexer": "ipython3",
   "version": "3.11.2"
  }
 },
 "nbformat": 4,
 "nbformat_minor": 5
}
