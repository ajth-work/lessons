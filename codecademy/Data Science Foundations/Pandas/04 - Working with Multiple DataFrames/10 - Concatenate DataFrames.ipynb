{
 "cells": [
  {
   "cell_type": "code",
   "execution_count": 3,
   "id": "84c15f56",
   "metadata": {},
   "outputs": [],
   "source": [
    "import pandas as pd\n",
    "\n",
    "ice_cream = pd.read_csv('../_resources/Multiple DataFrames/ice_cream.csv')\n",
    "\n",
    "bakery = pd.read_csv('../_resources/Multiple DataFrames/bakery.csv')"
   ]
  },
  {
   "cell_type": "code",
   "execution_count": 4,
   "id": "2af117e5",
   "metadata": {},
   "outputs": [
    {
     "name": "stdout",
     "output_type": "stream",
     "text": [
      "                              item  price\n",
      "0     scoop of chocolate ice cream   3.00\n",
      "1       scoop of vanilla ice cream   2.95\n",
      "2    scoop of strawberry ice cream   3.05\n",
      "3  scoop of cookie dough ice cream   3.25\n"
     ]
    }
   ],
   "source": [
    "print(ice_cream)"
   ]
  },
  {
   "cell_type": "code",
   "execution_count": 5,
   "id": "7c871b9a",
   "metadata": {},
   "outputs": [
    {
     "name": "stdout",
     "output_type": "stream",
     "text": [
      "                  item  price\n",
      "0               cookie   2.50\n",
      "1              brownie   3.50\n",
      "2        slice of cake   4.75\n",
      "3  slice of cheesecake   4.75\n",
      "4         slice of pie   5.00\n"
     ]
    }
   ],
   "source": [
    "print(bakery)"
   ]
  },
  {
   "cell_type": "code",
   "execution_count": null,
   "id": "d9461f1a",
   "metadata": {},
   "outputs": [],
   "source": [
    "# Task 1 - Concatenate the two DataFrames into a new DataFrame called menu\n",
    "# Concatenated files must have the same column names and respective columnar data types as each other\n",
    "# This technique is useful for combining data from different sources or files into a single DataFrame for analysis.\n",
    "# This is commonly done when files are too large to fit into memory all at once, or when data is collected from different sources and needs to be combined for analysis.\n",
    "menu = pd.concat([bakery,ice_cream])"
   ]
  },
  {
   "cell_type": "code",
   "execution_count": 8,
   "id": "2da9369e",
   "metadata": {},
   "outputs": [
    {
     "name": "stdout",
     "output_type": "stream",
     "text": [
      "                              item  price\n",
      "0                           cookie   2.50\n",
      "1                          brownie   3.50\n",
      "2                    slice of cake   4.75\n",
      "3              slice of cheesecake   4.75\n",
      "4                     slice of pie   5.00\n",
      "0     scoop of chocolate ice cream   3.00\n",
      "1       scoop of vanilla ice cream   2.95\n",
      "2    scoop of strawberry ice cream   3.05\n",
      "3  scoop of cookie dough ice cream   3.25\n"
     ]
    }
   ],
   "source": [
    "# Task 2\n",
    "print(menu)"
   ]
  }
 ],
 "metadata": {
  "kernelspec": {
   "display_name": "Python 3",
   "language": "python",
   "name": "python3"
  },
  "language_info": {
   "codemirror_mode": {
    "name": "ipython",
    "version": 3
   },
   "file_extension": ".py",
   "mimetype": "text/x-python",
   "name": "python",
   "nbconvert_exporter": "python",
   "pygments_lexer": "ipython3",
   "version": "3.11.2"
  }
 },
 "nbformat": 4,
 "nbformat_minor": 5
}
