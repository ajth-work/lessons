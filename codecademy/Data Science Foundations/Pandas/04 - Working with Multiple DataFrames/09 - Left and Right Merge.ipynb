{
 "cells": [
  {
   "cell_type": "code",
   "execution_count": 7,
   "id": "84c15f56",
   "metadata": {},
   "outputs": [],
   "source": [
    "import pandas as pd\n",
    "\n",
    "store_a = pd.read_csv('..\\_resources\\Multiple DataFrames\\store_a.csv')\n",
    "\n",
    "store_b = pd.read_csv('..\\_resources\\Multiple DataFrames\\store_b.csv')"
   ]
  },
  {
   "cell_type": "code",
   "execution_count": 8,
   "id": "2af117e5",
   "metadata": {},
   "outputs": [
    {
     "name": "stdout",
     "output_type": "stream",
     "text": [
      "          item  store_a_inventory\n",
      "0       hammer                 12\n",
      "1  screwdriver                 15\n",
      "2        nails                200\n",
      "3       screws                350\n",
      "4          saw                  6\n",
      "5    duct tape                150\n",
      "6       wrench                 12\n",
      "7     pvc pipe                 54\n"
     ]
    }
   ],
   "source": [
    "print(store_a)"
   ]
  },
  {
   "cell_type": "code",
   "execution_count": 9,
   "id": "7c871b9a",
   "metadata": {},
   "outputs": [
    {
     "name": "stdout",
     "output_type": "stream",
     "text": [
      "            item  store_b_inventory\n",
      "0         hammer                  6\n",
      "1          nails                250\n",
      "2            saw                  6\n",
      "3      duct tape                150\n",
      "4       pvc pipe                 54\n",
      "5           rake                 10\n",
      "6         shovel                 15\n",
      "7  wooden dowels                192\n"
     ]
    }
   ],
   "source": [
    "print(store_b)"
   ]
  },
  {
   "cell_type": "code",
   "execution_count": 10,
   "id": "d9461f1a",
   "metadata": {},
   "outputs": [
    {
     "name": "stdout",
     "output_type": "stream",
     "text": [
      "          item  store_a_inventory  store_b_inventory\n",
      "0       hammer                 12                6.0\n",
      "1  screwdriver                 15                NaN\n",
      "2        nails                200              250.0\n",
      "3       screws                350                NaN\n",
      "4          saw                  6                6.0\n",
      "5    duct tape                150              150.0\n",
      "6       wrench                 12                NaN\n",
      "7     pvc pipe                 54               54.0\n"
     ]
    }
   ],
   "source": [
    "# Left merge on A then B (will only keep all items in A)\n",
    "store_a_b_left = pd.merge(store_a, store_b, how='left')\n",
    "print(store_a_b_left)"
   ]
  },
  {
   "cell_type": "code",
   "execution_count": 11,
   "id": "2da9369e",
   "metadata": {},
   "outputs": [
    {
     "name": "stdout",
     "output_type": "stream",
     "text": [
      "            item  store_b_inventory  store_a_inventory\n",
      "0         hammer                  6               12.0\n",
      "1          nails                250              200.0\n",
      "2            saw                  6                6.0\n",
      "3      duct tape                150              150.0\n",
      "4       pvc pipe                 54               54.0\n",
      "5           rake                 10                NaN\n",
      "6         shovel                 15                NaN\n",
      "7  wooden dowels                192                NaN\n"
     ]
    }
   ],
   "source": [
    "# Left merge on B then A (will only keep all items in B)\n",
    "store_b_a_left = pd.merge(store_b,store_a, how='left')\n",
    "print(store_b_a_left)"
   ]
  },
  {
   "cell_type": "code",
   "execution_count": 12,
   "id": "672fc775",
   "metadata": {},
   "outputs": [],
   "source": [
    "# How are they different?\n",
    "  # Not found in Store_A_B\n",
    "    # Rake\n",
    "    # Shovel\n",
    "    # Wooden Dowels\n",
    "  # Not found in Store_B_A\n",
    "    # Screwdriver\n",
    "    # Screws\n",
    "    # Wrench \n",
    "\n",
    "# How are they the same?\n",
    "  # Both have\n",
    "    # Hammer\n",
    "    # Nails\n",
    "    # Saw\n",
    "    # Duct Tape\n",
    "    # PVC Pipe"
   ]
  }
 ],
 "metadata": {
  "kernelspec": {
   "display_name": "Python 3",
   "language": "python",
   "name": "python3"
  },
  "language_info": {
   "codemirror_mode": {
    "name": "ipython",
    "version": 3
   },
   "file_extension": ".py",
   "mimetype": "text/x-python",
   "name": "python",
   "nbconvert_exporter": "python",
   "pygments_lexer": "ipython3",
   "version": "3.11.2"
  }
 },
 "nbformat": 4,
 "nbformat_minor": 5
}
