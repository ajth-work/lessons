{
 "cells": [
  {
   "cell_type": "code",
   "execution_count": null,
   "id": "84c15f56",
   "metadata": {},
   "outputs": [
    {
     "name": "stdout",
     "output_type": "stream",
     "text": [
      "   order_id  customer_id  product_id  quantity   timestamp  \\\n",
      "0         1            2           3         1  2017-01-01   \n",
      "1         2            2           2         3  2017-01-01   \n",
      "2         3            3           1         1  2017-01-01   \n",
      "3         4            3           2         2  2017-02-01   \n",
      "4         5            3           3         3  2017-02-01   \n",
      "5         6            1           4         2  2017-03-01   \n",
      "6         7            1           1         1  2017-02-02   \n",
      "7         8            1           4         1  2017-02-02   \n",
      "\n",
      "          description  price  \n",
      "0          doo-hickey      7  \n",
      "1  whatcha-ma-call-it     10  \n",
      "2      thing-a-ma-jig      5  \n",
      "3  whatcha-ma-call-it     10  \n",
      "4          doo-hickey      7  \n",
      "5               gizmo      3  \n",
      "6      thing-a-ma-jig      5  \n",
      "7               gizmo      3  \n"
     ]
    }
   ],
   "source": [
    "import pandas as pd\n",
    "\n",
    "orders = pd.read_csv('..\\_resources\\Multiple DataFrames\\orders.csv')\n",
    "\n",
    "products = pd.read_csv('..\\_resources\\Multiple DataFrames\\products.csv')\n",
    "\n",
    "# Task 1\n",
    "orders_products = pd.merge(\n",
    "  orders,\n",
    "  products,\n",
    "  left_on='product_id',\n",
    "  right_on='id',\n",
    "  suffixes=['_orders','_products']\n",
    ")\n",
    "\n",
    "# Task 2\n",
    "print(orders_products)"
   ]
  }
 ],
 "metadata": {
  "kernelspec": {
   "display_name": "Python 3",
   "language": "python",
   "name": "python3"
  },
  "language_info": {
   "codemirror_mode": {
    "name": "ipython",
    "version": 3
   },
   "file_extension": ".py",
   "mimetype": "text/x-python",
   "name": "python",
   "nbconvert_exporter": "python",
   "pygments_lexer": "ipython3",
   "version": "3.11.2"
  }
 },
 "nbformat": 4,
 "nbformat_minor": 5
}
