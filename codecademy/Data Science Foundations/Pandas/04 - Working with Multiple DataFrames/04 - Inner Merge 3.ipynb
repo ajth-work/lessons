{
 "cells": [
  {
   "cell_type": "code",
   "execution_count": 3,
   "id": "dd20e632",
   "metadata": {},
   "outputs": [
    {
     "name": "stdout",
     "output_type": "stream",
     "text": [
      "      month  revenue\n",
      "0   January      300\n",
      "1  February      290\n",
      "2     March      310\n",
      "3     April      325\n",
      "4       May      475\n",
      "5      June      495\n",
      "      month  target\n",
      "0   January     310\n",
      "1  February     270\n",
      "2     March     300\n",
      "3     April     350\n",
      "4       May     475\n",
      "5      June     500\n"
     ]
    }
   ],
   "source": [
    "import pandas as pd\n",
    "\n",
    "sales = pd.read_csv('../_resources/Multiple DataFrames/sales.csv')\n",
    "print(sales)\n",
    "\n",
    "targets = pd.read_csv('../_resources/Multiple DataFrames/targets.csv')\n",
    "print(targets)"
   ]
  },
  {
   "cell_type": "code",
   "execution_count": 4,
   "id": "3739b5b4",
   "metadata": {},
   "outputs": [
    {
     "name": "stdout",
     "output_type": "stream",
     "text": [
      "      month  men  women\n",
      "0   January   30     35\n",
      "1  February   29     35\n",
      "2     March   31     29\n",
      "3     April   32     28\n",
      "4       May   47     50\n",
      "5      June   49     45\n"
     ]
    }
   ],
   "source": [
    "# Task 1\n",
    "men_women = pd.read_csv('../_resources/Multiple DataFrames/men_women_sales.csv')\n",
    "print(men_women)"
   ]
  },
  {
   "cell_type": "code",
   "execution_count": 5,
   "id": "7c820850",
   "metadata": {},
   "outputs": [],
   "source": [
    "# Task 2\n",
    "all_data = sales.merge(targets).merge(men_women)"
   ]
  },
  {
   "cell_type": "code",
   "execution_count": 6,
   "id": "6b5daebb",
   "metadata": {},
   "outputs": [
    {
     "name": "stdout",
     "output_type": "stream",
     "text": [
      "      month  revenue  target  men  women\n",
      "0   January      300     310   30     35\n",
      "1  February      290     270   29     35\n",
      "2     March      310     300   31     29\n",
      "3     April      325     350   32     28\n",
      "4       May      475     475   47     50\n",
      "5      June      495     500   49     45\n"
     ]
    }
   ],
   "source": [
    "# Task 3\n",
    "print(all_data)"
   ]
  },
  {
   "cell_type": "code",
   "execution_count": 7,
   "id": "12a9450f",
   "metadata": {},
   "outputs": [
    {
     "name": "stdout",
     "output_type": "stream",
     "text": [
      "      month  revenue  target  men  women\n",
      "1  February      290     270   29     35\n"
     ]
    }
   ],
   "source": [
    "# Task 4\n",
    "results = all_data[(all_data.revenue > all_data.target) & (all_data.women > all_data.men)]\n",
    "print(results)"
   ]
  }
 ],
 "metadata": {
  "kernelspec": {
   "display_name": "Python 3",
   "language": "python",
   "name": "python3"
  },
  "language_info": {
   "codemirror_mode": {
    "name": "ipython",
    "version": 3
   },
   "file_extension": ".py",
   "mimetype": "text/x-python",
   "name": "python",
   "nbconvert_exporter": "python",
   "pygments_lexer": "ipython3",
   "version": "3.11.2"
  }
 },
 "nbformat": 4,
 "nbformat_minor": 5
}
