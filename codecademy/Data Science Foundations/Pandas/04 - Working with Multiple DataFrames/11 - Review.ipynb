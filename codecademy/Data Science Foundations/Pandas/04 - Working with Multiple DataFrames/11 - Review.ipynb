{
 "cells": [
  {
   "cell_type": "code",
   "execution_count": 1,
   "id": "feacba05",
   "metadata": {},
   "outputs": [],
   "source": [
    "import pandas as pd"
   ]
  },
  {
   "cell_type": "code",
   "execution_count": 2,
   "id": "974b0012",
   "metadata": {},
   "outputs": [],
   "source": [
    "visits = pd.read_csv('../_resources/Multiple DataFrames/visits.csv',\n",
    "                        parse_dates=[1])\n",
    "checkouts = pd.read_csv('../_resources/Multiple DataFrames/checkouts.csv',\n",
    "                        parse_dates=[1])"
   ]
  },
  {
   "cell_type": "code",
   "execution_count": 3,
   "id": "e8d0b72d",
   "metadata": {},
   "outputs": [
    {
     "name": "stdout",
     "output_type": "stream",
     "text": [
      "                                 user_id          visit_time\n",
      "0   319350b4-9951-47ef-b3a7-6b252099905f 2017-02-21 07:16:00\n",
      "1   7435ec9f-576d-4ebd-8791-361b128fca77 2017-05-16 08:37:00\n",
      "2   0b061e73-f709-42fa-8d1a-5f68176ff154 2017-04-12 19:32:00\n",
      "3   9133d6f0-e68b-4c8d-bafd-ff2825e8dafe 2017-08-18 04:32:00\n",
      "4   08d13edb-071c-4cfb-9ee4-8f377d0e932a 2017-07-08 06:24:00\n",
      "..                                   ...                 ...\n",
      "95  442efd1c-8d7b-4d6a-83be-8f2a9e08b34f 2017-02-19 11:20:00\n",
      "96  5679519b-a901-4970-8656-dbf60ffb618d 2017-07-20 04:23:00\n",
      "97  26deb2d5-1d7e-4774-bf6e-1df2ee9ee59d 2017-09-06 07:29:00\n",
      "98  fff8f87a-e4a2-4f2c-b3d4-93a4ece95c4f 2017-06-06 23:42:00\n",
      "99  42617776-2850-431d-9262-a9c11e5ad17f 2017-02-10 10:49:00\n",
      "\n",
      "[100 rows x 2 columns]\n",
      "                                 user_id       checkout_time\n",
      "0   fe90a9f4-960a-4a0d-9160-e562adb79365 2017-11-09 09:25:00\n",
      "1   1a35b7eb-f603-407d-91be-a2c3304066fd 2017-08-15 21:25:00\n",
      "2   e2c24ee0-7fdf-4400-abde-b36378fe5ce6 2017-07-04 15:39:00\n",
      "3   10dbd3c5-d610-44e9-9994-110a7950b6b4 2017-08-09 21:07:00\n",
      "4   f028e9dd-77d0-4002-83f6-372a4837fda6 2017-10-27 08:57:00\n",
      "..                                   ...                 ...\n",
      "75  7fe800cc-46e8-427c-a7af-f27198d305a1 2017-01-18 13:14:00\n",
      "76  43db76fc-d522-450d-a371-ef2a683d5bfd 2017-03-26 21:31:00\n",
      "77  851b52d1-31e9-468d-834f-5363fee108ac 2017-09-21 22:24:00\n",
      "78  7435ec9f-576d-4ebd-8791-361b128fca77 2017-05-16 08:55:00\n",
      "79  319350b4-9951-47ef-b3a7-6b252099905f 2017-02-21 07:40:00\n",
      "\n",
      "[80 rows x 2 columns]\n"
     ]
    }
   ],
   "source": [
    "# Task 1\n",
    "print(visits)\n",
    "print(checkouts)"
   ]
  },
  {
   "cell_type": "code",
   "execution_count": 4,
   "id": "8a9158f3",
   "metadata": {},
   "outputs": [],
   "source": [
    "# Task 2\n",
    "v_to_c = pd.merge(visits, checkouts)"
   ]
  },
  {
   "cell_type": "code",
   "execution_count": 7,
   "id": "e3005011",
   "metadata": {},
   "outputs": [
    {
     "name": "stdout",
     "output_type": "stream",
     "text": [
      "                                 user_id          visit_time  \\\n",
      "0   319350b4-9951-47ef-b3a7-6b252099905f 2017-02-21 07:16:00   \n",
      "1   319350b4-9951-47ef-b3a7-6b252099905f 2017-02-21 07:16:00   \n",
      "2   7435ec9f-576d-4ebd-8791-361b128fca77 2017-05-16 08:37:00   \n",
      "3   7435ec9f-576d-4ebd-8791-361b128fca77 2017-05-16 08:37:00   \n",
      "4   08d13edb-071c-4cfb-9ee4-8f377d0e932a 2017-07-08 06:24:00   \n",
      "..                                   ...                 ...   \n",
      "75  23a8d1be-3f5c-4b59-aed7-c7f19c51612b 2017-08-11 13:49:00   \n",
      "76  8d9ac96c-16be-418e-8df4-1a6202d0b36e 2017-10-07 10:23:00   \n",
      "77  8d9ac96c-16be-418e-8df4-1a6202d0b36e 2017-10-07 10:23:00   \n",
      "78  5679519b-a901-4970-8656-dbf60ffb618d 2017-07-20 04:23:00   \n",
      "79  fff8f87a-e4a2-4f2c-b3d4-93a4ece95c4f 2017-06-06 23:42:00   \n",
      "\n",
      "         checkout_time            time  \n",
      "0  2017-02-21 07:27:00 0 days 00:11:00  \n",
      "1  2017-02-21 07:40:00 0 days 00:24:00  \n",
      "2  2017-05-16 08:49:00 0 days 00:12:00  \n",
      "3  2017-05-16 08:55:00 0 days 00:18:00  \n",
      "4  2017-07-08 06:32:00 0 days 00:08:00  \n",
      "..                 ...             ...  \n",
      "75 2017-08-11 14:11:00 0 days 00:22:00  \n",
      "76 2017-10-07 10:24:00 0 days 00:01:00  \n",
      "77 2017-10-07 10:52:00 0 days 00:29:00  \n",
      "78 2017-07-20 04:24:00 0 days 00:01:00  \n",
      "79 2017-06-07 00:11:00 0 days 00:29:00  \n",
      "\n",
      "[80 rows x 4 columns]\n"
     ]
    }
   ],
   "source": [
    "# Task 3\n",
    "v_to_c['time'] = v_to_c.checkout_time - v_to_c.visit_time\n",
    "print(v_to_c)"
   ]
  },
  {
   "cell_type": "code",
   "execution_count": 6,
   "id": "b126950c",
   "metadata": {},
   "outputs": [
    {
     "name": "stdout",
     "output_type": "stream",
     "text": [
      "0 days 00:15:24.750000\n"
     ]
    }
   ],
   "source": [
    "# Task 4\n",
    "print(v_to_c.time.mean())"
   ]
  }
 ],
 "metadata": {
  "kernelspec": {
   "display_name": "Python 3",
   "language": "python",
   "name": "python3"
  },
  "language_info": {
   "codemirror_mode": {
    "name": "ipython",
    "version": 3
   },
   "file_extension": ".py",
   "mimetype": "text/x-python",
   "name": "python",
   "nbconvert_exporter": "python",
   "pygments_lexer": "ipython3",
   "version": "3.11.2"
  }
 },
 "nbformat": 4,
 "nbformat_minor": 5
}
