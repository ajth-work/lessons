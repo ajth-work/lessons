{
 "cells": [
  {
   "cell_type": "code",
   "execution_count": 2,
   "id": "84c15f56",
   "metadata": {},
   "outputs": [
    {
     "name": "stdout",
     "output_type": "stream",
     "text": [
      "   order_id  customer_id  product_id  quantity   timestamp\n",
      "0         1            2           3         1  2017-01-01\n",
      "1         2            2           2         3  2017-01-01\n",
      "2         3            3           1         1  2017-01-01\n",
      "3         4            3           2         2  2017-02-01\n",
      "4         5            3           3         3  2017-02-01\n",
      "5         6            1           4         2  2017-03-01\n",
      "6         7            1           1         1  2017-02-02\n",
      "7         8            1           4         1  2017-02-02\n",
      "   product_id         description  price\n",
      "0           1      thing-a-ma-jig      5\n",
      "1           2  whatcha-ma-call-it     10\n",
      "2           3          doo-hickey      7\n",
      "3           4               gizmo      3\n",
      "   customer_id customer_name        address  phone_number\n",
      "0            1    John Smith   123 Main St.  212-123-4567\n",
      "1            2      Jane Doe  456 Park Ave.  949-867-5309\n",
      "2            3     Joe Schmo   798 Broadway  112-358-1321\n",
      "thing-a-ma-jig\n",
      "112-358-1321\n"
     ]
    }
   ],
   "source": [
    "import pandas as pd\n",
    "\n",
    "orders = pd.read_csv('..\\_resources\\Multiple DataFrames\\orders.csv')\n",
    "\n",
    "products = pd.read_csv('..\\_resources\\Multiple DataFrames\\products.csv')\n",
    "\n",
    "customers = pd.read_csv('..\\_resources\\Multiple DataFrames\\customers.csv')\n",
    "\n",
    "print(orders)\n",
    "print(products)\n",
    "print(customers)\n",
    "\n",
    "order_3_description = \"thing-a-ma-jig\"\n",
    "print(order_3_description)\n",
    "\n",
    "order_5_phone_number = \"112-358-1321\"\n",
    "print(order_5_phone_number)"
   ]
  }
 ],
 "metadata": {
  "kernelspec": {
   "display_name": "Python 3",
   "language": "python",
   "name": "python3"
  },
  "language_info": {
   "codemirror_mode": {
    "name": "ipython",
    "version": 3
   },
   "file_extension": ".py",
   "mimetype": "text/x-python",
   "name": "python",
   "nbconvert_exporter": "python",
   "pygments_lexer": "ipython3",
   "version": "3.11.2"
  }
 },
 "nbformat": 4,
 "nbformat_minor": 5
}
