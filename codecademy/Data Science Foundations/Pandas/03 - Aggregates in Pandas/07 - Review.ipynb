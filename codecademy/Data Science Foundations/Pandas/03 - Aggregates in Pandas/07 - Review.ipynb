{
 "cells": [
  {
   "cell_type": "code",
   "execution_count": 23,
   "id": "5aed4818",
   "metadata": {},
   "outputs": [],
   "source": [
    "import pandas as pd\n",
    "import numpy as np"
   ]
  },
  {
   "cell_type": "code",
   "execution_count": 24,
   "id": "fbd04490",
   "metadata": {},
   "outputs": [],
   "source": [
    "user_visits = pd.read_csv('..\\_resources\\Pandas - Page_Visits.csv')"
   ]
  },
  {
   "cell_type": "code",
   "execution_count": 25,
   "id": "f7bcf041",
   "metadata": {},
   "outputs": [
    {
     "name": "stdout",
     "output_type": "stream",
     "text": [
      "      id first_name last_name                       email         month  \\\n",
      "0  10043      Louis      Koch       LouisKoch43@gmail.com     3 - March   \n",
      "1  10150      Bruce      Webb     BruceWebb44@outlook.com     3 - March   \n",
      "2  10155   Nicholas   Hoffman  Nicholas.Hoffman@gmail.com  2 - February   \n",
      "3  10178    William       Key     William.Key@outlook.com     3 - March   \n",
      "4  10208      Karen      Bass            KB4971@gmail.com  2 - February   \n",
      "\n",
      "  utm_source  \n",
      "0      yahoo  \n",
      "1    twitter  \n",
      "2     google  \n",
      "3      yahoo  \n",
      "4     google  \n"
     ]
    }
   ],
   "source": [
    "# Task 1 - \n",
    "print(user_visits.head())"
   ]
  },
  {
   "cell_type": "code",
   "execution_count": 26,
   "id": "3029ed23",
   "metadata": {},
   "outputs": [],
   "source": [
    "# Task 2 - Aggregate the data by utm_source\n",
    "click_source = user_visits.groupby('utm_source').id.count().reset_index()"
   ]
  },
  {
   "cell_type": "code",
   "execution_count": 27,
   "id": "291cdc7e",
   "metadata": {},
   "outputs": [
    {
     "name": "stdout",
     "output_type": "stream",
     "text": [
      "  utm_source   id\n",
      "0      email  462\n",
      "1   facebook  823\n",
      "2     google  543\n",
      "3    twitter  415\n",
      "4      yahoo  757\n"
     ]
    }
   ],
   "source": [
    "# Task 3 - Print the number of unique utm_source values\n",
    "print(click_source)"
   ]
  },
  {
   "cell_type": "code",
   "execution_count": 28,
   "id": "46fbf576",
   "metadata": {},
   "outputs": [
    {
     "name": "stdout",
     "output_type": "stream",
     "text": [
      "   utm_source         month   id\n",
      "0       email   1 - January   43\n",
      "1       email  2 - February  147\n",
      "2       email     3 - March  272\n",
      "3    facebook   1 - January  404\n",
      "4    facebook  2 - February  263\n",
      "5    facebook     3 - March  156\n",
      "6      google   1 - January  127\n",
      "7      google  2 - February  196\n",
      "8      google     3 - March  220\n",
      "9     twitter   1 - January  164\n",
      "10    twitter  2 - February  154\n",
      "11    twitter     3 - March   97\n",
      "12      yahoo   1 - January  262\n",
      "13      yahoo  2 - February  240\n",
      "14      yahoo     3 - March  255\n"
     ]
    }
   ],
   "source": [
    "# Task 4 - Group by utm_source and month\n",
    "click_source_by_month = user_visits.groupby(['utm_source','month']).id.count().reset_index()\n",
    "print(click_source_by_month)"
   ]
  },
  {
   "cell_type": "code",
   "execution_count": 29,
   "id": "0ae616d6",
   "metadata": {},
   "outputs": [],
   "source": [
    "# Task 5 - Reorganize the dataframe into a pivot table\n",
    "click_source_by_month_pivot = click_source_by_month.pivot(\n",
    "  columns='month',\n",
    "  index='utm_source',\n",
    "  values='id'\n",
    ").reset_index()"
   ]
  },
  {
   "cell_type": "code",
   "execution_count": 30,
   "id": "c56b558f",
   "metadata": {},
   "outputs": [
    {
     "name": "stdout",
     "output_type": "stream",
     "text": [
      "month utm_source  1 - January  2 - February  3 - March\n",
      "0          email           43           147        272\n",
      "1       facebook          404           263        156\n",
      "2         google          127           196        220\n",
      "3        twitter          164           154         97\n",
      "4          yahoo          262           240        255\n"
     ]
    }
   ],
   "source": [
    "# Task 6 - Print the pivot table\n",
    "print(click_source_by_month_pivot)"
   ]
  }
 ],
 "metadata": {
  "kernelspec": {
   "display_name": "Python 3",
   "language": "python",
   "name": "python3"
  },
  "language_info": {
   "codemirror_mode": {
    "name": "ipython",
    "version": 3
   },
   "file_extension": ".py",
   "mimetype": "text/x-python",
   "name": "python",
   "nbconvert_exporter": "python",
   "pygments_lexer": "ipython3",
   "version": "3.11.2"
  }
 },
 "nbformat": 4,
 "nbformat_minor": 5
}
