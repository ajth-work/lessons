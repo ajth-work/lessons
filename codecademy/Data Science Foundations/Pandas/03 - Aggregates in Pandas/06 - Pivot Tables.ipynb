{
 "cells": [
  {
   "cell_type": "code",
   "execution_count": 2,
   "id": "5aed4818",
   "metadata": {},
   "outputs": [],
   "source": [
    "import pandas as pd\n",
    "import numpy as np"
   ]
  },
  {
   "cell_type": "code",
   "execution_count": 3,
   "id": "fbd04490",
   "metadata": {},
   "outputs": [],
   "source": [
    "orders = pd.read_csv('..\\_resources\\Pandas - Orders.csv')"
   ]
  },
  {
   "cell_type": "code",
   "execution_count": 4,
   "id": "f7bcf041",
   "metadata": {},
   "outputs": [
    {
     "name": "stdout",
     "output_type": "stream",
     "text": [
      "       shoe_type shoe_color  id\n",
      "0   ballet flats      black   2\n",
      "1   ballet flats      brown   5\n",
      "2   ballet flats        red   3\n",
      "3   ballet flats      white   5\n",
      "4          boots      black   3\n",
      "5          boots      brown   5\n",
      "6          boots       navy   6\n",
      "7          boots        red   2\n",
      "8          boots      white   3\n",
      "9          clogs      black   4\n",
      "10         clogs      brown   6\n",
      "11         clogs       navy   1\n",
      "12         clogs        red   4\n",
      "13         clogs      white   1\n",
      "14       sandals      black   1\n",
      "15       sandals      brown   4\n",
      "16       sandals       navy   5\n",
      "17       sandals        red   3\n",
      "18       sandals      white   4\n",
      "19     stilettos      black   5\n",
      "20     stilettos      brown   3\n",
      "21     stilettos       navy   2\n",
      "22     stilettos        red   2\n",
      "23     stilettos      white   2\n",
      "24        wedges      black   3\n",
      "25        wedges      brown   4\n",
      "26        wedges       navy   4\n",
      "27        wedges        red   5\n",
      "28        wedges      white   2\n"
     ]
    }
   ],
   "source": [
    "shoe_counts = orders.groupby(['shoe_type','shoe_color']).id.count().reset_index()\n",
    "\n",
    "# Print shoe_counts for reference\n",
    "print(shoe_counts)"
   ]
  },
  {
   "cell_type": "code",
   "execution_count": 5,
   "id": "28066eb0",
   "metadata": {},
   "outputs": [],
   "source": [
    "# How to use Pivot Tables in Dataframes and Pandas\n",
    "\n",
    "# df.pivot(columns='ColumnToPivot',\n",
    "#         index='ColumnToBeRows',\n",
    "#         values='ColumnToBeValues')\n",
    "\n",
    "# # First use the groupby statement:\n",
    "# unpivoted = df.groupby(['Location', 'Day of Week'])['Total Sales'].mean().reset_index()\n",
    "# # Now pivot the table\n",
    "# pivoted = unpivoted.pivot(\n",
    "#      columns='Day of Week',\n",
    "#      index='Location',\n",
    "#      values='Total Sales')\n"
   ]
  },
  {
   "cell_type": "code",
   "execution_count": 7,
   "id": "46fbf576",
   "metadata": {},
   "outputs": [],
   "source": [
    "# Task 1 - Create a pivot table from the shoe_counts DataFrame\n",
    "shoe_counts_pivot = shoe_counts.pivot(\n",
    "  columns='shoe_color',\n",
    "  index='shoe_type',\n",
    "  values='id'\n",
    ").reset_index()"
   ]
  },
  {
   "cell_type": "code",
   "execution_count": null,
   "id": "c56b558f",
   "metadata": {},
   "outputs": [],
   "source": [
    "# Task 2 - Print the pivot table\n",
    "print(shoe_counts_pivot)"
   ]
  }
 ],
 "metadata": {
  "kernelspec": {
   "display_name": "Python 3",
   "language": "python",
   "name": "python3"
  },
  "language_info": {
   "codemirror_mode": {
    "name": "ipython",
    "version": 3
   },
   "file_extension": ".py",
   "mimetype": "text/x-python",
   "name": "python",
   "nbconvert_exporter": "python",
   "pygments_lexer": "ipython3",
   "version": "3.11.2"
  }
 },
 "nbformat": 4,
 "nbformat_minor": 5
}
