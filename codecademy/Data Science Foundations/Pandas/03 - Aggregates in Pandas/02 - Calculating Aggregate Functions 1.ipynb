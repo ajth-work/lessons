{
 "cells": [
  {
   "cell_type": "code",
   "execution_count": null,
   "id": "5aed4818",
   "metadata": {},
   "outputs": [],
   "source": [
    "import pandas as pd"
   ]
  },
  {
   "cell_type": "code",
   "execution_count": null,
   "id": "fbd04490",
   "metadata": {},
   "outputs": [],
   "source": [
    "orders = pd.read_csv('..\\_resources\\Pandas - Orders.csv')"
   ]
  },
  {
   "cell_type": "code",
   "execution_count": null,
   "id": "da005da4",
   "metadata": {},
   "outputs": [],
   "source": [
    "# Examine the first few rows of the DataFrame\n",
    "print(orders.head())"
   ]
  },
  {
   "cell_type": "code",
   "execution_count": null,
   "id": "f7bcf041",
   "metadata": {},
   "outputs": [],
   "source": [
    "# Task 1 - Use the groupby() method to group the DataFrame by 'shoe_type' and find the maximum price for each shoe type.\n",
    "# df.groupby('column1').column2.measurement()\n",
    "# for example, df.groupby('students').grade.mean()\n",
    "pricey_shoes = orders.groupby('shoe_type').price.max()"
   ]
  },
  {
   "cell_type": "code",
   "execution_count": null,
   "id": "4ec8aa76",
   "metadata": {},
   "outputs": [],
   "source": [
    "# Task 2 - Print the result of the groupby operation.\n",
    "# This will show the maximum price for each shoe type.\n",
    "print(pricey_shoes)"
   ]
  },
  {
   "cell_type": "code",
   "execution_count": null,
   "id": "bf0c23a6",
   "metadata": {},
   "outputs": [],
   "source": [
    "# Task 3 - What type of object is the result of the groupby operation?\n",
    "# The result of the groupby operation is a Series object.\n",
    "# A Series is a one-dimensional labeled array capable of holding any data type.\n",
    "print(type(pricey_shoes))"
   ]
  }
 ],
 "metadata": {
  "kernelspec": {
   "display_name": "Python 3",
   "language": "python",
   "name": "python3"
  },
  "language_info": {
   "name": "python",
   "version": "3.11.2"
  }
 },
 "nbformat": 4,
 "nbformat_minor": 5
}
