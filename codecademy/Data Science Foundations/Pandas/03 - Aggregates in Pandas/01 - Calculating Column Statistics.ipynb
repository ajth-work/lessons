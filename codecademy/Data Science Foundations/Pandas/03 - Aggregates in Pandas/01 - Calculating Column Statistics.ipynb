{
 "cells": [
  {
   "cell_type": "code",
   "execution_count": 1,
   "id": "524cd3d2",
   "metadata": {},
   "outputs": [],
   "source": [
    "import pandas as pd"
   ]
  },
  {
   "cell_type": "code",
   "execution_count": 2,
   "id": "70175ba4",
   "metadata": {},
   "outputs": [],
   "source": [
    "orders = pd.read_csv('..\\_resources\\Pandas - Orders.csv')"
   ]
  },
  {
   "cell_type": "code",
   "execution_count": 3,
   "id": "2956add0",
   "metadata": {},
   "outputs": [
    {
     "data": {
      "application/vnd.microsoft.datawrangler.viewer.v0+json": {
       "columns": [
        {
         "name": "index",
         "rawType": "int64",
         "type": "integer"
        },
        {
         "name": "id",
         "rawType": "int64",
         "type": "integer"
        },
        {
         "name": "first_name",
         "rawType": "object",
         "type": "string"
        },
        {
         "name": "last_name",
         "rawType": "object",
         "type": "string"
        },
        {
         "name": "email",
         "rawType": "object",
         "type": "string"
        },
        {
         "name": "shoe_type",
         "rawType": "object",
         "type": "string"
        },
        {
         "name": "shoe_material",
         "rawType": "object",
         "type": "string"
        },
        {
         "name": "shoe_color",
         "rawType": "object",
         "type": "string"
        },
        {
         "name": "price",
         "rawType": "float64",
         "type": "float"
        }
       ],
       "conversionMethod": "pd.DataFrame",
       "ref": "d2d68ff7-ea31-464e-afc0-fbd90b0552dc",
       "rows": [
        [
         "0",
         "41874",
         "Kyle",
         "Peck",
         "KylePeck71@gmail.com",
         "ballet flats",
         "faux-leather",
         "black",
         "385.0"
        ],
        [
         "1",
         "31349",
         "Elizabeth",
         "Velazquez",
         "EVelazquez1971@gmail.com",
         "boots",
         "fabric",
         "brown",
         "388.0"
        ],
        [
         "2",
         "43416",
         "Keith",
         "Saunders",
         "KS4047@gmail.com",
         "sandals",
         "leather",
         "navy",
         "346.0"
        ],
        [
         "3",
         "56054",
         "Ryan",
         "Sweeney",
         "RyanSweeney14@outlook.com",
         "sandals",
         "fabric",
         "brown",
         "344.0"
        ],
        [
         "4",
         "77402",
         "Donna",
         "Blankenship",
         "DB3807@gmail.com",
         "stilettos",
         "fabric",
         "brown",
         "289.0"
        ],
        [
         "5",
         "97148",
         "Albert",
         "Dillon",
         "Albert.Dillon@gmail.com",
         "wedges",
         "fabric",
         "brown",
         "266.0"
        ],
        [
         "6",
         "19998",
         "Judith",
         "Hewitt",
         "JudithHewitt98@gmail.com",
         "stilettos",
         "leather",
         "black",
         "395.0"
        ],
        [
         "7",
         "83290",
         "Kayla",
         "Hardin",
         "Kayla.Hardin@gmail.com",
         "stilettos",
         "leather",
         "white",
         "241.0"
        ],
        [
         "8",
         "77867",
         "Steven",
         "Blankenship",
         "Steven.Blankenship@gmail.com",
         "wedges",
         "leather",
         "navy",
         "266.0"
        ],
        [
         "9",
         "54885",
         "Carol",
         "Mclaughlin",
         "CM3415@gmail.com",
         "ballet flats",
         "faux-leather",
         "brown",
         "440.0"
        ]
       ],
       "shape": {
        "columns": 8,
        "rows": 10
       }
      },
      "text/html": [
       "<div>\n",
       "<style scoped>\n",
       "    .dataframe tbody tr th:only-of-type {\n",
       "        vertical-align: middle;\n",
       "    }\n",
       "\n",
       "    .dataframe tbody tr th {\n",
       "        vertical-align: top;\n",
       "    }\n",
       "\n",
       "    .dataframe thead th {\n",
       "        text-align: right;\n",
       "    }\n",
       "</style>\n",
       "<table border=\"1\" class=\"dataframe\">\n",
       "  <thead>\n",
       "    <tr style=\"text-align: right;\">\n",
       "      <th></th>\n",
       "      <th>id</th>\n",
       "      <th>first_name</th>\n",
       "      <th>last_name</th>\n",
       "      <th>email</th>\n",
       "      <th>shoe_type</th>\n",
       "      <th>shoe_material</th>\n",
       "      <th>shoe_color</th>\n",
       "      <th>price</th>\n",
       "    </tr>\n",
       "  </thead>\n",
       "  <tbody>\n",
       "    <tr>\n",
       "      <th>0</th>\n",
       "      <td>41874</td>\n",
       "      <td>Kyle</td>\n",
       "      <td>Peck</td>\n",
       "      <td>KylePeck71@gmail.com</td>\n",
       "      <td>ballet flats</td>\n",
       "      <td>faux-leather</td>\n",
       "      <td>black</td>\n",
       "      <td>385.0</td>\n",
       "    </tr>\n",
       "    <tr>\n",
       "      <th>1</th>\n",
       "      <td>31349</td>\n",
       "      <td>Elizabeth</td>\n",
       "      <td>Velazquez</td>\n",
       "      <td>EVelazquez1971@gmail.com</td>\n",
       "      <td>boots</td>\n",
       "      <td>fabric</td>\n",
       "      <td>brown</td>\n",
       "      <td>388.0</td>\n",
       "    </tr>\n",
       "    <tr>\n",
       "      <th>2</th>\n",
       "      <td>43416</td>\n",
       "      <td>Keith</td>\n",
       "      <td>Saunders</td>\n",
       "      <td>KS4047@gmail.com</td>\n",
       "      <td>sandals</td>\n",
       "      <td>leather</td>\n",
       "      <td>navy</td>\n",
       "      <td>346.0</td>\n",
       "    </tr>\n",
       "    <tr>\n",
       "      <th>3</th>\n",
       "      <td>56054</td>\n",
       "      <td>Ryan</td>\n",
       "      <td>Sweeney</td>\n",
       "      <td>RyanSweeney14@outlook.com</td>\n",
       "      <td>sandals</td>\n",
       "      <td>fabric</td>\n",
       "      <td>brown</td>\n",
       "      <td>344.0</td>\n",
       "    </tr>\n",
       "    <tr>\n",
       "      <th>4</th>\n",
       "      <td>77402</td>\n",
       "      <td>Donna</td>\n",
       "      <td>Blankenship</td>\n",
       "      <td>DB3807@gmail.com</td>\n",
       "      <td>stilettos</td>\n",
       "      <td>fabric</td>\n",
       "      <td>brown</td>\n",
       "      <td>289.0</td>\n",
       "    </tr>\n",
       "    <tr>\n",
       "      <th>5</th>\n",
       "      <td>97148</td>\n",
       "      <td>Albert</td>\n",
       "      <td>Dillon</td>\n",
       "      <td>Albert.Dillon@gmail.com</td>\n",
       "      <td>wedges</td>\n",
       "      <td>fabric</td>\n",
       "      <td>brown</td>\n",
       "      <td>266.0</td>\n",
       "    </tr>\n",
       "    <tr>\n",
       "      <th>6</th>\n",
       "      <td>19998</td>\n",
       "      <td>Judith</td>\n",
       "      <td>Hewitt</td>\n",
       "      <td>JudithHewitt98@gmail.com</td>\n",
       "      <td>stilettos</td>\n",
       "      <td>leather</td>\n",
       "      <td>black</td>\n",
       "      <td>395.0</td>\n",
       "    </tr>\n",
       "    <tr>\n",
       "      <th>7</th>\n",
       "      <td>83290</td>\n",
       "      <td>Kayla</td>\n",
       "      <td>Hardin</td>\n",
       "      <td>Kayla.Hardin@gmail.com</td>\n",
       "      <td>stilettos</td>\n",
       "      <td>leather</td>\n",
       "      <td>white</td>\n",
       "      <td>241.0</td>\n",
       "    </tr>\n",
       "    <tr>\n",
       "      <th>8</th>\n",
       "      <td>77867</td>\n",
       "      <td>Steven</td>\n",
       "      <td>Blankenship</td>\n",
       "      <td>Steven.Blankenship@gmail.com</td>\n",
       "      <td>wedges</td>\n",
       "      <td>leather</td>\n",
       "      <td>navy</td>\n",
       "      <td>266.0</td>\n",
       "    </tr>\n",
       "    <tr>\n",
       "      <th>9</th>\n",
       "      <td>54885</td>\n",
       "      <td>Carol</td>\n",
       "      <td>Mclaughlin</td>\n",
       "      <td>CM3415@gmail.com</td>\n",
       "      <td>ballet flats</td>\n",
       "      <td>faux-leather</td>\n",
       "      <td>brown</td>\n",
       "      <td>440.0</td>\n",
       "    </tr>\n",
       "  </tbody>\n",
       "</table>\n",
       "</div>"
      ],
      "text/plain": [
       "      id first_name    last_name                         email     shoe_type  \\\n",
       "0  41874       Kyle         Peck          KylePeck71@gmail.com  ballet flats   \n",
       "1  31349  Elizabeth    Velazquez      EVelazquez1971@gmail.com         boots   \n",
       "2  43416      Keith     Saunders              KS4047@gmail.com       sandals   \n",
       "3  56054       Ryan      Sweeney     RyanSweeney14@outlook.com       sandals   \n",
       "4  77402      Donna  Blankenship              DB3807@gmail.com     stilettos   \n",
       "5  97148     Albert       Dillon       Albert.Dillon@gmail.com        wedges   \n",
       "6  19998     Judith       Hewitt      JudithHewitt98@gmail.com     stilettos   \n",
       "7  83290      Kayla       Hardin        Kayla.Hardin@gmail.com     stilettos   \n",
       "8  77867     Steven  Blankenship  Steven.Blankenship@gmail.com        wedges   \n",
       "9  54885      Carol   Mclaughlin              CM3415@gmail.com  ballet flats   \n",
       "\n",
       "  shoe_material shoe_color  price  \n",
       "0  faux-leather      black  385.0  \n",
       "1        fabric      brown  388.0  \n",
       "2       leather       navy  346.0  \n",
       "3        fabric      brown  344.0  \n",
       "4        fabric      brown  289.0  \n",
       "5        fabric      brown  266.0  \n",
       "6       leather      black  395.0  \n",
       "7       leather      white  241.0  \n",
       "8       leather       navy  266.0  \n",
       "9  faux-leather      brown  440.0  "
      ]
     },
     "execution_count": 3,
     "metadata": {},
     "output_type": "execute_result"
    }
   ],
   "source": [
    "# Task 1 - Print the first 10 rows of the DataFrame\n",
    "orders.head(10)"
   ]
  },
  {
   "cell_type": "code",
   "execution_count": 4,
   "id": "8ac03ad6",
   "metadata": {},
   "outputs": [
    {
     "name": "stdout",
     "output_type": "stream",
     "text": [
      "493.0\n"
     ]
    }
   ],
   "source": [
    "# Task 2 = Determine the most expensive order\n",
    "most_expensive = orders.price.max()\n",
    "print(most_expensive)"
   ]
  },
  {
   "cell_type": "code",
   "execution_count": 5,
   "id": "6e72f39a",
   "metadata": {},
   "outputs": [
    {
     "name": "stdout",
     "output_type": "stream",
     "text": [
      "5\n"
     ]
    }
   ],
   "source": [
    "# Task 3 - Determine how many unique shoe colors are in the DataFrame\n",
    "num_colors = len(orders.shoe_color.unique())\n",
    "print(num_colors)"
   ]
  }
 ],
 "metadata": {
  "kernelspec": {
   "display_name": "Python 3",
   "language": "python",
   "name": "python3"
  },
  "language_info": {
   "codemirror_mode": {
    "name": "ipython",
    "version": 3
   },
   "file_extension": ".py",
   "mimetype": "text/x-python",
   "name": "python",
   "nbconvert_exporter": "python",
   "pygments_lexer": "ipython3",
   "version": "3.11.2"
  }
 },
 "nbformat": 4,
 "nbformat_minor": 5
}
