{
 "cells": [
  {
   "cell_type": "code",
   "execution_count": 8,
   "id": "5aed4818",
   "metadata": {},
   "outputs": [],
   "source": [
    "import pandas as pd"
   ]
  },
  {
   "cell_type": "code",
   "execution_count": 9,
   "id": "fbd04490",
   "metadata": {},
   "outputs": [],
   "source": [
    "orders = pd.read_csv('..\\_resources\\Pandas - Orders.csv')"
   ]
  },
  {
   "cell_type": "code",
   "execution_count": 10,
   "id": "f7bcf041",
   "metadata": {},
   "outputs": [],
   "source": [
    "# Task 1 - Modify the Series to be a dataframe by using the reset_index() method\n",
    "pricey_shoes = orders.groupby('shoe_type').price.max().reset_index()"
   ]
  },
  {
   "cell_type": "code",
   "execution_count": null,
   "id": "4ec8aa76",
   "metadata": {},
   "outputs": [
    {
     "name": "stdout",
     "output_type": "stream",
     "text": [
      "      shoe_type  price\n",
      "0  ballet flats  481.0\n",
      "1         boots  478.0\n",
      "2         clogs  493.0\n",
      "3       sandals  456.0\n",
      "4     stilettos  487.0\n",
      "5        wedges  461.0\n"
     ]
    }
   ],
   "source": [
    "# Task 2 - Print the new dataframe to the console\n",
    "print(pricey_shoes)"
   ]
  },
  {
   "cell_type": "code",
   "execution_count": null,
   "id": "bf0c23a6",
   "metadata": {},
   "outputs": [
    {
     "name": "stdout",
     "output_type": "stream",
     "text": [
      "<class 'pandas.core.frame.DataFrame'>\n"
     ]
    }
   ],
   "source": [
    "# Task 3 - What type of object is the result of the reset_index() operation?\n",
    "print(type(pricey_shoes))\n",
    "# It should be a DataFrame object."
   ]
  }
 ],
 "metadata": {
  "kernelspec": {
   "display_name": "Python 3",
   "language": "python",
   "name": "python3"
  },
  "language_info": {
   "codemirror_mode": {
    "name": "ipython",
    "version": 3
   },
   "file_extension": ".py",
   "mimetype": "text/x-python",
   "name": "python",
   "nbconvert_exporter": "python",
   "pygments_lexer": "ipython3",
   "version": "3.11.2"
  }
 },
 "nbformat": 4,
 "nbformat_minor": 5
}
