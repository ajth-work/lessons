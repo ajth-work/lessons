{
 "cells": [
  {
   "cell_type": "code",
   "execution_count": 1,
   "id": "5aed4818",
   "metadata": {},
   "outputs": [],
   "source": [
    "import pandas as pd\n",
    "import numpy as np"
   ]
  },
  {
   "cell_type": "code",
   "execution_count": 2,
   "id": "fbd04490",
   "metadata": {},
   "outputs": [],
   "source": [
    "orders = pd.read_csv('..\\_resources\\Pandas - Orders.csv')"
   ]
  },
  {
   "cell_type": "code",
   "execution_count": 3,
   "id": "f7bcf041",
   "metadata": {},
   "outputs": [],
   "source": [
    "# Task 1 - Pass the groupby method a list of strings to group by multiple columns (i.e, 'shoe_type' and 'shoe_color').\n",
    "shoe_counts = orders.groupby(['shoe_type','shoe_color']).id.count().reset_index()\n",
    "\n",
    "# Groupby formatting is important\n",
    "# Example: df.groupby(['Location', 'Day of Week'])['Total Sales'].mean().reset_index()\n",
    "# The groupby list must be a list of strings, not a list of lists.\n",
    "# ['A','B','C'] is okay. \n",
    "# [['A','B','C'], ['D','E']] is not okay."
   ]
  },
  {
   "cell_type": "code",
   "execution_count": 4,
   "id": "c0bef443",
   "metadata": {},
   "outputs": [
    {
     "name": "stdout",
     "output_type": "stream",
     "text": [
      "       shoe_type shoe_color  id\n",
      "0   ballet flats      black   2\n",
      "1   ballet flats      brown   5\n",
      "2   ballet flats        red   3\n",
      "3   ballet flats      white   5\n",
      "4          boots      black   3\n",
      "5          boots      brown   5\n",
      "6          boots       navy   6\n",
      "7          boots        red   2\n",
      "8          boots      white   3\n",
      "9          clogs      black   4\n",
      "10         clogs      brown   6\n",
      "11         clogs       navy   1\n",
      "12         clogs        red   4\n",
      "13         clogs      white   1\n",
      "14       sandals      black   1\n",
      "15       sandals      brown   4\n",
      "16       sandals       navy   5\n",
      "17       sandals        red   3\n",
      "18       sandals      white   4\n",
      "19     stilettos      black   5\n",
      "20     stilettos      brown   3\n",
      "21     stilettos       navy   2\n",
      "22     stilettos        red   2\n",
      "23     stilettos      white   2\n",
      "24        wedges      black   3\n",
      "25        wedges      brown   4\n",
      "26        wedges       navy   4\n",
      "27        wedges        red   5\n",
      "28        wedges      white   2\n"
     ]
    }
   ],
   "source": [
    "# Task 2 - Print the dataframe shoe_counts\n",
    "print(shoe_counts)"
   ]
  }
 ],
 "metadata": {
  "kernelspec": {
   "display_name": "Python 3",
   "language": "python",
   "name": "python3"
  },
  "language_info": {
   "codemirror_mode": {
    "name": "ipython",
    "version": 3
   },
   "file_extension": ".py",
   "mimetype": "text/x-python",
   "name": "python",
   "nbconvert_exporter": "python",
   "pygments_lexer": "ipython3",
   "version": "3.11.2"
  }
 },
 "nbformat": 4,
 "nbformat_minor": 5
}
