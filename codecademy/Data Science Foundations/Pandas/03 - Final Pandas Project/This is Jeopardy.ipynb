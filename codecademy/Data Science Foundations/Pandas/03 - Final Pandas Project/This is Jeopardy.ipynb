{
 "cells": [
  {
   "cell_type": "markdown",
   "metadata": {},
   "source": [
    "# This is Jeopardy!"
   ]
  },
  {
   "cell_type": "markdown",
   "metadata": {},
   "source": [
    "#### Overview"
   ]
  },
  {
   "cell_type": "markdown",
   "metadata": {},
   "source": [
    "This project is slightly different than others you have encountered thus far. Instead of a step-by-step tutorial, this project contains a series of open-ended requirements which describe the project you'll be building. There are many possible ways to correctly fulfill all of these requirements, and you should expect to use the internet, Codecademy, and/or other resources when you encounter a problem that you cannot easily solve."
   ]
  },
  {
   "cell_type": "markdown",
   "metadata": {},
   "source": [
    "#### Project Goals"
   ]
  },
  {
   "cell_type": "markdown",
   "metadata": {},
   "source": [
    "You will work to write several functions that investigate a dataset of _Jeopardy!_ questions and answers. Filter the dataset for topics that you're interested in, compute the average difficulty of those questions, and train to become the next Jeopardy champion!"
   ]
  },
  {
   "cell_type": "markdown",
   "metadata": {},
   "source": [
    "## Prerequisites"
   ]
  },
  {
   "cell_type": "markdown",
   "metadata": {},
   "source": [
    "In order to complete this project, you should have completed the Pandas lessons in the <a href=\"https://www.codecademy.com/learn/paths/analyze-data-with-python\">Analyze Data with Python Skill Path</a>. You can also find those lessons in the <a href=\"https://www.codecademy.com/learn/data-processing-pandas\">Data Analysis with Pandas course</a> or the <a href=\"https://www.codecademy.com/learn/paths/data-science/\">Data Scientist Career Path</a>.\n",
    "\n",
    "Finally, the <a href=\"https://www.codecademy.com/learn/practical-data-cleaning\">Practical Data Cleaning</a> course may also be helpful."
   ]
  },
  {
   "cell_type": "markdown",
   "metadata": {},
   "source": [
    "## Project Requirements"
   ]
  },
  {
   "cell_type": "markdown",
   "metadata": {},
   "source": [
    "1. We've provided a csv file containing data about the game show _Jeopardy!_ in a file named `jeopardy.csv`. Load the data into a DataFrame and investigate its contents. Try to print out specific columns.\n",
    "\n",
    "   Note that in order to make this project as \"real-world\" as possible, we haven't modified the data at all - we're giving it to you exactly how we found it. As a result, this data isn't as \"clean\" as the datasets you normally find on Codecademy. More specifically, there's something odd about the column names. After you figure out the problem with the column names, you may want to rename them to make your life easier for the rest of the project.\n",
    "   \n",
    "   In order to display the full contents of a column, we've added this line of code for you:\n",
    "   \n",
    "   ```py\n",
    "   pd.set_option('display.max_colwidth', None)\n",
    "   ```"
   ]
  },
  {
   "cell_type": "code",
   "execution_count": 118,
   "metadata": {},
   "outputs": [
    {
     "name": "stdout",
     "output_type": "stream",
     "text": [
      "   Show Number    Air Date      Round                         Category  Value  \\\n",
      "0         4680  2004-12-31  Jeopardy!                          HISTORY   $200   \n",
      "1         4680  2004-12-31  Jeopardy!  ESPN's TOP 10 ALL-TIME ATHLETES   $200   \n",
      "2         4680  2004-12-31  Jeopardy!      EVERYBODY TALKS ABOUT IT...   $200   \n",
      "3         4680  2004-12-31  Jeopardy!                 THE COMPANY LINE   $200   \n",
      "4         4680  2004-12-31  Jeopardy!              EPITAPHS & TRIBUTES   $200   \n",
      "\n",
      "                                                                                                      Question  \\\n",
      "0             For the last 8 years of his life, Galileo was under house arrest for espousing this man's theory   \n",
      "1  No. 2: 1912 Olympian; football star at Carlisle Indian School; 6 MLB seasons with the Reds, Giants & Braves   \n",
      "2                     The city of Yuma in this state has a record average of 4,055 hours of sunshine each year   \n",
      "3                         In 1963, live on \"The Art Linkletter Show\", this company served its billionth burger   \n",
      "4     Signer of the Dec. of Indep., framer of the Constitution of Mass., second President of the United States   \n",
      "\n",
      "       Answer  \n",
      "0  Copernicus  \n",
      "1  Jim Thorpe  \n",
      "2     Arizona  \n",
      "3  McDonald's  \n",
      "4  John Adams  \n",
      "Index(['Show Number', ' Air Date', ' Round', ' Category', ' Value',\n",
      "       ' Question', ' Answer'],\n",
      "      dtype='object')\n"
     ]
    }
   ],
   "source": [
    "import pandas as pd\n",
    "pd.set_option('display.max_colwidth', None)\n",
    "df = pd.read_csv('jeopardy.csv')\n",
    "print(df.head())\n",
    "print(df.columns)"
   ]
  },
  {
   "cell_type": "markdown",
   "metadata": {},
   "source": [
    "2. Write a function that filters the dataset for questions that contains all of the words in a list of words. For example, when the list `[\"King\", \"England\"]` was passed to our function, the function returned a DataFrame of 49 rows. Every row had the strings `\"King\"` and `\"England\"` somewhere in its `\" Question\"`.\n",
    "\n",
    "   Test your function by printing out the column containing the question of each row of the dataset.\n"
   ]
  },
  {
   "cell_type": "code",
   "execution_count": 119,
   "metadata": {},
   "outputs": [
    {
     "name": "stdout",
     "output_type": "stream",
     "text": [
      "       Show Number    Air Date             Round               Category  \\\n",
      "4953          3003  1997-09-24  Double Jeopardy!           \"PH\"UN WORDS   \n",
      "6337          3517  1999-12-14  Double Jeopardy!                    Y1K   \n",
      "9191          3907  2001-09-04  Double Jeopardy!         WON THE BATTLE   \n",
      "11710         2903  1997-03-26  Double Jeopardy!       BRITISH MONARCHS   \n",
      "13454         4726  2005-03-07         Jeopardy!  A NUMBER FROM 1 TO 10   \n",
      "\n",
      "       Value  \\\n",
      "4953    $200   \n",
      "6337    $800   \n",
      "9191    $800   \n",
      "11710   $600   \n",
      "13454  $1000   \n",
      "\n",
      "                                                                                                     Question  \\\n",
      "4953                 Both England's King George V & FDR put their stamp of approval on this \"King of Hobbies\"   \n",
      "6337   In retaliation for Viking raids, this \"Unready\" king of England attacks Norse areas of the Isle of Man   \n",
      "9191                 This king of England beat the odds to trounce the French in the 1415 Battle of Agincourt   \n",
      "11710            This Scotsman, the first Stuart king of England, was called \"The Wisest Fool in Christendom\"   \n",
      "13454                                    It's the number that followed the last king of England named William   \n",
      "\n",
      "                             Answer  \n",
      "4953   Philately (stamp collecting)  \n",
      "6337                       Ethelred  \n",
      "9191                        Henry V  \n",
      "11710                       James I  \n",
      "13454                             4  \n"
     ]
    }
   ],
   "source": [
    "# Yes, we can use the `all()` function along with a list comprehension to check if all words are present in the question. Here's how you can do it:\n",
    "def filter_questions(df, words):\n",
    "    # The all() function returns True if all elements in the list are true (or the list is empty).\n",
    "    # In this case, if all words in the query list 'words' are present in the particular row of question column.\n",
    "    filtered_df = df[df[' Question'].apply(lambda row: all(word.lower() in row.lower() for word in words))]\n",
    "    return filtered_df\n",
    "\n",
    "# Example usage\n",
    "words = [\"King\", \"England\"]\n",
    "filtered_questions = filter_questions(df, words)\n",
    "print(filtered_questions.head())"
   ]
  },
  {
   "cell_type": "markdown",
   "metadata": {},
   "source": [
    "3. Test your original function with a few different sets of words to try to find some ways your function breaks. Edit your function so it is more robust.\n",
    "\n",
    "   For example, think about capitalization. We probably want to find questions that contain the word `\"King\"` or `\"king\"`.\n",
    "   \n",
    "   You may also want to check to make sure you don't find rows that contain substrings of your given words. For example, our function found a question that didn't contain the word `\"king\"`, however it did contain the word `\"viking\"` &mdash; it found the `\"king\"` inside `\"viking\"`. Note that this also comes with some drawbacks &mdash; you would no longer find questions that contained words like `\"England's\"`."
   ]
  },
  {
   "cell_type": "code",
   "execution_count": 120,
   "metadata": {},
   "outputs": [
    {
     "name": "stdout",
     "output_type": "stream",
     "text": [
      "       Show Number    Air Date             Round          Category  Value  \\\n",
      "4603          5512  2008-07-22  Double Jeopardy!             SLEEP  $1200   \n",
      "27389         5908  2010-04-28         Jeopardy!  AT THE DRUGSTORE   $200   \n",
      "31031         2049  1993-07-01  Double Jeopardy!   GENERAL SCIENCE  $1000   \n",
      "41529         3853  2001-05-09         Jeopardy!       HAIR DON'TS   $300   \n",
      "43078         5583  2008-12-10  Double Jeopardy!    STORIED HOTELS  $2000   \n",
      "\n",
      "                                                                                                                                                                                                                                                                                                                           Question  \\\n",
      "4603   (<a href=\"http://www.j-archive.com/media/2008-07-22_DJ_24.wmv\">Cheryl of the Clue Crew bothers a sleeper with her clue at the Sleep Research Center at Stanford University.</a>)  Doctors are studying not only insomnia, but parasomnia, which includes night terrors & this condition, from the Latin for \"sleep\" & \"walk\"   \n",
      "27389                                                                                                                                                                                                                      It's the \"nighttime, sniffling, sneezing, coughing, aching, fever, sleep better to feel better medicine\"   \n",
      "31031                                                                                                                                                                                                                                       Normally, the periods of this type of sleep are short early in the night, then lengthen   \n",
      "41529                                                                                                                                                                                                                                                   Rhyming term for the condition of your coiffure right after a night's sleep   \n",
      "43078                                                                                                                                                                                                         In chap. 1 of this novel, Jonathan Harker spends the night at the Hotel Royale in Klausenburgh but doesn't sleep well   \n",
      "\n",
      "             Answer  \n",
      "4603   somnambulism  \n",
      "27389        NyQuil  \n",
      "31031     REM sleep  \n",
      "41529      bed head  \n",
      "43078       Dracula  \n"
     ]
    }
   ],
   "source": [
    "# Example usage\n",
    "words = [\"sleep\", \"night\"]\n",
    "filtered_questions = filter_questions(df, words)\n",
    "print(filtered_questions.head())"
   ]
  },
  {
   "cell_type": "markdown",
   "metadata": {},
   "source": [
    "4. We may want to eventually compute aggregate statistics, like `.mean()` on the `\" Value\"` column. But right now, the values in that column are strings. Convert the`\" Value\"` column to floats. If you'd like to, you can create a new column with float values.\n",
    "\n",
    "   While most of the values in the `\" Value\"` column represent a dollar amount as a string, note that some do not &mdash; these values will need to be handled differently!\n",
    "\n",
    "   Now that you can filter the dataset of question, use your new column that contains the float values of each question to find the \"difficulty\" of certain topics. For example, what is the average value of questions that contain the word `\"King\"`?\n",
    "   \n",
    "   Make sure to use the dataset that contains the float values as the dataset you use in your filtering function."
   ]
  },
  {
   "cell_type": "code",
   "execution_count": 121,
   "metadata": {},
   "outputs": [
    {
     "name": "stdout",
     "output_type": "stream",
     "text": [
      "0    200.0\n",
      "1    200.0\n",
      "2    200.0\n",
      "3    200.0\n",
      "4    200.0\n",
      "Name: Value, dtype: float64\n",
      "Mean Value: 752.5959230365314\n"
     ]
    }
   ],
   "source": [
    "def convert_value_to_float(df):\n",
    "    # Replace 'no value' and other invalid entries with NaN\n",
    "    df['Value'] = df[' Value'].replace({'no value': None, 'None': None})\n",
    "    # Convert all values to strings, then remove '$' and ',' before converting to float\n",
    "    df['Value'] = pd.to_numeric(df['Value'].astype(str).str.replace('$', '', regex=False).str.replace(',', '', regex=False), errors='coerce')\n",
    "    # Coerce means that if conversion fails, it will set the value to NaN instead of raising an error.\n",
    "    # This is useful for handling any non-numeric values that may be present in the column.\n",
    "    return df\n",
    "\n",
    "# Review converted values\n",
    "converted_df = convert_value_to_float(df)\n",
    "print(converted_df['Value'].head())\n",
    "\n",
    "# Test Mean\n",
    "mean_value = converted_df['Value'].mean()\n",
    "print(f\"Mean Value: {mean_value}\")"
   ]
  },
  {
   "cell_type": "markdown",
   "metadata": {},
   "source": [
    "5. Write a function that returns the count of unique answers to all of the questions in a dataset. For example, after filtering the entire dataset to only questions containing the word `\"King\"`, we could then find all of the unique answers to those questions. The answer \"Henry VIII\" appeared 55 times and was the most common answer."
   ]
  },
  {
   "cell_type": "code",
   "execution_count": 122,
   "metadata": {},
   "outputs": [
    {
     "name": "stdout",
     "output_type": "stream",
     "text": [
      "Unique values count for words ['hand']: 1428\n"
     ]
    }
   ],
   "source": [
    "def unique_values_count(df, words):\n",
    "    # Filter the dataframe to the query list\n",
    "    filtered_df = df[df[\" Question\"].apply(lambda row: all(word.lower() in row.lower() for word in words))]\n",
    "    # Use nunique() to count unique values in the specified column\n",
    "    unique_count = filtered_df[\" Answer\"].nunique()\n",
    "    return unique_count\n",
    "\n",
    "words = [\"hand\"]\n",
    "unique_values_count = unique_values_count(df, words)\n",
    "print(f\"Unique values count for words {words}: {unique_values_count}\")\n"
   ]
  },
  {
   "cell_type": "markdown",
   "metadata": {},
   "source": [
    "6. Explore from here! This is an incredibly rich dataset, and there are so many interesting things to discover. There are a few columns that we haven't even started looking at yet. Here are some ideas on ways to continue working with this data:\n",
    "\n",
    " * Investigate the ways in which questions change over time by filtering by the date. How many questions from the 90s use the word `\"Computer\"` compared to questions from the 2000s?\n",
    " * Is there a connection between the round and the category? Are you more likely to find certain categories, like `\"Literature\"` in Single Jeopardy or Double Jeopardy?\n",
    " * Build a system to quiz yourself. Grab random questions, and use the <a href=\"https://docs.python.org/3/library/functions.html#input\">input</a> function to get a response from the user. Check to see if that response was right or wrong."
   ]
  },
  {
   "cell_type": "code",
   "execution_count": 123,
   "metadata": {},
   "outputs": [
    {
     "name": "stdout",
     "output_type": "stream",
     "text": [
      "Number of questions from the 1990s that contained the word(s) - ['Business']: 133\n",
      "Number of questions from the 2000s that contained the word(s) - ['Business']: 311\n"
     ]
    }
   ],
   "source": [
    " #* Investigate the ways in which questions change over time by filtering by the date. How many questions from the 90s use the word `\"Computer\"` compared to questions from the 2000s?\n",
    "def filter_by_year_and_word(df, year_range, words):\n",
    "    # Filter the dataframe by year range and check if all words are present in the question\n",
    "    filtered_df = df[\n",
    "        (df[' Air Date'].str.contains(year_range)) &\n",
    "        (df[' Question'].apply(lambda question: all(word.lower() in question.lower() for word in words)))\n",
    "    ]\n",
    "    return filtered_df\n",
    "\n",
    "# Example usage\n",
    "words = [\"Business\"]\n",
    "year_1990s = \"199\"\n",
    "year_2000s = \"200\" \n",
    "filtered_1990s = filter_by_year_and_word(df, year_1990s, words)\n",
    "filtered_2000s = filter_by_year_and_word(df, year_2000s, words)\n",
    "print(f\"Number of questions from the 1990s that contained the word(s) - {words}: {len(filtered_1990s)}\")\n",
    "print(f\"Number of questions from the 2000s that contained the word(s) - {words}: {len(filtered_2000s)}\")\n",
    "# What is the most common category for questions that contain the word \"Computer\"?"
   ]
  },
  {
   "cell_type": "code",
   "execution_count": 126,
   "metadata": {},
   "outputs": [
    {
     "name": "stdout",
     "output_type": "stream",
     "text": [
      "Number of categories in Jeopardy! mentioning 'snl' in the category name: 8\n",
      "Number of questions in Jeopardy! mentioning 'snl' in the category name: 45\n",
      "\n",
      "\n",
      "1: SNL CELEBRITY JEOPARDY! - 5 questions\n",
      "\n",
      "\n",
      "--- 1. As he did in \"Anchorman\", Will Ferrell sports this facial feature in the \"SNL\" \"Jeopardy!\" skits. (Answer: a mustache)\n",
      "--- 2. Darrell Hammond played this Scottish actor who...  Nope, I can't say anything else; just name him. (Answer: Sean Connery)\n",
      "--- 3. Norm MacDonald played this \"Smokey and the Bandit\" star who had a slight problem IDing Pat Morita's ancestry. (Answer: Burt Reynolds)\n",
      "--- 4. Ben Stiller played this star of \"The Firm\" on a show where one category was \"FOODS THAT END IN 'AMBURGER'\". (Answer: Tom Cruise)\n",
      "--- 5. Kristen Wiig played this \"Today\" co-host, who, like so many of our players, brought Chardonnay on stage. (Answer: Kathie Lee Gifford)\n",
      "\n",
      "\n",
      "2: CHEVY CHASE ON SNL - 5 questions\n",
      "\n",
      "\n",
      "--- 6. (<a href=\"http://www.j-archive.com/media/2011-03-28_J_01.jpg\" target=\"_blank\">Chevy Chase delivers the clue from the set of <i>Community</i>.</a>)  On \"Weekend Update\", I announced \"Our top story tonight: Generalissimo\" this man \"is still dead\". (Answer: Franco)\n",
      "--- 7. (<a href=\"http://www.j-archive.com/media/2011-03-28_J_02.jpg\" target=\"_blank\">Chevy Chase delivers the clue from the set of <i>Community</i>.</a>)  In 1986, 10 years after I played at least a small part in denying this man a new term, I met him at a conference on humor & the presidency held at his museum. (Answer: Gerald Ford)\n",
      "--- 8. (<a href=\"http://www.j-archive.com/media/2011-03-28_J_03.jpg\" target=\"_blank\">Chevy Chase delivers the clue from the set of <i>Community</i>.</a>)  When I checked into \"Samurai Hotel\", Richard Pryor & this actor argued with swords, over who'd carry my bags to my room. (Answer: John Belushi)\n",
      "--- 9. (<a href=\"http://www.j-archive.com/media/2011-03-28_J_04.jpg\" target=\"_blank\">Chevy Chase delivers the clue from the set of <i>Community</i>.</a>)  I played this \"SNL\" character who tried to gain entry into peoples' homes by claiming to be a plumber, a dolphin & a deliverer of a \"candygram\". (Answer: the landshark)\n",
      "--- 10. (<a href=\"http://www.j-archive.com/media/2011-03-28_J_05.jpg\" target=\"_blank\">Chevy Chase delivers the clue from the set of <i>Community</i>.</a>)  I told Gilda Radner, \"I don't know, Babs, but I do know this--you've really let\" this small, fleshy item that hangs from the soft palate \"go to the dogs\". (Answer: your uvula)\n",
      "\n",
      "\n",
      "3: SNL ACTORS & THEIR CHARACTERS - 5 questions\n",
      "\n",
      "\n",
      "--- 11. Roseanne Roseannadanna. (Answer: (Gilda) Radner)\n",
      "--- 12. The Church Lady. (Answer: (Dana) Carvey)\n",
      "--- 13. Bill Clinton, Chris Matthews & Dick Cheney. (Answer: Darrell Hammond)\n",
      "--- 14. Amber, the one-legged, hypoglycemic reality show contestant. (Answer: Amy Poehler)\n",
      "--- 15. The Target Clerk & master of one-upwomanship Penelope. (Answer: (Kristen) Wiig)\n",
      "\n",
      "\n",
      "4: SNL PRESIDENTIAL PLAYERS - 5 questions\n",
      "\n",
      "\n",
      "--- 16. Chris Elliot, Tim Meadows, Phil Hartman & Darrell Hammond have all played this 42nd president. (Answer: Bill Clinton)\n",
      "--- 17. Chevy Chase was known for taking a tumble or two when playing this 38th president. (Answer: Gerald Ford)\n",
      "--- 18. In 1976 Dan Aykroyd did his first televised impression of this presidential candidate. (Answer: Jimmy Carter)\n",
      "--- 19. Dana Carvey not only played Bush Sr. during the '92 race, he also played this independent Texan challenger. (Answer: Ross Perot)\n",
      "--- 20. In a cartoon by Robert Smigel, Ford & Bush the First are among these title superheroes (now in paperback). (Answer: the X-Presidents)\n",
      "\n",
      "\n",
      "5: SNL ON FILM - 5 questions\n",
      "\n",
      "\n",
      "--- 21. Jake & Elwood are on a mission from God in this film. (Answer: Blues Brothers)\n",
      "--- 22. 2 friends are on a mission with their Illinois public access show in this film. (Answer: Wayne's World)\n",
      "--- 23. 2 aliens from the planet Remulak are on a mission to raise their teen daughter in this film. (Answer: Coneheads)\n",
      "--- 24. Will Ferrell & Chris Kattan are on a mission to get into the best club in town & open their own in this film. (Answer: A Night at the Roxbury)\n",
      "--- 25. Julia Sweeney is on a mission to have a relationship with Chris, a person of indeterminate sex in this film. (Answer: It's Pat)\n",
      "\n",
      "\n",
      "6: SNL ALUMNI - 5 questions\n",
      "\n",
      "\n",
      "--- 26. In 1998 he hit the big screen as \"Dr. Dolittle\". (Answer: Eddie Murphy)\n",
      "--- 27. She plays Dr. Mary Albright on TV's \"3rd Rock From The Sun\". (Answer: Jane Curtin)\n",
      "--- 28. In 1991's \"Father Of The Bride\", he played wedding planner Franck Eggelhoffer. (Answer: Martin Short)\n",
      "--- 29. This comic seen here recently hit the streets in \"Lethal Weapon 4\". (Answer: Chris Rock)\n",
      "--- 30. This one-time regular got an Oscar nomination for her role as the frustrated fiancee in \"In & Out\". (Answer: Joan Cusack)\n",
      "\n",
      "\n",
      "7: SNL CATCHPHRASES - 10 questions\n",
      "\n",
      "\n",
      "--- 31. 3-word phrase that followed \"Good Evening, I'm Chevy Chase...\". (Answer: and you're not)\n",
      "--- 32. It was how everyone looked according to Fernando, the talk show host played by Billy Crystal. (Answer: mahvelous)\n",
      "--- 33. In a parody of the debates on \"60 Minutes\", he spoke the immortal line \"Jane, you ignorant slut\". (Answer: Dan Aykroyd)\n",
      "--- 34. (Hi, I'm Rob Schneider)  My \"SNL\" character Richard \"The Richmeister\" Laymer coined this 2-word catchphrase for Xeroxing. (Answer: \"makin' copies\")\n",
      "--- 35. This comic played pathological liar Tommy Flanagan, whose wife was \"Morgan Fairchild, yeah, that's the ticket\". (Answer: Jon Lovitz)\n",
      "--- 36. \"Well, isn't that special\". (Answer: Dana Carvey)\n",
      "--- 37. \"It's always something\". (Answer: Gilda Radner)\n",
      "--- 38. \"Schwing!\". (Answer: Mike Myers)\n",
      "--- 39. \"We are two wild and crazy guys\". (Answer: Steve Martin & Dan Aykroyd)\n",
      "--- 40. \"You'll be livin' in a van down by the river\". (Answer: Chris Farley)\n",
      "\n",
      "\n",
      "8: THE SNL ALUMNUS WHO... - 5 questions\n",
      "\n",
      "\n",
      "--- 41. Played Bluto in \"Animal House\". (Answer: John Belushi)\n",
      "--- 42. Played \"Deuce Bigalow: Male Gigolo\". (Answer: Rob Schneider)\n",
      "--- 43. Played anchorman Bill McNeal on TV's \"NewsRadio\". (Answer: (Phil) Hartman)\n",
      "--- 44. Did a regular stint as a commnetator for \"Monday Night Football\". (Answer: Dennis Miller)\n",
      "--- 45. Starred as the \"Beverly Hills Ninja\". (Answer: (Chris) Farley)\n",
      "\n",
      "\n",
      "Number of categories in Double Jeopardy! mentioning 'snl' in the category name: 2\n",
      "Number of questions in Double Jeopardy! mentioning 'snl' in the category name: 10\n",
      "\n",
      "\n",
      "1: SNL ALUMNI - 5 questions\n",
      "\n",
      "\n",
      "--- 1. This just in to \"Weekend Update\" -- this \"Fall Guy\" was SNL's first breakout star. (Answer: Chevy Chase)\n",
      "--- 2. Man oh man, his characters included Operaman & Cajunman. (Answer: Adam Sandler)\n",
      "--- 3. In 1999 he pumped up nightclubs with a musical tribute to his hero Frank Sinatra. (Answer: Joe Piscopo)\n",
      "--- 4. He was \"Berry Berry Good\" as ballplayer Chico Escuela & more recently as Uncle Junior on \"The Jamie Foxx Show\". (Answer: Garrett Morris)\n",
      "--- 5. It's not Pat but this comic who starred in the one-woman show & movie \"God Said 'Ha!'\". (Answer: Julia Sweeney)\n",
      "\n",
      "\n",
      "2: SNL ACTORS IN THE MOVIES - 5 questions\n",
      "\n",
      "\n",
      "--- 6. \"Joliet\" Jake Blues. (Answer: John Belushi)\n",
      "--- 7. Mrs. Prymaat Conehead. (Answer: Jane Curtin)\n",
      "--- 8. Axel Foley. (Answer: Eddie Murphy)\n",
      "--- 9. Wayne Campbell. (Answer: Mike Myers)\n",
      "--- 10. Joe Dirt. (Answer: David Spade)\n",
      "\n",
      "\n"
     ]
    }
   ],
   "source": [
    "#* Is there a connection between the round and the category? Are you more likely to find certain categories, like `\"Literature\"` in Single Jeopardy or Double Jeopardy?\n",
    "def round_category_count(df, category_name):\n",
    "    rounds = [\"Jeopardy!\", \"Double Jeopardy!\"]\n",
    "    \n",
    "    for round_name in rounds:\n",
    "        # Filter the dataframe by the current round and category\n",
    "        filtered_df = df[\n",
    "            (df[' Round'] == round_name) & \n",
    "            (df[' Category'].str.contains(r'\\b' + category_name + r'\\b', case=False))\n",
    "        ]\n",
    "        \n",
    "        # Count unique categories and list them\n",
    "        count = len(filtered_df[' Category'].unique())\n",
    "        list_of_categories = filtered_df[' Category'].unique()\n",
    "\n",
    "        print(f\"Number of categories in {round_name} mentioning '{category_name}' in the category name: {count}\")\n",
    "        print(f\"Number of questions in {round_name} mentioning '{category_name}' in the category name: {len(filtered_df)}\")\n",
    "        print(f\"\\n\")\n",
    "        j = 0\n",
    "        for i, category in enumerate(list_of_categories, start=1):\n",
    "            print(f\"{i}: {category} - {len(filtered_df[filtered_df[' Category'] == category])} questions\")\n",
    "            # Can we print the questions that mention the category name?\n",
    "            questions = filtered_df[filtered_df[' Category'] == category][' Question'].tolist()\n",
    "            print(f\"\\n\")\n",
    "            for question in questions:\n",
    "                j += 1\n",
    "                # Print the question and its answer\n",
    "                print(f\"--- {j}. {question}. (Answer: \" + filtered_df[filtered_df[' Question'] == question][' Answer'].values[0] + \")\")\n",
    "            print(\"\\n\")\n",
    "\n",
    "round_category_count = round_category_count(df, \"snl\")\n"
   ]
  },
  {
   "cell_type": "code",
   "execution_count": 127,
   "metadata": {},
   "outputs": [
    {
     "name": "stdout",
     "output_type": "stream",
     "text": [
      "Category: MOVIE VERBS\n",
      "Question: Featured some soccer moms: \"____ it Like Beckham\"\n",
      "Wrong! The correct answer is: bend\n",
      "\n",
      "\n",
      "Category: PLAYING DOCTOR\n",
      "Question: Ted Danson played this surly doctor whose practice was in the Bronx\n",
      "Wrong! The correct answer is: Becker\n",
      "\n",
      "\n",
      "Category: MODERN DANCE\n",
      "Question: <a href=\"http://www.j-archive.com/media/2004-09-16_DJ_29.wmv\">This</a> performer/choreographer was one of the most influential figures in modern dance\n",
      "Wrong! The correct answer is: Martha Graham\n",
      "\n",
      "\n",
      "Your score: 0/3\n"
     ]
    }
   ],
   "source": [
    " #* Build a system to quiz yourself. Grab random questions, and use the <a href=\"https://docs.python.org/3/library/functions.html#input\">input</a> function to get a response from the user. Check to see if that response was right or wrong.\n",
    "import random\n",
    "def quiz_user(df, num_questions=5):\n",
    "    # Randomly sample questions from the dataframe\n",
    "    sampled_questions = df.sample(n=num_questions)\n",
    "    \n",
    "    score = 0\n",
    "    for index, row in sampled_questions.iterrows():\n",
    "        print(f\"Category: {row[' Category']}\")\n",
    "        print(f\"Question: {row[' Question']}\")\n",
    "        user_answer = input(\"Your answer: \")\n",
    "        \n",
    "        # Check if the user's answer is correct (case insensitive)\n",
    "        if user_answer.lower() == row[' Answer'].lower():\n",
    "            print(\"Correct!\")\n",
    "            score += 1\n",
    "        else:\n",
    "            print(f\"Wrong! The correct answer is: {row[' Answer']}\")\n",
    "        print(\"\\n\")\n",
    "    \n",
    "    print(f\"Your score: {score}/{num_questions}\")\n",
    "\n",
    "# Example usage\n",
    "quiz_user(df, num_questions=3)"
   ]
  },
  {
   "cell_type": "markdown",
   "metadata": {},
   "source": [
    "## Solution"
   ]
  },
  {
   "cell_type": "markdown",
   "metadata": {},
   "source": [
    "7. Compare your program to our <a href=\"https://content.codecademy.com/PRO/independent-practice-projects/jeopardy/jeopardy_solution.zip\">sample solution code</a> - remember, that your program might look different from ours (and probably will) and that's okay!"
   ]
  },
  {
   "cell_type": "markdown",
   "metadata": {},
   "source": [
    "8. Great work! Visit <a href=\"https://discuss.codecademy.com/t/this-is-jeopardy-challenge-project-python-pandas/462365\">our forums</a> to compare your project to our sample solution code. You can also learn how to host your own solution on GitHub so you can share it with other learners! Your solution might look different from ours, and that's okay! There are multiple ways to solve these projects, and you'll learn more by seeing others' code."
   ]
  },
  {
   "cell_type": "code",
   "execution_count": null,
   "metadata": {},
   "outputs": [],
   "source": []
  }
 ],
 "metadata": {
  "kernelspec": {
   "display_name": "Python 3",
   "language": "python",
   "name": "python3"
  },
  "language_info": {
   "codemirror_mode": {
    "name": "ipython",
    "version": 3
   },
   "file_extension": ".py",
   "mimetype": "text/x-python",
   "name": "python",
   "nbconvert_exporter": "python",
   "pygments_lexer": "ipython3",
   "version": "3.11.9"
  }
 },
 "nbformat": 4,
 "nbformat_minor": 2
}
