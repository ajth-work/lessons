{
 "cells": [
  {
   "cell_type": "code",
   "execution_count": 2,
   "id": "aacc2505",
   "metadata": {},
   "outputs": [
    {
     "name": "stdout",
     "output_type": "stream",
     "text": [
      "   Product ID Product Name  Color\n",
      "0           1      t-shirt   blue\n",
      "1           2      t-shirt  green\n",
      "2           3        skirt    red\n",
      "3           4        skirt  black\n"
     ]
    }
   ],
   "source": [
    "# Import necessary libraries\n",
    "import pandas as pd\n",
    "\n",
    "# Create a DataFrame with product information\n",
    "df1 = pd.DataFrame({\n",
    "  'Product ID': [1, 2, 3, 4],\n",
    "  'Product Name': [\"t-shirt\", \"t-shirt\", \"skirt\",\"skirt\"],\n",
    "  'Color': [\"blue\",\"green\",\"red\",\"black\"]\n",
    "})\n",
    "\n",
    "# Create a DataFrame with product information\n",
    "print(df1)"
   ]
  }
 ],
 "metadata": {
  "kernelspec": {
   "display_name": "Python 3",
   "language": "python",
   "name": "python3"
  },
  "language_info": {
   "codemirror_mode": {
    "name": "ipython",
    "version": 3
   },
   "file_extension": ".py",
   "mimetype": "text/x-python",
   "name": "python",
   "nbconvert_exporter": "python",
   "pygments_lexer": "ipython3",
   "version": "3.11.2"
  }
 },
 "nbformat": 4,
 "nbformat_minor": 5
}
