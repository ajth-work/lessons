{
 "cells": [
  {
   "cell_type": "code",
   "execution_count": null,
   "id": "6e6b4551",
   "metadata": {},
   "outputs": [
    {
     "name": "stdout",
     "output_type": "stream",
     "text": [
      "   month  clinic_east  clinic_north  clinic_south  clinic_west\n",
      "2  March           81            96            65           96\n",
      "3  April           80            80            54          180\n"
     ]
    }
   ],
   "source": [
    "# import necessary libraries\n",
    "import pandas as pd\n",
    "\n",
    "# Create a DataFrame with clinic data\n",
    "df = pd.DataFrame([\n",
    "  ['January', 100, 100, 23, 100],\n",
    "  ['February', 51, 45, 145, 45],\n",
    "  ['March', 81, 96, 65, 96],\n",
    "  ['April', 80, 80, 54, 180],\n",
    "  ['May', 51, 54, 54, 154],\n",
    "  ['June', 112, 109, 79, 129]],\n",
    "  columns=['month', 'clinic_east',\n",
    "           'clinic_north', 'clinic_south',\n",
    "           'clinic_west'])\n",
    "\n",
    "# Using | to use multiple conditions\n",
    "# Select rows where month is March or April\n",
    "march_april = df[\n",
    "  (df.month == \"March\") | \n",
    "  (df.month == \"April\")\n",
    "  ]\n",
    "\n",
    "# Print the selected rows\n",
    "print(march_april)"
   ]
  }
 ],
 "metadata": {
  "kernelspec": {
   "display_name": "Python 3",
   "language": "python",
   "name": "python3"
  },
  "language_info": {
   "codemirror_mode": {
    "name": "ipython",
    "version": 3
   },
   "file_extension": ".py",
   "mimetype": "text/x-python",
   "name": "python",
   "nbconvert_exporter": "python",
   "pygments_lexer": "ipython3",
   "version": "3.11.2"
  }
 },
 "nbformat": 4,
 "nbformat_minor": 5
}
