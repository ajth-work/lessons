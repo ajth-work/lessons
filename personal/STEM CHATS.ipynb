{
 "cells": [
  {
   "cell_type": "markdown",
   "id": "57fe1f1c",
   "metadata": {},
   "source": [
    "# Decision Trees"
   ]
  },
  {
   "cell_type": "markdown",
   "id": "fc962009",
   "metadata": {},
   "source": [
    "## Setup"
   ]
  },
  {
   "cell_type": "code",
   "execution_count": 59,
   "id": "163b0768",
   "metadata": {},
   "outputs": [],
   "source": [
    "# Install required packages\n",
    "# Uncomment the following lines to install the necessary packages if not already installed\n",
    "# %pip install numpy\n",
    "# %pip install pandas\n",
    "# %pip install scikit-learn\n",
    "# %pip install matplotlib"
   ]
  },
  {
   "cell_type": "code",
   "execution_count": 60,
   "id": "a3acddac",
   "metadata": {},
   "outputs": [],
   "source": [
    "# Import necessary libraries\n",
    "import numpy as np \n",
    "import pandas as pd\n",
    "from matplotlib import pyplot as plt\n",
    "from sklearn.preprocessing import LabelEncoder\n",
    "from sklearn.model_selection import train_test_split\n",
    "from sklearn.tree import DecisionTreeClassifier, plot_tree\n",
    "from sklearn import metrics\n",
    "\n",
    "# What is %matplotlib inline?\n",
    "# %matplotlib inline is a magic command in Jupyter notebooks that allows for the display of matplotlib plots inline within the notebook.\n",
    "# What is a magic command?\n",
    "# Magic commands are special commands in Jupyter notebooks that start with a % or %% and provide additional functionality to the notebook environment.\n",
    "%matplotlib inline\n",
    "\n",
    "import warnings\n",
    "warnings.filterwarnings('ignore')"
   ]
  },
  {
   "cell_type": "markdown",
   "id": "5daf21e1",
   "metadata": {},
   "source": [
    "## Accessing the data"
   ]
  },
  {
   "cell_type": "code",
   "execution_count": 61,
   "id": "91265280",
   "metadata": {},
   "outputs": [
    {
     "data": {
      "application/vnd.microsoft.datawrangler.viewer.v0+json": {
       "columns": [
        {
         "name": "index",
         "rawType": "int64",
         "type": "integer"
        },
        {
         "name": "#",
         "rawType": "int64",
         "type": "integer"
        },
        {
         "name": "Confidence",
         "rawType": "int64",
         "type": "integer"
        },
        {
         "name": "Likelihood",
         "rawType": "int64",
         "type": "integer"
        },
        {
         "name": "Engagement",
         "rawType": "int64",
         "type": "integer"
        }
       ],
       "conversionMethod": "pd.DataFrame",
       "ref": "c83a00f0-fe5e-4960-bc13-0100774730fa",
       "rows": [
        [
         "0",
         "1",
         "5",
         "4",
         "5"
        ],
        [
         "1",
         "2",
         "4",
         "3",
         "5"
        ],
        [
         "2",
         "3",
         "5",
         "3",
         "5"
        ],
        [
         "3",
         "4",
         "3",
         "3",
         "5"
        ],
        [
         "4",
         "5",
         "5",
         "5",
         "5"
        ],
        [
         "5",
         "6",
         "5",
         "5",
         "5"
        ],
        [
         "6",
         "7",
         "4",
         "3",
         "5"
        ],
        [
         "7",
         "8",
         "4",
         "3",
         "5"
        ],
        [
         "8",
         "9",
         "5",
         "4",
         "5"
        ],
        [
         "9",
         "10",
         "5",
         "3",
         "4"
        ],
        [
         "10",
         "11",
         "5",
         "4",
         "5"
        ],
        [
         "11",
         "12",
         "4",
         "3",
         "4"
        ],
        [
         "12",
         "13",
         "5",
         "4",
         "4"
        ],
        [
         "13",
         "14",
         "4",
         "2",
         "5"
        ],
        [
         "14",
         "15",
         "3",
         "2",
         "5"
        ],
        [
         "15",
         "16",
         "3",
         "3",
         "4"
        ],
        [
         "16",
         "17",
         "4",
         "2",
         "5"
        ],
        [
         "17",
         "18",
         "3",
         "1",
         "3"
        ],
        [
         "18",
         "19",
         "4",
         "3",
         "5"
        ],
        [
         "19",
         "20",
         "4",
         "5",
         "5"
        ],
        [
         "20",
         "21",
         "5",
         "4",
         "5"
        ],
        [
         "21",
         "22",
         "5",
         "4",
         "2"
        ],
        [
         "22",
         "23",
         "5",
         "5",
         "5"
        ],
        [
         "23",
         "24",
         "4",
         "5",
         "4"
        ],
        [
         "24",
         "25",
         "5",
         "3",
         "5"
        ],
        [
         "25",
         "26",
         "5",
         "4",
         "5"
        ],
        [
         "26",
         "27",
         "3",
         "2",
         "3"
        ],
        [
         "27",
         "28",
         "4",
         "2",
         "4"
        ],
        [
         "28",
         "29",
         "3",
         "3",
         "5"
        ],
        [
         "29",
         "30",
         "3",
         "4",
         "5"
        ],
        [
         "30",
         "31",
         "3",
         "3",
         "4"
        ],
        [
         "31",
         "32",
         "3",
         "4",
         "4"
        ],
        [
         "32",
         "33",
         "4",
         "3",
         "5"
        ],
        [
         "33",
         "34",
         "4",
         "4",
         "5"
        ],
        [
         "34",
         "35",
         "3",
         "3",
         "3"
        ],
        [
         "35",
         "36",
         "2",
         "3",
         "4"
        ],
        [
         "36",
         "37",
         "3",
         "2",
         "5"
        ],
        [
         "37",
         "38",
         "3",
         "3",
         "5"
        ],
        [
         "38",
         "39",
         "5",
         "5",
         "4"
        ],
        [
         "39",
         "40",
         "3",
         "2",
         "3"
        ],
        [
         "40",
         "41",
         "3",
         "4",
         "5"
        ],
        [
         "41",
         "42",
         "5",
         "3",
         "5"
        ],
        [
         "42",
         "43",
         "5",
         "5",
         "5"
        ],
        [
         "43",
         "44",
         "3",
         "3",
         "3"
        ],
        [
         "44",
         "45",
         "5",
         "3",
         "5"
        ],
        [
         "45",
         "46",
         "3",
         "3",
         "4"
        ],
        [
         "46",
         "47",
         "4",
         "3",
         "5"
        ],
        [
         "47",
         "48",
         "3",
         "4",
         "2"
        ],
        [
         "48",
         "49",
         "3",
         "4",
         "5"
        ],
        [
         "49",
         "50",
         "5",
         "5",
         "5"
        ]
       ],
       "shape": {
        "columns": 4,
        "rows": 755
       }
      },
      "text/html": [
       "<div>\n",
       "<style scoped>\n",
       "    .dataframe tbody tr th:only-of-type {\n",
       "        vertical-align: middle;\n",
       "    }\n",
       "\n",
       "    .dataframe tbody tr th {\n",
       "        vertical-align: top;\n",
       "    }\n",
       "\n",
       "    .dataframe thead th {\n",
       "        text-align: right;\n",
       "    }\n",
       "</style>\n",
       "<table border=\"1\" class=\"dataframe\">\n",
       "  <thead>\n",
       "    <tr style=\"text-align: right;\">\n",
       "      <th></th>\n",
       "      <th>#</th>\n",
       "      <th>Confidence</th>\n",
       "      <th>Likelihood</th>\n",
       "      <th>Engagement</th>\n",
       "    </tr>\n",
       "  </thead>\n",
       "  <tbody>\n",
       "    <tr>\n",
       "      <th>0</th>\n",
       "      <td>1</td>\n",
       "      <td>5</td>\n",
       "      <td>4</td>\n",
       "      <td>5</td>\n",
       "    </tr>\n",
       "    <tr>\n",
       "      <th>1</th>\n",
       "      <td>2</td>\n",
       "      <td>4</td>\n",
       "      <td>3</td>\n",
       "      <td>5</td>\n",
       "    </tr>\n",
       "    <tr>\n",
       "      <th>2</th>\n",
       "      <td>3</td>\n",
       "      <td>5</td>\n",
       "      <td>3</td>\n",
       "      <td>5</td>\n",
       "    </tr>\n",
       "    <tr>\n",
       "      <th>3</th>\n",
       "      <td>4</td>\n",
       "      <td>3</td>\n",
       "      <td>3</td>\n",
       "      <td>5</td>\n",
       "    </tr>\n",
       "    <tr>\n",
       "      <th>4</th>\n",
       "      <td>5</td>\n",
       "      <td>5</td>\n",
       "      <td>5</td>\n",
       "      <td>5</td>\n",
       "    </tr>\n",
       "    <tr>\n",
       "      <th>...</th>\n",
       "      <td>...</td>\n",
       "      <td>...</td>\n",
       "      <td>...</td>\n",
       "      <td>...</td>\n",
       "    </tr>\n",
       "    <tr>\n",
       "      <th>750</th>\n",
       "      <td>751</td>\n",
       "      <td>4</td>\n",
       "      <td>3</td>\n",
       "      <td>5</td>\n",
       "    </tr>\n",
       "    <tr>\n",
       "      <th>751</th>\n",
       "      <td>752</td>\n",
       "      <td>4</td>\n",
       "      <td>3</td>\n",
       "      <td>4</td>\n",
       "    </tr>\n",
       "    <tr>\n",
       "      <th>752</th>\n",
       "      <td>753</td>\n",
       "      <td>5</td>\n",
       "      <td>1</td>\n",
       "      <td>1</td>\n",
       "    </tr>\n",
       "    <tr>\n",
       "      <th>753</th>\n",
       "      <td>754</td>\n",
       "      <td>3</td>\n",
       "      <td>2</td>\n",
       "      <td>4</td>\n",
       "    </tr>\n",
       "    <tr>\n",
       "      <th>754</th>\n",
       "      <td>755</td>\n",
       "      <td>4</td>\n",
       "      <td>3</td>\n",
       "      <td>3</td>\n",
       "    </tr>\n",
       "  </tbody>\n",
       "</table>\n",
       "<p>755 rows × 4 columns</p>\n",
       "</div>"
      ],
      "text/plain": [
       "       #  Confidence  Likelihood  Engagement\n",
       "0      1           5           4           5\n",
       "1      2           4           3           5\n",
       "2      3           5           3           5\n",
       "3      4           3           3           5\n",
       "4      5           5           5           5\n",
       "..   ...         ...         ...         ...\n",
       "750  751           4           3           5\n",
       "751  752           4           3           4\n",
       "752  753           5           1           1\n",
       "753  754           3           2           4\n",
       "754  755           4           3           3\n",
       "\n",
       "[755 rows x 4 columns]"
      ]
     },
     "execution_count": 61,
     "metadata": {},
     "output_type": "execute_result"
    }
   ],
   "source": [
    "# Set path to the dataset\n",
    "path = \"..\\_program resources\\stemchats.csv\"\n",
    "\n",
    "#path = \"C:\\Users\\Andrew-John\\Documents\\Github\\codecademy-solutions\\Coursera Labs\\IBM AI Engineering\\_program resources\\My Own Tests\\K-Means Clustering Analysis Input Data.csv\"\n",
    "# Assign the path to a dataframe \n",
    "df = pd.read_csv(path)\n",
    "\n",
    "# Display the head and tail of the dataframe\n",
    "df"
   ]
  },
  {
   "cell_type": "markdown",
   "id": "5b4caa56",
   "metadata": {},
   "source": [
    "## Reviewing the data"
   ]
  },
  {
   "cell_type": "code",
   "execution_count": 62,
   "id": "63dbc09e",
   "metadata": {},
   "outputs": [
    {
     "name": "stdout",
     "output_type": "stream",
     "text": [
      "<class 'pandas.core.frame.DataFrame'>\n",
      "RangeIndex: 755 entries, 0 to 754\n",
      "Data columns (total 4 columns):\n",
      " #   Column      Non-Null Count  Dtype\n",
      "---  ------      --------------  -----\n",
      " 0   #           755 non-null    int64\n",
      " 1   Confidence  755 non-null    int64\n",
      " 2   Likelihood  755 non-null    int64\n",
      " 3   Engagement  755 non-null    int64\n",
      "dtypes: int64(4)\n",
      "memory usage: 23.7 KB\n"
     ]
    }
   ],
   "source": [
    "# Explore the dataset information\n",
    "# Note that in Dtype, 4 columns (sex, bp, cholesterol, and drug) are the object type\n",
    "# They are categorical variables that need to be converted to numerical values to be used in the model\n",
    "# The 'Drug' column is the target variable, so we will not convert it to numerical values\n",
    "df.info()"
   ]
  },
  {
   "cell_type": "markdown",
   "id": "aa61978c",
   "metadata": {},
   "source": [
    "## Preprocessing"
   ]
  },
  {
   "cell_type": "code",
   "execution_count": 63,
   "id": "d5488533",
   "metadata": {},
   "outputs": [
    {
     "data": {
      "application/vnd.microsoft.datawrangler.viewer.v0+json": {
       "columns": [
        {
         "name": "index",
         "rawType": "int64",
         "type": "integer"
        },
        {
         "name": "#",
         "rawType": "int64",
         "type": "integer"
        },
        {
         "name": "Confidence",
         "rawType": "int64",
         "type": "integer"
        },
        {
         "name": "Likelihood",
         "rawType": "int64",
         "type": "integer"
        },
        {
         "name": "Engagement",
         "rawType": "int64",
         "type": "integer"
        }
       ],
       "conversionMethod": "pd.DataFrame",
       "ref": "f720cccf-a1b0-4a09-8bcf-d0b4d854a3e2",
       "rows": [
        [
         "0",
         "1",
         "5",
         "4",
         "5"
        ],
        [
         "1",
         "2",
         "4",
         "3",
         "5"
        ],
        [
         "2",
         "3",
         "5",
         "3",
         "5"
        ],
        [
         "3",
         "4",
         "3",
         "3",
         "5"
        ],
        [
         "4",
         "5",
         "5",
         "5",
         "5"
        ],
        [
         "5",
         "6",
         "5",
         "5",
         "5"
        ],
        [
         "6",
         "7",
         "4",
         "3",
         "5"
        ],
        [
         "7",
         "8",
         "4",
         "3",
         "5"
        ],
        [
         "8",
         "9",
         "5",
         "4",
         "5"
        ],
        [
         "9",
         "10",
         "5",
         "3",
         "4"
        ],
        [
         "10",
         "11",
         "5",
         "4",
         "5"
        ],
        [
         "11",
         "12",
         "4",
         "3",
         "4"
        ],
        [
         "12",
         "13",
         "5",
         "4",
         "4"
        ],
        [
         "13",
         "14",
         "4",
         "2",
         "5"
        ],
        [
         "14",
         "15",
         "3",
         "2",
         "5"
        ],
        [
         "15",
         "16",
         "3",
         "3",
         "4"
        ],
        [
         "16",
         "17",
         "4",
         "2",
         "5"
        ],
        [
         "17",
         "18",
         "3",
         "1",
         "3"
        ],
        [
         "18",
         "19",
         "4",
         "3",
         "5"
        ],
        [
         "19",
         "20",
         "4",
         "5",
         "5"
        ],
        [
         "20",
         "21",
         "5",
         "4",
         "5"
        ],
        [
         "21",
         "22",
         "5",
         "4",
         "2"
        ],
        [
         "22",
         "23",
         "5",
         "5",
         "5"
        ],
        [
         "23",
         "24",
         "4",
         "5",
         "4"
        ],
        [
         "24",
         "25",
         "5",
         "3",
         "5"
        ],
        [
         "25",
         "26",
         "5",
         "4",
         "5"
        ],
        [
         "26",
         "27",
         "3",
         "2",
         "3"
        ],
        [
         "27",
         "28",
         "4",
         "2",
         "4"
        ],
        [
         "28",
         "29",
         "3",
         "3",
         "5"
        ],
        [
         "29",
         "30",
         "3",
         "4",
         "5"
        ],
        [
         "30",
         "31",
         "3",
         "3",
         "4"
        ],
        [
         "31",
         "32",
         "3",
         "4",
         "4"
        ],
        [
         "32",
         "33",
         "4",
         "3",
         "5"
        ],
        [
         "33",
         "34",
         "4",
         "4",
         "5"
        ],
        [
         "34",
         "35",
         "3",
         "3",
         "3"
        ],
        [
         "35",
         "36",
         "2",
         "3",
         "4"
        ],
        [
         "36",
         "37",
         "3",
         "2",
         "5"
        ],
        [
         "37",
         "38",
         "3",
         "3",
         "5"
        ],
        [
         "38",
         "39",
         "5",
         "5",
         "4"
        ],
        [
         "39",
         "40",
         "3",
         "2",
         "3"
        ],
        [
         "40",
         "41",
         "3",
         "4",
         "5"
        ],
        [
         "41",
         "42",
         "5",
         "3",
         "5"
        ],
        [
         "42",
         "43",
         "5",
         "5",
         "5"
        ],
        [
         "43",
         "44",
         "3",
         "3",
         "3"
        ],
        [
         "44",
         "45",
         "5",
         "3",
         "5"
        ],
        [
         "45",
         "46",
         "3",
         "3",
         "4"
        ],
        [
         "46",
         "47",
         "4",
         "3",
         "5"
        ],
        [
         "47",
         "48",
         "3",
         "4",
         "2"
        ],
        [
         "48",
         "49",
         "3",
         "4",
         "5"
        ],
        [
         "49",
         "50",
         "5",
         "5",
         "5"
        ]
       ],
       "shape": {
        "columns": 4,
        "rows": 755
       }
      },
      "text/html": [
       "<div>\n",
       "<style scoped>\n",
       "    .dataframe tbody tr th:only-of-type {\n",
       "        vertical-align: middle;\n",
       "    }\n",
       "\n",
       "    .dataframe tbody tr th {\n",
       "        vertical-align: top;\n",
       "    }\n",
       "\n",
       "    .dataframe thead th {\n",
       "        text-align: right;\n",
       "    }\n",
       "</style>\n",
       "<table border=\"1\" class=\"dataframe\">\n",
       "  <thead>\n",
       "    <tr style=\"text-align: right;\">\n",
       "      <th></th>\n",
       "      <th>#</th>\n",
       "      <th>Confidence</th>\n",
       "      <th>Likelihood</th>\n",
       "      <th>Engagement</th>\n",
       "    </tr>\n",
       "  </thead>\n",
       "  <tbody>\n",
       "    <tr>\n",
       "      <th>0</th>\n",
       "      <td>1</td>\n",
       "      <td>5</td>\n",
       "      <td>4</td>\n",
       "      <td>5</td>\n",
       "    </tr>\n",
       "    <tr>\n",
       "      <th>1</th>\n",
       "      <td>2</td>\n",
       "      <td>4</td>\n",
       "      <td>3</td>\n",
       "      <td>5</td>\n",
       "    </tr>\n",
       "    <tr>\n",
       "      <th>2</th>\n",
       "      <td>3</td>\n",
       "      <td>5</td>\n",
       "      <td>3</td>\n",
       "      <td>5</td>\n",
       "    </tr>\n",
       "    <tr>\n",
       "      <th>3</th>\n",
       "      <td>4</td>\n",
       "      <td>3</td>\n",
       "      <td>3</td>\n",
       "      <td>5</td>\n",
       "    </tr>\n",
       "    <tr>\n",
       "      <th>4</th>\n",
       "      <td>5</td>\n",
       "      <td>5</td>\n",
       "      <td>5</td>\n",
       "      <td>5</td>\n",
       "    </tr>\n",
       "    <tr>\n",
       "      <th>...</th>\n",
       "      <td>...</td>\n",
       "      <td>...</td>\n",
       "      <td>...</td>\n",
       "      <td>...</td>\n",
       "    </tr>\n",
       "    <tr>\n",
       "      <th>750</th>\n",
       "      <td>751</td>\n",
       "      <td>4</td>\n",
       "      <td>3</td>\n",
       "      <td>5</td>\n",
       "    </tr>\n",
       "    <tr>\n",
       "      <th>751</th>\n",
       "      <td>752</td>\n",
       "      <td>4</td>\n",
       "      <td>3</td>\n",
       "      <td>4</td>\n",
       "    </tr>\n",
       "    <tr>\n",
       "      <th>752</th>\n",
       "      <td>753</td>\n",
       "      <td>5</td>\n",
       "      <td>1</td>\n",
       "      <td>1</td>\n",
       "    </tr>\n",
       "    <tr>\n",
       "      <th>753</th>\n",
       "      <td>754</td>\n",
       "      <td>3</td>\n",
       "      <td>2</td>\n",
       "      <td>4</td>\n",
       "    </tr>\n",
       "    <tr>\n",
       "      <th>754</th>\n",
       "      <td>755</td>\n",
       "      <td>4</td>\n",
       "      <td>3</td>\n",
       "      <td>3</td>\n",
       "    </tr>\n",
       "  </tbody>\n",
       "</table>\n",
       "<p>755 rows × 4 columns</p>\n",
       "</div>"
      ],
      "text/plain": [
       "       #  Confidence  Likelihood  Engagement\n",
       "0      1           5           4           5\n",
       "1      2           4           3           5\n",
       "2      3           5           3           5\n",
       "3      4           3           3           5\n",
       "4      5           5           5           5\n",
       "..   ...         ...         ...         ...\n",
       "750  751           4           3           5\n",
       "751  752           4           3           4\n",
       "752  753           5           1           1\n",
       "753  754           3           2           4\n",
       "754  755           4           3           3\n",
       "\n",
       "[755 rows x 4 columns]"
      ]
     },
     "execution_count": 63,
     "metadata": {},
     "output_type": "execute_result"
    }
   ],
   "source": [
    "label_encoder = LabelEncoder()\n",
    "\n",
    "# Convert 3 of the 4 categorical variables to numerical values\n",
    "# df['Sex'] = label_encoder.fit_transform(df['Sex']) # for Sex, female is 0, male is 1\n",
    "# df['BP'] = label_encoder.fit_transform(df['BP']) # for BP, high is 0, low is 1, normal is 2 \n",
    "# df['Cholesterol'] = label_encoder.fit_transform(df['Cholesterol']) # for Cholesterol, high is 0, normal is 1\n",
    "\n",
    "# The 'Drug' column is the target variable, which will not be converted to numerical values, uncomment the following line if changing the target variable\n",
    "# df['Drug'] = label_encoder.fit_transform(df['Drug'])\n",
    "\n",
    "# Display the head and tail of the dataframe after conversion\n",
    "df"
   ]
  },
  {
   "cell_type": "code",
   "execution_count": 64,
   "id": "4a661a94",
   "metadata": {},
   "outputs": [
    {
     "data": {
      "text/plain": [
       "#             0\n",
       "Confidence    0\n",
       "Likelihood    0\n",
       "Engagement    0\n",
       "dtype: int64"
      ]
     },
     "execution_count": 64,
     "metadata": {},
     "output_type": "execute_result"
    }
   ],
   "source": [
    "# Check for missing values in the dataset\n",
    "df.isnull().sum() # No missing values in the original dataset, but drugNum is missing 23 values"
   ]
  },
  {
   "cell_type": "code",
   "execution_count": 65,
   "id": "52593803",
   "metadata": {},
   "outputs": [
    {
     "data": {
      "application/vnd.microsoft.datawrangler.viewer.v0+json": {
       "columns": [
        {
         "name": "index",
         "rawType": "int64",
         "type": "integer"
        },
        {
         "name": "#",
         "rawType": "int64",
         "type": "integer"
        },
        {
         "name": "Confidence",
         "rawType": "int64",
         "type": "integer"
        },
        {
         "name": "Likelihood",
         "rawType": "int64",
         "type": "integer"
        },
        {
         "name": "Engagement",
         "rawType": "int64",
         "type": "integer"
        }
       ],
       "conversionMethod": "pd.DataFrame",
       "ref": "d24a3411-78f3-43d5-9221-5bb349fba29d",
       "rows": [
        [
         "0",
         "1",
         "5",
         "4",
         "5"
        ],
        [
         "1",
         "2",
         "4",
         "3",
         "5"
        ],
        [
         "2",
         "3",
         "5",
         "3",
         "5"
        ],
        [
         "3",
         "4",
         "3",
         "3",
         "5"
        ],
        [
         "4",
         "5",
         "5",
         "5",
         "5"
        ],
        [
         "5",
         "6",
         "5",
         "5",
         "5"
        ],
        [
         "6",
         "7",
         "4",
         "3",
         "5"
        ],
        [
         "7",
         "8",
         "4",
         "3",
         "5"
        ],
        [
         "8",
         "9",
         "5",
         "4",
         "5"
        ],
        [
         "9",
         "10",
         "5",
         "3",
         "4"
        ],
        [
         "10",
         "11",
         "5",
         "4",
         "5"
        ],
        [
         "11",
         "12",
         "4",
         "3",
         "4"
        ],
        [
         "12",
         "13",
         "5",
         "4",
         "4"
        ],
        [
         "13",
         "14",
         "4",
         "2",
         "5"
        ],
        [
         "14",
         "15",
         "3",
         "2",
         "5"
        ],
        [
         "15",
         "16",
         "3",
         "3",
         "4"
        ],
        [
         "16",
         "17",
         "4",
         "2",
         "5"
        ],
        [
         "17",
         "18",
         "3",
         "1",
         "3"
        ],
        [
         "18",
         "19",
         "4",
         "3",
         "5"
        ],
        [
         "19",
         "20",
         "4",
         "5",
         "5"
        ],
        [
         "20",
         "21",
         "5",
         "4",
         "5"
        ],
        [
         "21",
         "22",
         "5",
         "4",
         "2"
        ],
        [
         "22",
         "23",
         "5",
         "5",
         "5"
        ],
        [
         "23",
         "24",
         "4",
         "5",
         "4"
        ],
        [
         "24",
         "25",
         "5",
         "3",
         "5"
        ],
        [
         "25",
         "26",
         "5",
         "4",
         "5"
        ],
        [
         "26",
         "27",
         "3",
         "2",
         "3"
        ],
        [
         "27",
         "28",
         "4",
         "2",
         "4"
        ],
        [
         "28",
         "29",
         "3",
         "3",
         "5"
        ],
        [
         "29",
         "30",
         "3",
         "4",
         "5"
        ],
        [
         "30",
         "31",
         "3",
         "3",
         "4"
        ],
        [
         "31",
         "32",
         "3",
         "4",
         "4"
        ],
        [
         "32",
         "33",
         "4",
         "3",
         "5"
        ],
        [
         "33",
         "34",
         "4",
         "4",
         "5"
        ],
        [
         "34",
         "35",
         "3",
         "3",
         "3"
        ],
        [
         "35",
         "36",
         "2",
         "3",
         "4"
        ],
        [
         "36",
         "37",
         "3",
         "2",
         "5"
        ],
        [
         "37",
         "38",
         "3",
         "3",
         "5"
        ],
        [
         "38",
         "39",
         "5",
         "5",
         "4"
        ],
        [
         "39",
         "40",
         "3",
         "2",
         "3"
        ],
        [
         "40",
         "41",
         "3",
         "4",
         "5"
        ],
        [
         "41",
         "42",
         "5",
         "3",
         "5"
        ],
        [
         "42",
         "43",
         "5",
         "5",
         "5"
        ],
        [
         "43",
         "44",
         "3",
         "3",
         "3"
        ],
        [
         "44",
         "45",
         "5",
         "3",
         "5"
        ],
        [
         "45",
         "46",
         "3",
         "3",
         "4"
        ],
        [
         "46",
         "47",
         "4",
         "3",
         "5"
        ],
        [
         "47",
         "48",
         "3",
         "4",
         "2"
        ],
        [
         "48",
         "49",
         "3",
         "4",
         "5"
        ],
        [
         "49",
         "50",
         "5",
         "5",
         "5"
        ]
       ],
       "shape": {
        "columns": 4,
        "rows": 755
       }
      },
      "text/html": [
       "<div>\n",
       "<style scoped>\n",
       "    .dataframe tbody tr th:only-of-type {\n",
       "        vertical-align: middle;\n",
       "    }\n",
       "\n",
       "    .dataframe tbody tr th {\n",
       "        vertical-align: top;\n",
       "    }\n",
       "\n",
       "    .dataframe thead th {\n",
       "        text-align: right;\n",
       "    }\n",
       "</style>\n",
       "<table border=\"1\" class=\"dataframe\">\n",
       "  <thead>\n",
       "    <tr style=\"text-align: right;\">\n",
       "      <th></th>\n",
       "      <th>#</th>\n",
       "      <th>Confidence</th>\n",
       "      <th>Likelihood</th>\n",
       "      <th>Engagement</th>\n",
       "    </tr>\n",
       "  </thead>\n",
       "  <tbody>\n",
       "    <tr>\n",
       "      <th>0</th>\n",
       "      <td>1</td>\n",
       "      <td>5</td>\n",
       "      <td>4</td>\n",
       "      <td>5</td>\n",
       "    </tr>\n",
       "    <tr>\n",
       "      <th>1</th>\n",
       "      <td>2</td>\n",
       "      <td>4</td>\n",
       "      <td>3</td>\n",
       "      <td>5</td>\n",
       "    </tr>\n",
       "    <tr>\n",
       "      <th>2</th>\n",
       "      <td>3</td>\n",
       "      <td>5</td>\n",
       "      <td>3</td>\n",
       "      <td>5</td>\n",
       "    </tr>\n",
       "    <tr>\n",
       "      <th>3</th>\n",
       "      <td>4</td>\n",
       "      <td>3</td>\n",
       "      <td>3</td>\n",
       "      <td>5</td>\n",
       "    </tr>\n",
       "    <tr>\n",
       "      <th>4</th>\n",
       "      <td>5</td>\n",
       "      <td>5</td>\n",
       "      <td>5</td>\n",
       "      <td>5</td>\n",
       "    </tr>\n",
       "    <tr>\n",
       "      <th>...</th>\n",
       "      <td>...</td>\n",
       "      <td>...</td>\n",
       "      <td>...</td>\n",
       "      <td>...</td>\n",
       "    </tr>\n",
       "    <tr>\n",
       "      <th>750</th>\n",
       "      <td>751</td>\n",
       "      <td>4</td>\n",
       "      <td>3</td>\n",
       "      <td>5</td>\n",
       "    </tr>\n",
       "    <tr>\n",
       "      <th>751</th>\n",
       "      <td>752</td>\n",
       "      <td>4</td>\n",
       "      <td>3</td>\n",
       "      <td>4</td>\n",
       "    </tr>\n",
       "    <tr>\n",
       "      <th>752</th>\n",
       "      <td>753</td>\n",
       "      <td>5</td>\n",
       "      <td>1</td>\n",
       "      <td>1</td>\n",
       "    </tr>\n",
       "    <tr>\n",
       "      <th>753</th>\n",
       "      <td>754</td>\n",
       "      <td>3</td>\n",
       "      <td>2</td>\n",
       "      <td>4</td>\n",
       "    </tr>\n",
       "    <tr>\n",
       "      <th>754</th>\n",
       "      <td>755</td>\n",
       "      <td>4</td>\n",
       "      <td>3</td>\n",
       "      <td>3</td>\n",
       "    </tr>\n",
       "  </tbody>\n",
       "</table>\n",
       "<p>755 rows × 4 columns</p>\n",
       "</div>"
      ],
      "text/plain": [
       "       #  Confidence  Likelihood  Engagement\n",
       "0      1           5           4           5\n",
       "1      2           4           3           5\n",
       "2      3           5           3           5\n",
       "3      4           3           3           5\n",
       "4      5           5           5           5\n",
       "..   ...         ...         ...         ...\n",
       "750  751           4           3           5\n",
       "751  752           4           3           4\n",
       "752  753           5           1           1\n",
       "753  754           3           2           4\n",
       "754  755           4           3           3\n",
       "\n",
       "[755 rows x 4 columns]"
      ]
     },
     "execution_count": 65,
     "metadata": {},
     "output_type": "execute_result"
    }
   ],
   "source": [
    "# Create a custom mapping for the 'Drug' column to convert it to numerical values\n",
    "# custom_map = {'drugA':0,'drugB':1,'drugC':2,'drugX':3,'drugY':4}\n",
    "\n",
    "# Map the 'Drug' column to numerical values using the custom mapping\n",
    "# df['Drug_num'] = df['Drug'].map(custom_map)\n",
    "\n",
    "# Display the head and tail of the dataframe after mapping\n",
    "df # Observe that the 'Drug_num' column is added to the dataframe with numerical values for the 'Drug' column"
   ]
  },
  {
   "cell_type": "code",
   "execution_count": 66,
   "id": "59b887e9",
   "metadata": {},
   "outputs": [
    {
     "data": {
      "text/plain": [
       "Engagement    1.000000\n",
       "Likelihood    0.303885\n",
       "Confidence    0.267056\n",
       "#            -0.040414\n",
       "Name: Engagement, dtype: float64"
      ]
     },
     "execution_count": 66,
     "metadata": {},
     "output_type": "execute_result"
    }
   ],
   "source": [
    "# Use the corr() method to check the correlation between the features and the target variable\n",
    "# Use numeric_only=True to ignore non-numeric columns such as instances of 'drugY'\n",
    "df.corr(numeric_only=True)['Engagement'].sort_values(ascending=False)\n",
    "\n",
    "# The correlation values are between -1 and 1 \n",
    "# -1 indicates a perfect negative correlation \n",
    "# 0 indicates no correlation.\n",
    "# 1 indicates a perfect positive correlation \n",
    "\n",
    "# Observe that Drug_num has relatively strong correlation with the features 'Cholesterol' and 'BP'"
   ]
  },
  {
   "cell_type": "code",
   "execution_count": 67,
   "id": "8424cf47",
   "metadata": {},
   "outputs": [
    {
     "data": {
      "image/png": "[encoded data removed]",
      "text/plain": [
       "<Figure size 640x480 with 1 Axes>"
      ]
     },
     "metadata": {},
     "output_type": "display_data"
    }
   ],
   "source": [
    "# Display the counts of each category in the 'Drug' column\n",
    "category_counts = df['Engagement'].value_counts()\n",
    "\n",
    "# Make a count plot\n",
    "plt.bar(category_counts.index, category_counts.values, color='blue')\n",
    "plt.xlabel('Engagement')\n",
    "plt.ylabel('Count')\n",
    "plt.title('Category Distribution')\n",
    "plt.xticks(rotation=45)\n",
    "plt.show()\n",
    "\n",
    "# Observe that drugY and drugX  are the most common categories, while drugB is the least common category"
   ]
  },
  {
   "cell_type": "code",
   "execution_count": 68,
   "id": "fbd768ee",
   "metadata": {},
   "outputs": [
    {
     "data": {
      "text/plain": [
       "<Axes: >"
      ]
     },
     "execution_count": 68,
     "metadata": {},
     "output_type": "execute_result"
    },
    {
     "data": {
      "image/png": "[encoded data removed]",
      "text/plain": [
       "<Figure size 1000x600 with 1 Axes>"
      ]
     },
     "metadata": {},
     "output_type": "display_data"
    }
   ],
   "source": [
    "# Using tip_amount as the target variable and assessing correltion\n",
    "correlation_values = df.corr()['Engagement'].drop(['Engagement',\"#\"])\n",
    "# Plotting the correlation values to identify the most and least correlated features\n",
    "correlation_values.plot(kind='barh',figsize=(10,6))"
   ]
  },
  {
   "cell_type": "markdown",
   "id": "d5eec95e",
   "metadata": {},
   "source": [
    "## Modeling"
   ]
  },
  {
   "cell_type": "code",
   "execution_count": 69,
   "id": "de1b2717",
   "metadata": {},
   "outputs": [],
   "source": [
    "# Separate the features and target variable\n",
    "# The target variable is 'Drug', and the features are all other columns except 'Drug' and 'Drug_num'\n",
    "y = df['Engagement'] # target variable\n",
    "X = df.drop(['Engagement', '#'], axis=1) # features; axis=1 to drop columns, axis=0 to drop rows"
   ]
  },
  {
   "cell_type": "code",
   "execution_count": 70,
   "id": "f6bba967",
   "metadata": {},
   "outputs": [],
   "source": [
    "# Separate the training and testing data with 30% of the data for testing and 70% for training\n",
    "# The random_state parameter is set to 32 for reproducibility\n",
    "X_trainset, X_testset, y_trainset, y_testset = train_test_split(X, y, test_size=0.3, random_state=32)"
   ]
  },
  {
   "cell_type": "code",
   "execution_count": 94,
   "id": "15a97531",
   "metadata": {},
   "outputs": [],
   "source": [
    "# Define and train the Decision Tree Classifier\n",
    "# The criterion is set to 'entropy' for information gain (a measure of the reduction in uncertainty about the target variable after observing the feature)\n",
    "# The max_depth parameter is set to 4 to limit the depth of the tree and prevent overfitting\n",
    "engagementTree = DecisionTreeClassifier(criterion='entropy', max_depth=3)"
   ]
  },
  {
   "cell_type": "code",
   "execution_count": 72,
   "id": "4c51ca90",
   "metadata": {},
   "outputs": [
    {
     "data": {
      "text/html": [
       "<style>#sk-container-id-3 {\n",
       "  /* Definition of color scheme common for light and dark mode */\n",
       "  --sklearn-color-text: #000;\n",
       "  --sklearn-color-text-muted: #666;\n",
       "  --sklearn-color-line: gray;\n",
       "  /* Definition of color scheme for unfitted estimators */\n",
       "  --sklearn-color-unfitted-level-0: #fff5e6;\n",
       "  --sklearn-color-unfitted-level-1: #f6e4d2;\n",
       "  --sklearn-color-unfitted-level-2: #ffe0b3;\n",
       "  --sklearn-color-unfitted-level-3: chocolate;\n",
       "  /* Definition of color scheme for fitted estimators */\n",
       "  --sklearn-color-fitted-level-0: #f0f8ff;\n",
       "  --sklearn-color-fitted-level-1: #d4ebff;\n",
       "  --sklearn-color-fitted-level-2: #b3dbfd;\n",
       "  --sklearn-color-fitted-level-3: cornflowerblue;\n",
       "\n",
       "  /* Specific color for light theme */\n",
       "  --sklearn-color-text-on-default-background: var(--sg-text-color, var(--theme-code-foreground, var(--jp-content-font-color1, black)));\n",
       "  --sklearn-color-background: var(--sg-background-color, var(--theme-background, var(--jp-layout-color0, white)));\n",
       "  --sklearn-color-border-box: var(--sg-text-color, var(--theme-code-foreground, var(--jp-content-font-color1, black)));\n",
       "  --sklearn-color-icon: #696969;\n",
       "\n",
       "  @media (prefers-color-scheme: dark) {\n",
       "    /* Redefinition of color scheme for dark theme */\n",
       "    --sklearn-color-text-on-default-background: var(--sg-text-color, var(--theme-code-foreground, var(--jp-content-font-color1, white)));\n",
       "    --sklearn-color-background: var(--sg-background-color, var(--theme-background, var(--jp-layout-color0, #111)));\n",
       "    --sklearn-color-border-box: var(--sg-text-color, var(--theme-code-foreground, var(--jp-content-font-color1, white)));\n",
       "    --sklearn-color-icon: #878787;\n",
       "  }\n",
       "}\n",
       "\n",
       "#sk-container-id-3 {\n",
       "  color: var(--sklearn-color-text);\n",
       "}\n",
       "\n",
       "#sk-container-id-3 pre {\n",
       "  padding: 0;\n",
       "}\n",
       "\n",
       "#sk-container-id-3 input.sk-hidden--visually {\n",
       "  border: 0;\n",
       "  clip: rect(1px 1px 1px 1px);\n",
       "  clip: rect(1px, 1px, 1px, 1px);\n",
       "  height: 1px;\n",
       "  margin: -1px;\n",
       "  overflow: hidden;\n",
       "  padding: 0;\n",
       "  position: absolute;\n",
       "  width: 1px;\n",
       "}\n",
       "\n",
       "#sk-container-id-3 div.sk-dashed-wrapped {\n",
       "  border: 1px dashed var(--sklearn-color-line);\n",
       "  margin: 0 0.4em 0.5em 0.4em;\n",
       "  box-sizing: border-box;\n",
       "  padding-bottom: 0.4em;\n",
       "  background-color: var(--sklearn-color-background);\n",
       "}\n",
       "\n",
       "#sk-container-id-3 div.sk-container {\n",
       "  /* jupyter's `normalize.less` sets `[hidden] { display: none; }`\n",
       "     but bootstrap.min.css set `[hidden] { display: none !important; }`\n",
       "     so we also need the `!important` here to be able to override the\n",
       "     default hidden behavior on the sphinx rendered scikit-learn.org.\n",
       "     See: https://github.com/scikit-learn/scikit-learn/issues/21755 */\n",
       "  display: inline-block !important;\n",
       "  position: relative;\n",
       "}\n",
       "\n",
       "#sk-container-id-3 div.sk-text-repr-fallback {\n",
       "  display: none;\n",
       "}\n",
       "\n",
       "div.sk-parallel-item,\n",
       "div.sk-serial,\n",
       "div.sk-item {\n",
       "  /* draw centered vertical line to link estimators */\n",
       "  background-image: linear-gradient(var(--sklearn-color-text-on-default-background), var(--sklearn-color-text-on-default-background));\n",
       "  background-size: 2px 100%;\n",
       "  background-repeat: no-repeat;\n",
       "  background-position: center center;\n",
       "}\n",
       "\n",
       "/* Parallel-specific style estimator block */\n",
       "\n",
       "#sk-container-id-3 div.sk-parallel-item::after {\n",
       "  content: \"\";\n",
       "  width: 100%;\n",
       "  border-bottom: 2px solid var(--sklearn-color-text-on-default-background);\n",
       "  flex-grow: 1;\n",
       "}\n",
       "\n",
       "#sk-container-id-3 div.sk-parallel {\n",
       "  display: flex;\n",
       "  align-items: stretch;\n",
       "  justify-content: center;\n",
       "  background-color: var(--sklearn-color-background);\n",
       "  position: relative;\n",
       "}\n",
       "\n",
       "#sk-container-id-3 div.sk-parallel-item {\n",
       "  display: flex;\n",
       "  flex-direction: column;\n",
       "}\n",
       "\n",
       "#sk-container-id-3 div.sk-parallel-item:first-child::after {\n",
       "  align-self: flex-end;\n",
       "  width: 50%;\n",
       "}\n",
       "\n",
       "#sk-container-id-3 div.sk-parallel-item:last-child::after {\n",
       "  align-self: flex-start;\n",
       "  width: 50%;\n",
       "}\n",
       "\n",
       "#sk-container-id-3 div.sk-parallel-item:only-child::after {\n",
       "  width: 0;\n",
       "}\n",
       "\n",
       "/* Serial-specific style estimator block */\n",
       "\n",
       "#sk-container-id-3 div.sk-serial {\n",
       "  display: flex;\n",
       "  flex-direction: column;\n",
       "  align-items: center;\n",
       "  background-color: var(--sklearn-color-background);\n",
       "  padding-right: 1em;\n",
       "  padding-left: 1em;\n",
       "}\n",
       "\n",
       "\n",
       "/* Toggleable style: style used for estimator/Pipeline/ColumnTransformer box that is\n",
       "clickable and can be expanded/collapsed.\n",
       "- Pipeline and ColumnTransformer use this feature and define the default style\n",
       "- Estimators will overwrite some part of the style using the `sk-estimator` class\n",
       "*/\n",
       "\n",
       "/* Pipeline and ColumnTransformer style (default) */\n",
       "\n",
       "#sk-container-id-3 div.sk-toggleable {\n",
       "  /* Default theme specific background. It is overwritten whether we have a\n",
       "  specific estimator or a Pipeline/ColumnTransformer */\n",
       "  background-color: var(--sklearn-color-background);\n",
       "}\n",
       "\n",
       "/* Toggleable label */\n",
       "#sk-container-id-3 label.sk-toggleable__label {\n",
       "  cursor: pointer;\n",
       "  display: flex;\n",
       "  width: 100%;\n",
       "  margin-bottom: 0;\n",
       "  padding: 0.5em;\n",
       "  box-sizing: border-box;\n",
       "  text-align: center;\n",
       "  align-items: start;\n",
       "  justify-content: space-between;\n",
       "  gap: 0.5em;\n",
       "}\n",
       "\n",
       "#sk-container-id-3 label.sk-toggleable__label .caption {\n",
       "  font-size: 0.6rem;\n",
       "  font-weight: lighter;\n",
       "  color: var(--sklearn-color-text-muted);\n",
       "}\n",
       "\n",
       "#sk-container-id-3 label.sk-toggleable__label-arrow:before {\n",
       "  /* Arrow on the left of the label */\n",
       "  content: \"▸\";\n",
       "  float: left;\n",
       "  margin-right: 0.25em;\n",
       "  color: var(--sklearn-color-icon);\n",
       "}\n",
       "\n",
       "#sk-container-id-3 label.sk-toggleable__label-arrow:hover:before {\n",
       "  color: var(--sklearn-color-text);\n",
       "}\n",
       "\n",
       "/* Toggleable content - dropdown */\n",
       "\n",
       "#sk-container-id-3 div.sk-toggleable__content {\n",
       "  max-height: 0;\n",
       "  max-width: 0;\n",
       "  overflow: hidden;\n",
       "  text-align: left;\n",
       "  /* unfitted */\n",
       "  background-color: var(--sklearn-color-unfitted-level-0);\n",
       "}\n",
       "\n",
       "#sk-container-id-3 div.sk-toggleable__content.fitted {\n",
       "  /* fitted */\n",
       "  background-color: var(--sklearn-color-fitted-level-0);\n",
       "}\n",
       "\n",
       "#sk-container-id-3 div.sk-toggleable__content pre {\n",
       "  margin: 0.2em;\n",
       "  border-radius: 0.25em;\n",
       "  color: var(--sklearn-color-text);\n",
       "  /* unfitted */\n",
       "  background-color: var(--sklearn-color-unfitted-level-0);\n",
       "}\n",
       "\n",
       "#sk-container-id-3 div.sk-toggleable__content.fitted pre {\n",
       "  /* unfitted */\n",
       "  background-color: var(--sklearn-color-fitted-level-0);\n",
       "}\n",
       "\n",
       "#sk-container-id-3 input.sk-toggleable__control:checked~div.sk-toggleable__content {\n",
       "  /* Expand drop-down */\n",
       "  max-height: 200px;\n",
       "  max-width: 100%;\n",
       "  overflow: auto;\n",
       "}\n",
       "\n",
       "#sk-container-id-3 input.sk-toggleable__control:checked~label.sk-toggleable__label-arrow:before {\n",
       "  content: \"▾\";\n",
       "}\n",
       "\n",
       "/* Pipeline/ColumnTransformer-specific style */\n",
       "\n",
       "#sk-container-id-3 div.sk-label input.sk-toggleable__control:checked~label.sk-toggleable__label {\n",
       "  color: var(--sklearn-color-text);\n",
       "  background-color: var(--sklearn-color-unfitted-level-2);\n",
       "}\n",
       "\n",
       "#sk-container-id-3 div.sk-label.fitted input.sk-toggleable__control:checked~label.sk-toggleable__label {\n",
       "  background-color: var(--sklearn-color-fitted-level-2);\n",
       "}\n",
       "\n",
       "/* Estimator-specific style */\n",
       "\n",
       "/* Colorize estimator box */\n",
       "#sk-container-id-3 div.sk-estimator input.sk-toggleable__control:checked~label.sk-toggleable__label {\n",
       "  /* unfitted */\n",
       "  background-color: var(--sklearn-color-unfitted-level-2);\n",
       "}\n",
       "\n",
       "#sk-container-id-3 div.sk-estimator.fitted input.sk-toggleable__control:checked~label.sk-toggleable__label {\n",
       "  /* fitted */\n",
       "  background-color: var(--sklearn-color-fitted-level-2);\n",
       "}\n",
       "\n",
       "#sk-container-id-3 div.sk-label label.sk-toggleable__label,\n",
       "#sk-container-id-3 div.sk-label label {\n",
       "  /* The background is the default theme color */\n",
       "  color: var(--sklearn-color-text-on-default-background);\n",
       "}\n",
       "\n",
       "/* On hover, darken the color of the background */\n",
       "#sk-container-id-3 div.sk-label:hover label.sk-toggleable__label {\n",
       "  color: var(--sklearn-color-text);\n",
       "  background-color: var(--sklearn-color-unfitted-level-2);\n",
       "}\n",
       "\n",
       "/* Label box, darken color on hover, fitted */\n",
       "#sk-container-id-3 div.sk-label.fitted:hover label.sk-toggleable__label.fitted {\n",
       "  color: var(--sklearn-color-text);\n",
       "  background-color: var(--sklearn-color-fitted-level-2);\n",
       "}\n",
       "\n",
       "/* Estimator label */\n",
       "\n",
       "#sk-container-id-3 div.sk-label label {\n",
       "  font-family: monospace;\n",
       "  font-weight: bold;\n",
       "  display: inline-block;\n",
       "  line-height: 1.2em;\n",
       "}\n",
       "\n",
       "#sk-container-id-3 div.sk-label-container {\n",
       "  text-align: center;\n",
       "}\n",
       "\n",
       "/* Estimator-specific */\n",
       "#sk-container-id-3 div.sk-estimator {\n",
       "  font-family: monospace;\n",
       "  border: 1px dotted var(--sklearn-color-border-box);\n",
       "  border-radius: 0.25em;\n",
       "  box-sizing: border-box;\n",
       "  margin-bottom: 0.5em;\n",
       "  /* unfitted */\n",
       "  background-color: var(--sklearn-color-unfitted-level-0);\n",
       "}\n",
       "\n",
       "#sk-container-id-3 div.sk-estimator.fitted {\n",
       "  /* fitted */\n",
       "  background-color: var(--sklearn-color-fitted-level-0);\n",
       "}\n",
       "\n",
       "/* on hover */\n",
       "#sk-container-id-3 div.sk-estimator:hover {\n",
       "  /* unfitted */\n",
       "  background-color: var(--sklearn-color-unfitted-level-2);\n",
       "}\n",
       "\n",
       "#sk-container-id-3 div.sk-estimator.fitted:hover {\n",
       "  /* fitted */\n",
       "  background-color: var(--sklearn-color-fitted-level-2);\n",
       "}\n",
       "\n",
       "/* Specification for estimator info (e.g. \"i\" and \"?\") */\n",
       "\n",
       "/* Common style for \"i\" and \"?\" */\n",
       "\n",
       ".sk-estimator-doc-link,\n",
       "a:link.sk-estimator-doc-link,\n",
       "a:visited.sk-estimator-doc-link {\n",
       "  float: right;\n",
       "  font-size: smaller;\n",
       "  line-height: 1em;\n",
       "  font-family: monospace;\n",
       "  background-color: var(--sklearn-color-background);\n",
       "  border-radius: 1em;\n",
       "  height: 1em;\n",
       "  width: 1em;\n",
       "  text-decoration: none !important;\n",
       "  margin-left: 0.5em;\n",
       "  text-align: center;\n",
       "  /* unfitted */\n",
       "  border: var(--sklearn-color-unfitted-level-1) 1pt solid;\n",
       "  color: var(--sklearn-color-unfitted-level-1);\n",
       "}\n",
       "\n",
       ".sk-estimator-doc-link.fitted,\n",
       "a:link.sk-estimator-doc-link.fitted,\n",
       "a:visited.sk-estimator-doc-link.fitted {\n",
       "  /* fitted */\n",
       "  border: var(--sklearn-color-fitted-level-1) 1pt solid;\n",
       "  color: var(--sklearn-color-fitted-level-1);\n",
       "}\n",
       "\n",
       "/* On hover */\n",
       "div.sk-estimator:hover .sk-estimator-doc-link:hover,\n",
       ".sk-estimator-doc-link:hover,\n",
       "div.sk-label-container:hover .sk-estimator-doc-link:hover,\n",
       ".sk-estimator-doc-link:hover {\n",
       "  /* unfitted */\n",
       "  background-color: var(--sklearn-color-unfitted-level-3);\n",
       "  color: var(--sklearn-color-background);\n",
       "  text-decoration: none;\n",
       "}\n",
       "\n",
       "div.sk-estimator.fitted:hover .sk-estimator-doc-link.fitted:hover,\n",
       ".sk-estimator-doc-link.fitted:hover,\n",
       "div.sk-label-container:hover .sk-estimator-doc-link.fitted:hover,\n",
       ".sk-estimator-doc-link.fitted:hover {\n",
       "  /* fitted */\n",
       "  background-color: var(--sklearn-color-fitted-level-3);\n",
       "  color: var(--sklearn-color-background);\n",
       "  text-decoration: none;\n",
       "}\n",
       "\n",
       "/* Span, style for the box shown on hovering the info icon */\n",
       ".sk-estimator-doc-link span {\n",
       "  display: none;\n",
       "  z-index: 9999;\n",
       "  position: relative;\n",
       "  font-weight: normal;\n",
       "  right: .2ex;\n",
       "  padding: .5ex;\n",
       "  margin: .5ex;\n",
       "  width: min-content;\n",
       "  min-width: 20ex;\n",
       "  max-width: 50ex;\n",
       "  color: var(--sklearn-color-text);\n",
       "  box-shadow: 2pt 2pt 4pt #999;\n",
       "  /* unfitted */\n",
       "  background: var(--sklearn-color-unfitted-level-0);\n",
       "  border: .5pt solid var(--sklearn-color-unfitted-level-3);\n",
       "}\n",
       "\n",
       ".sk-estimator-doc-link.fitted span {\n",
       "  /* fitted */\n",
       "  background: var(--sklearn-color-fitted-level-0);\n",
       "  border: var(--sklearn-color-fitted-level-3);\n",
       "}\n",
       "\n",
       ".sk-estimator-doc-link:hover span {\n",
       "  display: block;\n",
       "}\n",
       "\n",
       "/* \"?\"-specific style due to the `<a>` HTML tag */\n",
       "\n",
       "#sk-container-id-3 a.estimator_doc_link {\n",
       "  float: right;\n",
       "  font-size: 1rem;\n",
       "  line-height: 1em;\n",
       "  font-family: monospace;\n",
       "  background-color: var(--sklearn-color-background);\n",
       "  border-radius: 1rem;\n",
       "  height: 1rem;\n",
       "  width: 1rem;\n",
       "  text-decoration: none;\n",
       "  /* unfitted */\n",
       "  color: var(--sklearn-color-unfitted-level-1);\n",
       "  border: var(--sklearn-color-unfitted-level-1) 1pt solid;\n",
       "}\n",
       "\n",
       "#sk-container-id-3 a.estimator_doc_link.fitted {\n",
       "  /* fitted */\n",
       "  border: var(--sklearn-color-fitted-level-1) 1pt solid;\n",
       "  color: var(--sklearn-color-fitted-level-1);\n",
       "}\n",
       "\n",
       "/* On hover */\n",
       "#sk-container-id-3 a.estimator_doc_link:hover {\n",
       "  /* unfitted */\n",
       "  background-color: var(--sklearn-color-unfitted-level-3);\n",
       "  color: var(--sklearn-color-background);\n",
       "  text-decoration: none;\n",
       "}\n",
       "\n",
       "#sk-container-id-3 a.estimator_doc_link.fitted:hover {\n",
       "  /* fitted */\n",
       "  background-color: var(--sklearn-color-fitted-level-3);\n",
       "}\n",
       "</style><div id=\"sk-container-id-3\" class=\"sk-top-container\"><div class=\"sk-text-repr-fallback\"><pre>DecisionTreeClassifier(criterion=&#x27;entropy&#x27;, max_depth=3)</pre><b>In a Jupyter environment, please rerun this cell to show the HTML representation or trust the notebook. <br />On GitHub, the HTML representation is unable to render, please try loading this page with nbviewer.org.</b></div><div class=\"sk-container\" hidden><div class=\"sk-item\"><div class=\"sk-estimator fitted sk-toggleable\"><input class=\"sk-toggleable__control sk-hidden--visually\" id=\"sk-estimator-id-3\" type=\"checkbox\" checked><label for=\"sk-estimator-id-3\" class=\"sk-toggleable__label fitted sk-toggleable__label-arrow\"><div><div>DecisionTreeClassifier</div></div><div><a class=\"sk-estimator-doc-link fitted\" rel=\"noreferrer\" target=\"_blank\" href=\"https://scikit-learn.org/1.6/modules/generated/sklearn.tree.DecisionTreeClassifier.html\">?<span>Documentation for DecisionTreeClassifier</span></a><span class=\"sk-estimator-doc-link fitted\">i<span>Fitted</span></span></div></label><div class=\"sk-toggleable__content fitted\"><pre>DecisionTreeClassifier(criterion=&#x27;entropy&#x27;, max_depth=3)</pre></div> </div></div></div></div>"
      ],
      "text/plain": [
       "DecisionTreeClassifier(criterion='entropy', max_depth=3)"
      ]
     },
     "execution_count": 72,
     "metadata": {},
     "output_type": "execute_result"
    }
   ],
   "source": [
    "# Train the model using the training data with fit()\n",
    "# The fit() method is used to train the decision tree model on the training data\n",
    "# The first argument is the features (X_trainset) and the second argument is the target variable (y_trainset)\n",
    "engagementTree.fit(X_trainset, y_trainset)"
   ]
  },
  {
   "cell_type": "markdown",
   "id": "b488dd42",
   "metadata": {},
   "source": [
    "## Evaluation"
   ]
  },
  {
   "cell_type": "code",
   "execution_count": 73,
   "id": "501aa226",
   "metadata": {},
   "outputs": [],
   "source": [
    "# Generate predictions using the testing data with predict()\n",
    "engagement_predictions = engagementTree.predict(X_testset)\n",
    "\n",
    "# The predict() method is used to make predictions on the testing data (X_testset) using the trained decision tree model"
   ]
  },
  {
   "cell_type": "code",
   "execution_count": 74,
   "id": "0771a360",
   "metadata": {},
   "outputs": [
    {
     "name": "stdout",
     "output_type": "stream",
     "text": [
      "Decision Tree's Accuracy:  0.6343612334801763\n"
     ]
    }
   ],
   "source": [
    "# Check the accuracy of the model using accuracy_score()\n",
    "# The accuracy_score() function is used to calculate the accuracy of the model by comparing the predicted values (tree_predictions) with the actual values (y_testset)\n",
    "print(\"Decision Tree's Accuracy: \", metrics.accuracy_score(y_testset, engagement_predictions))\n",
    "\n",
    "# The accuracy score is a measure of how well the model performed on the testing data\n",
    "# The accuracy score is the ratio of the number of correct predictions to the total number of predictions made by the model\n",
    "# Metrics is a module in scikit-learn that provides functions to evaluate the performance of machine learning models\n",
    "# The accuracy score is a value between 0 and 1, where 1 indicates perfect accuracy and 0 indicates no accuracy"
   ]
  },
  {
   "cell_type": "markdown",
   "id": "bda22bfd",
   "metadata": {},
   "source": [
    "## Visualization"
   ]
  },
  {
   "cell_type": "code",
   "execution_count": 75,
   "id": "704c83b0",
   "metadata": {},
   "outputs": [
    {
     "data": {
      "image/png": "[encoded data removed]",
      "text/plain": [
       "<Figure size 4000x1000 with 1 Axes>"
      ]
     },
     "metadata": {},
     "output_type": "display_data"
    }
   ],
   "source": [
    "# Generate the tree plot\n",
    "plt.figure(figsize=(40,10)) # figsize=(width, height)\n",
    "plot_tree(engagementTree, feature_names=['Confidence','Likelihood'], fontsize=12)\n",
    "plt.show()"
   ]
  },
  {
   "cell_type": "markdown",
   "id": "8de77b53",
   "metadata": {},
   "source": [
    "## Explaining the visualization "
   ]
  },
  {
   "cell_type": "markdown",
   "id": "ce70956a",
   "metadata": {},
   "source": [
    "The plot_tree() function is used to visualize the decision tree model\n",
    "\n",
    "The tree plot shows: \n",
    "\n",
    "1) the structure of the decision tree \n",
    "2) the features used for splitting \n",
    "3) the thresholds for splitting\n",
    "4) the predicted class labels at each leaf node\n",
    "\n",
    "The plot_tree() function is a useful tool for understanding how the decision tree model makes predictions based on the input features\n",
    "\n",
    "Let's break down the syntax:\n",
    "\n",
    "1) x[0] <= 50.5: This means that the first feature (x[0], Age) is less than or equal to 50.5.\n",
    "2) entropy: This is the criterion used for splitting the data at this node.\n",
    "2.1) The entropy is a measure of the impurity or disorder of the data at this node.\n",
    "2.2) A lower entropy value indicates that the data is more pure or homogeneous, while a higher entropy value indicates that the data is more impure or heterogeneous.\n",
    "2.3) The entropy is calculated based on the class distribution of the samples at this node.\n",
    "2.4) The entropy is used to determine the best feature and threshold for splitting the data at this node.\n",
    "3) samples: 100: This indicates that there are 100 samples (data points) at this node.\n",
    "4) value: [0, 0, 0, 0, 63]: This indicates the predicted class distribution at this node. In this example, all samples belong to class 4 (drugY)."
   ]
  },
  {
   "cell_type": "markdown",
   "id": "5440ef30",
   "metadata": {},
   "source": [
    "## What if Max Depth of 3 (instead of the original 4)?"
   ]
  },
  {
   "cell_type": "code",
   "execution_count": 93,
   "id": "78f548eb",
   "metadata": {},
   "outputs": [
    {
     "name": "stdout",
     "output_type": "stream",
     "text": [
      "Decision Tree's Accuracy:  0.6343612334801763\n"
     ]
    },
    {
     "data": {
      "image/png": "[encoded data removed]",
      "text/plain": [
       "<Figure size 640x480 with 1 Axes>"
      ]
     },
     "metadata": {},
     "output_type": "display_data"
    }
   ],
   "source": [
    "engagementTree = DecisionTreeClassifier(criterion='entropy', max_depth=3) # Decrease max_depth to 3, observe that when trying various values from 1 to 12, accuracy peaked at 3 and then decreases beyond 3 (i.e, 4, 8, 12)\n",
    "engagementTree.fit(X_trainset, y_trainset)\n",
    "tree_predictions = engagementTree.predict(X_testset)\n",
    "print(\"Decision Tree's Accuracy: \", metrics.accuracy_score(y_testset, tree_predictions))\n",
    "\n",
    "plot_tree(engagementTree)\n",
    "plt.show()"
   ]
  },
  {
   "cell_type": "markdown",
   "id": "5b98815d",
   "metadata": {},
   "source": [
    "If using a Max Depth of 3 instead of the original 4, then the accuracy of the model goes down by about 17%."
   ]
  },
  {
   "cell_type": "markdown",
   "id": "f767c5e1",
   "metadata": {},
   "source": [
    "## What if 5?"
   ]
  },
  {
   "cell_type": "code",
   "execution_count": 77,
   "id": "5e4aab42",
   "metadata": {},
   "outputs": [
    {
     "name": "stdout",
     "output_type": "stream",
     "text": [
      "Decision Tree's Accuracy:  0.6167400881057269\n"
     ]
    },
    {
     "data": {
      "image/png": "[encoded data removed]",
      "text/plain": [
       "<Figure size 640x480 with 1 Axes>"
      ]
     },
     "metadata": {},
     "output_type": "display_data"
    }
   ],
   "source": [
    "engagementTree = DecisionTreeClassifier(criterion='entropy', max_depth=4) # Increase max_depth to 5\n",
    "engagementTree.fit(X_trainset, y_trainset)\n",
    "tree_predictions = engagementTree.predict(X_testset)\n",
    "print(\"Decision Tree's Accuracy: \", metrics.accuracy_score(y_testset, tree_predictions))\n",
    "\n",
    "plot_tree(engagementTree)\n",
    "plt.show()\n",
    "\n",
    "# Observe that the max_depth of 4 is the best value for this dataset\n",
    "# Higher max_depth values do not show significant (if any) improvement in accuracy"
   ]
  }
 ],
 "metadata": {
  "kernelspec": {
   "display_name": "Python 3",
   "language": "python",
   "name": "python3"
  },
  "language_info": {
   "codemirror_mode": {
    "name": "ipython",
    "version": 3
   },
   "file_extension": ".py",
   "mimetype": "text/x-python",
   "name": "python",
   "nbconvert_exporter": "python",
   "pygments_lexer": "ipython3",
   "version": "3.11.2"
  }
 },
 "nbformat": 4,
 "nbformat_minor": 5
}
